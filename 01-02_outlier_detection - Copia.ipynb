{
 "cells": [
  {
   "cell_type": "code",
   "execution_count": 1,
   "metadata": {},
   "outputs": [],
   "source": [
    "%matplotlib inline\n",
    "\n",
    "import numpy as np\n",
    "import pandas as pd\n",
    "import seaborn as sns\n",
    "import matplotlib.pyplot as plt\n",
    "\n",
    "from collections import Counter\n",
    "from collections import defaultdict\n",
    "from sklearn.preprocessing import LabelEncoder, StandardScaler\n",
    "from sklearn.model_selection import train_test_split, cross_val_score \n",
    "\n",
    "from sklearn.metrics import accuracy_score, f1_score, classification_report\n",
    "from sklearn.metrics import roc_curve, auc, roc_auc_score\n",
    "from sklearn.model_selection import train_test_split, cross_val_score \n",
    "from sklearn.preprocessing import StandardScaler, MinMaxScaler"
   ]
  },
  {
   "cell_type": "code",
   "execution_count": 2,
   "metadata": {},
   "outputs": [
    {
     "data": {
      "text/plain": [
       "(106486, 38)"
      ]
     },
     "execution_count": 2,
     "metadata": {},
     "output_type": "execute_result"
    }
   ],
   "source": [
    "# Load dataset.\n",
    "tracks = pd.read_csv('data/fma_metadata/tracks_processed_filled.csv')\n",
    "\n",
    "#columns2drop = ['Unnamed: 0', 'track_id', 'artist_id']\n",
    "columns2drop = ['Unnamed: 0', 'track_id', 'artist_id','track_date_recorded_daytime','album_date_released_daytime']\n",
    "\n",
    "tracks.drop(columns2drop, inplace=True, axis=1)\n",
    "\n",
    "tracks.shape"
   ]
  },
  {
   "cell_type": "code",
   "execution_count": 3,
   "metadata": {
    "scrolled": true
   },
   "outputs": [
    {
     "data": {
      "text/html": [
       "<div>\n",
       "<style scoped>\n",
       "    .dataframe tbody tr th:only-of-type {\n",
       "        vertical-align: middle;\n",
       "    }\n",
       "\n",
       "    .dataframe tbody tr th {\n",
       "        vertical-align: top;\n",
       "    }\n",
       "\n",
       "    .dataframe thead th {\n",
       "        text-align: right;\n",
       "    }\n",
       "</style>\n",
       "<table border=\"1\" class=\"dataframe\">\n",
       "  <thead>\n",
       "    <tr style=\"text-align: right;\">\n",
       "      <th></th>\n",
       "      <th>album_comments</th>\n",
       "      <th>album_favorites</th>\n",
       "      <th>album_id</th>\n",
       "      <th>album_listens</th>\n",
       "      <th>album_tracks</th>\n",
       "      <th>album_type</th>\n",
       "      <th>artist_comments</th>\n",
       "      <th>artist_favorites</th>\n",
       "      <th>artist_location</th>\n",
       "      <th>artist_name</th>\n",
       "      <th>...</th>\n",
       "      <th>album_date_released_day</th>\n",
       "      <th>artist_date_created_year</th>\n",
       "      <th>artist_date_created_month</th>\n",
       "      <th>artist_date_created_day</th>\n",
       "      <th>artist_date_created_daytime</th>\n",
       "      <th>track_date_created_year</th>\n",
       "      <th>track_date_created_month</th>\n",
       "      <th>track_date_created_day</th>\n",
       "      <th>track_date_created_daytime</th>\n",
       "      <th>Attribution-NonCommercial-ShareAlike 3.0 International</th>\n",
       "    </tr>\n",
       "  </thead>\n",
       "  <tbody>\n",
       "    <tr>\n",
       "      <th>0</th>\n",
       "      <td>0</td>\n",
       "      <td>4</td>\n",
       "      <td>1</td>\n",
       "      <td>6073</td>\n",
       "      <td>7</td>\n",
       "      <td>0</td>\n",
       "      <td>0</td>\n",
       "      <td>9</td>\n",
       "      <td>1323</td>\n",
       "      <td>299</td>\n",
       "      <td>...</td>\n",
       "      <td>5.0</td>\n",
       "      <td>2008.0</td>\n",
       "      <td>11.0</td>\n",
       "      <td>26.0</td>\n",
       "      <td>3</td>\n",
       "      <td>2008</td>\n",
       "      <td>11</td>\n",
       "      <td>26</td>\n",
       "      <td>3</td>\n",
       "      <td>1</td>\n",
       "    </tr>\n",
       "    <tr>\n",
       "      <th>1</th>\n",
       "      <td>0</td>\n",
       "      <td>4</td>\n",
       "      <td>1</td>\n",
       "      <td>6073</td>\n",
       "      <td>7</td>\n",
       "      <td>0</td>\n",
       "      <td>0</td>\n",
       "      <td>9</td>\n",
       "      <td>1323</td>\n",
       "      <td>299</td>\n",
       "      <td>...</td>\n",
       "      <td>5.0</td>\n",
       "      <td>2008.0</td>\n",
       "      <td>11.0</td>\n",
       "      <td>26.0</td>\n",
       "      <td>3</td>\n",
       "      <td>2008</td>\n",
       "      <td>11</td>\n",
       "      <td>26</td>\n",
       "      <td>3</td>\n",
       "      <td>1</td>\n",
       "    </tr>\n",
       "    <tr>\n",
       "      <th>2</th>\n",
       "      <td>0</td>\n",
       "      <td>4</td>\n",
       "      <td>1</td>\n",
       "      <td>6073</td>\n",
       "      <td>7</td>\n",
       "      <td>0</td>\n",
       "      <td>0</td>\n",
       "      <td>9</td>\n",
       "      <td>1323</td>\n",
       "      <td>299</td>\n",
       "      <td>...</td>\n",
       "      <td>5.0</td>\n",
       "      <td>2008.0</td>\n",
       "      <td>11.0</td>\n",
       "      <td>26.0</td>\n",
       "      <td>3</td>\n",
       "      <td>2008</td>\n",
       "      <td>11</td>\n",
       "      <td>26</td>\n",
       "      <td>3</td>\n",
       "      <td>1</td>\n",
       "    </tr>\n",
       "    <tr>\n",
       "      <th>3</th>\n",
       "      <td>0</td>\n",
       "      <td>4</td>\n",
       "      <td>6</td>\n",
       "      <td>47632</td>\n",
       "      <td>2</td>\n",
       "      <td>0</td>\n",
       "      <td>3</td>\n",
       "      <td>74</td>\n",
       "      <td>343</td>\n",
       "      <td>7419</td>\n",
       "      <td>...</td>\n",
       "      <td>6.0</td>\n",
       "      <td>2008.0</td>\n",
       "      <td>11.0</td>\n",
       "      <td>26.0</td>\n",
       "      <td>3</td>\n",
       "      <td>2008</td>\n",
       "      <td>11</td>\n",
       "      <td>25</td>\n",
       "      <td>0</td>\n",
       "      <td>0</td>\n",
       "    </tr>\n",
       "    <tr>\n",
       "      <th>4</th>\n",
       "      <td>0</td>\n",
       "      <td>2</td>\n",
       "      <td>4</td>\n",
       "      <td>2710</td>\n",
       "      <td>13</td>\n",
       "      <td>0</td>\n",
       "      <td>2</td>\n",
       "      <td>10</td>\n",
       "      <td>523</td>\n",
       "      <td>9551</td>\n",
       "      <td>...</td>\n",
       "      <td>6.0</td>\n",
       "      <td>2008.0</td>\n",
       "      <td>11.0</td>\n",
       "      <td>26.0</td>\n",
       "      <td>3</td>\n",
       "      <td>2008</td>\n",
       "      <td>11</td>\n",
       "      <td>26</td>\n",
       "      <td>3</td>\n",
       "      <td>0</td>\n",
       "    </tr>\n",
       "    <tr>\n",
       "      <th>5</th>\n",
       "      <td>0</td>\n",
       "      <td>2</td>\n",
       "      <td>4</td>\n",
       "      <td>2710</td>\n",
       "      <td>13</td>\n",
       "      <td>0</td>\n",
       "      <td>2</td>\n",
       "      <td>10</td>\n",
       "      <td>523</td>\n",
       "      <td>9551</td>\n",
       "      <td>...</td>\n",
       "      <td>6.0</td>\n",
       "      <td>2008.0</td>\n",
       "      <td>11.0</td>\n",
       "      <td>26.0</td>\n",
       "      <td>3</td>\n",
       "      <td>2008</td>\n",
       "      <td>11</td>\n",
       "      <td>26</td>\n",
       "      <td>3</td>\n",
       "      <td>0</td>\n",
       "    </tr>\n",
       "    <tr>\n",
       "      <th>6</th>\n",
       "      <td>0</td>\n",
       "      <td>2</td>\n",
       "      <td>4</td>\n",
       "      <td>2710</td>\n",
       "      <td>13</td>\n",
       "      <td>0</td>\n",
       "      <td>2</td>\n",
       "      <td>10</td>\n",
       "      <td>523</td>\n",
       "      <td>9551</td>\n",
       "      <td>...</td>\n",
       "      <td>6.0</td>\n",
       "      <td>2008.0</td>\n",
       "      <td>11.0</td>\n",
       "      <td>26.0</td>\n",
       "      <td>3</td>\n",
       "      <td>2008</td>\n",
       "      <td>11</td>\n",
       "      <td>26</td>\n",
       "      <td>3</td>\n",
       "      <td>0</td>\n",
       "    </tr>\n",
       "    <tr>\n",
       "      <th>7</th>\n",
       "      <td>0</td>\n",
       "      <td>2</td>\n",
       "      <td>4</td>\n",
       "      <td>2710</td>\n",
       "      <td>13</td>\n",
       "      <td>0</td>\n",
       "      <td>2</td>\n",
       "      <td>10</td>\n",
       "      <td>523</td>\n",
       "      <td>9551</td>\n",
       "      <td>...</td>\n",
       "      <td>6.0</td>\n",
       "      <td>2008.0</td>\n",
       "      <td>11.0</td>\n",
       "      <td>26.0</td>\n",
       "      <td>3</td>\n",
       "      <td>2008</td>\n",
       "      <td>11</td>\n",
       "      <td>26</td>\n",
       "      <td>3</td>\n",
       "      <td>0</td>\n",
       "    </tr>\n",
       "    <tr>\n",
       "      <th>8</th>\n",
       "      <td>0</td>\n",
       "      <td>2</td>\n",
       "      <td>4</td>\n",
       "      <td>2710</td>\n",
       "      <td>13</td>\n",
       "      <td>0</td>\n",
       "      <td>2</td>\n",
       "      <td>10</td>\n",
       "      <td>523</td>\n",
       "      <td>9551</td>\n",
       "      <td>...</td>\n",
       "      <td>6.0</td>\n",
       "      <td>2008.0</td>\n",
       "      <td>11.0</td>\n",
       "      <td>26.0</td>\n",
       "      <td>3</td>\n",
       "      <td>2008</td>\n",
       "      <td>11</td>\n",
       "      <td>26</td>\n",
       "      <td>3</td>\n",
       "      <td>0</td>\n",
       "    </tr>\n",
       "    <tr>\n",
       "      <th>9</th>\n",
       "      <td>0</td>\n",
       "      <td>4</td>\n",
       "      <td>1</td>\n",
       "      <td>6073</td>\n",
       "      <td>7</td>\n",
       "      <td>0</td>\n",
       "      <td>0</td>\n",
       "      <td>9</td>\n",
       "      <td>1323</td>\n",
       "      <td>299</td>\n",
       "      <td>...</td>\n",
       "      <td>5.0</td>\n",
       "      <td>2008.0</td>\n",
       "      <td>11.0</td>\n",
       "      <td>26.0</td>\n",
       "      <td>3</td>\n",
       "      <td>2008</td>\n",
       "      <td>11</td>\n",
       "      <td>26</td>\n",
       "      <td>3</td>\n",
       "      <td>1</td>\n",
       "    </tr>\n",
       "    <tr>\n",
       "      <th>10</th>\n",
       "      <td>1</td>\n",
       "      <td>0</td>\n",
       "      <td>58</td>\n",
       "      <td>3331</td>\n",
       "      <td>4</td>\n",
       "      <td>4</td>\n",
       "      <td>1</td>\n",
       "      <td>0</td>\n",
       "      <td>343</td>\n",
       "      <td>332</td>\n",
       "      <td>...</td>\n",
       "      <td>7.0</td>\n",
       "      <td>2008.0</td>\n",
       "      <td>11.0</td>\n",
       "      <td>26.0</td>\n",
       "      <td>3</td>\n",
       "      <td>2008</td>\n",
       "      <td>11</td>\n",
       "      <td>26</td>\n",
       "      <td>3</td>\n",
       "      <td>1</td>\n",
       "    </tr>\n",
       "    <tr>\n",
       "      <th>11</th>\n",
       "      <td>1</td>\n",
       "      <td>0</td>\n",
       "      <td>58</td>\n",
       "      <td>3331</td>\n",
       "      <td>4</td>\n",
       "      <td>4</td>\n",
       "      <td>1</td>\n",
       "      <td>0</td>\n",
       "      <td>343</td>\n",
       "      <td>332</td>\n",
       "      <td>...</td>\n",
       "      <td>7.0</td>\n",
       "      <td>2008.0</td>\n",
       "      <td>11.0</td>\n",
       "      <td>26.0</td>\n",
       "      <td>3</td>\n",
       "      <td>2008</td>\n",
       "      <td>11</td>\n",
       "      <td>26</td>\n",
       "      <td>3</td>\n",
       "      <td>1</td>\n",
       "    </tr>\n",
       "    <tr>\n",
       "      <th>12</th>\n",
       "      <td>1</td>\n",
       "      <td>2</td>\n",
       "      <td>59</td>\n",
       "      <td>1681</td>\n",
       "      <td>2</td>\n",
       "      <td>2</td>\n",
       "      <td>0</td>\n",
       "      <td>5</td>\n",
       "      <td>1071</td>\n",
       "      <td>475</td>\n",
       "      <td>...</td>\n",
       "      <td>1.0</td>\n",
       "      <td>2008.0</td>\n",
       "      <td>11.0</td>\n",
       "      <td>26.0</td>\n",
       "      <td>3</td>\n",
       "      <td>2008</td>\n",
       "      <td>11</td>\n",
       "      <td>26</td>\n",
       "      <td>3</td>\n",
       "      <td>1</td>\n",
       "    </tr>\n",
       "    <tr>\n",
       "      <th>13</th>\n",
       "      <td>1</td>\n",
       "      <td>2</td>\n",
       "      <td>59</td>\n",
       "      <td>1681</td>\n",
       "      <td>2</td>\n",
       "      <td>2</td>\n",
       "      <td>0</td>\n",
       "      <td>5</td>\n",
       "      <td>1071</td>\n",
       "      <td>475</td>\n",
       "      <td>...</td>\n",
       "      <td>1.0</td>\n",
       "      <td>2008.0</td>\n",
       "      <td>11.0</td>\n",
       "      <td>26.0</td>\n",
       "      <td>3</td>\n",
       "      <td>2008</td>\n",
       "      <td>11</td>\n",
       "      <td>26</td>\n",
       "      <td>3</td>\n",
       "      <td>1</td>\n",
       "    </tr>\n",
       "    <tr>\n",
       "      <th>14</th>\n",
       "      <td>0</td>\n",
       "      <td>1</td>\n",
       "      <td>60</td>\n",
       "      <td>1304</td>\n",
       "      <td>2</td>\n",
       "      <td>0</td>\n",
       "      <td>0</td>\n",
       "      <td>11</td>\n",
       "      <td>1623</td>\n",
       "      <td>543</td>\n",
       "      <td>...</td>\n",
       "      <td>16.0</td>\n",
       "      <td>2008.0</td>\n",
       "      <td>11.0</td>\n",
       "      <td>26.0</td>\n",
       "      <td>3</td>\n",
       "      <td>2008</td>\n",
       "      <td>11</td>\n",
       "      <td>26</td>\n",
       "      <td>3</td>\n",
       "      <td>0</td>\n",
       "    </tr>\n",
       "    <tr>\n",
       "      <th>15</th>\n",
       "      <td>1</td>\n",
       "      <td>1</td>\n",
       "      <td>61</td>\n",
       "      <td>1300</td>\n",
       "      <td>1</td>\n",
       "      <td>0</td>\n",
       "      <td>0</td>\n",
       "      <td>11</td>\n",
       "      <td>1623</td>\n",
       "      <td>543</td>\n",
       "      <td>...</td>\n",
       "      <td>22.0</td>\n",
       "      <td>2008.0</td>\n",
       "      <td>11.0</td>\n",
       "      <td>26.0</td>\n",
       "      <td>3</td>\n",
       "      <td>2008</td>\n",
       "      <td>11</td>\n",
       "      <td>26</td>\n",
       "      <td>3</td>\n",
       "      <td>0</td>\n",
       "    </tr>\n",
       "    <tr>\n",
       "      <th>16</th>\n",
       "      <td>0</td>\n",
       "      <td>1</td>\n",
       "      <td>60</td>\n",
       "      <td>1304</td>\n",
       "      <td>2</td>\n",
       "      <td>0</td>\n",
       "      <td>0</td>\n",
       "      <td>11</td>\n",
       "      <td>1623</td>\n",
       "      <td>543</td>\n",
       "      <td>...</td>\n",
       "      <td>16.0</td>\n",
       "      <td>2008.0</td>\n",
       "      <td>11.0</td>\n",
       "      <td>26.0</td>\n",
       "      <td>3</td>\n",
       "      <td>2008</td>\n",
       "      <td>11</td>\n",
       "      <td>26</td>\n",
       "      <td>3</td>\n",
       "      <td>0</td>\n",
       "    </tr>\n",
       "    <tr>\n",
       "      <th>17</th>\n",
       "      <td>0</td>\n",
       "      <td>1</td>\n",
       "      <td>62</td>\n",
       "      <td>845</td>\n",
       "      <td>1</td>\n",
       "      <td>0</td>\n",
       "      <td>0</td>\n",
       "      <td>11</td>\n",
       "      <td>1623</td>\n",
       "      <td>543</td>\n",
       "      <td>...</td>\n",
       "      <td>25.0</td>\n",
       "      <td>2008.0</td>\n",
       "      <td>11.0</td>\n",
       "      <td>26.0</td>\n",
       "      <td>3</td>\n",
       "      <td>2008</td>\n",
       "      <td>11</td>\n",
       "      <td>26</td>\n",
       "      <td>3</td>\n",
       "      <td>0</td>\n",
       "    </tr>\n",
       "    <tr>\n",
       "      <th>18</th>\n",
       "      <td>0</td>\n",
       "      <td>0</td>\n",
       "      <td>64</td>\n",
       "      <td>2014</td>\n",
       "      <td>0</td>\n",
       "      <td>0</td>\n",
       "      <td>1</td>\n",
       "      <td>7</td>\n",
       "      <td>1623</td>\n",
       "      <td>733</td>\n",
       "      <td>...</td>\n",
       "      <td>6.0</td>\n",
       "      <td>2008.0</td>\n",
       "      <td>11.0</td>\n",
       "      <td>26.0</td>\n",
       "      <td>3</td>\n",
       "      <td>2008</td>\n",
       "      <td>11</td>\n",
       "      <td>26</td>\n",
       "      <td>3</td>\n",
       "      <td>0</td>\n",
       "    </tr>\n",
       "    <tr>\n",
       "      <th>19</th>\n",
       "      <td>0</td>\n",
       "      <td>0</td>\n",
       "      <td>64</td>\n",
       "      <td>2014</td>\n",
       "      <td>0</td>\n",
       "      <td>0</td>\n",
       "      <td>1</td>\n",
       "      <td>7</td>\n",
       "      <td>1623</td>\n",
       "      <td>733</td>\n",
       "      <td>...</td>\n",
       "      <td>6.0</td>\n",
       "      <td>2008.0</td>\n",
       "      <td>11.0</td>\n",
       "      <td>26.0</td>\n",
       "      <td>3</td>\n",
       "      <td>2008</td>\n",
       "      <td>11</td>\n",
       "      <td>26</td>\n",
       "      <td>3</td>\n",
       "      <td>0</td>\n",
       "    </tr>\n",
       "  </tbody>\n",
       "</table>\n",
       "<p>20 rows × 38 columns</p>\n",
       "</div>"
      ],
      "text/plain": [
       "    album_comments  album_favorites  album_id  album_listens  album_tracks  \\\n",
       "0                0                4         1           6073             7   \n",
       "1                0                4         1           6073             7   \n",
       "2                0                4         1           6073             7   \n",
       "3                0                4         6          47632             2   \n",
       "4                0                2         4           2710            13   \n",
       "5                0                2         4           2710            13   \n",
       "6                0                2         4           2710            13   \n",
       "7                0                2         4           2710            13   \n",
       "8                0                2         4           2710            13   \n",
       "9                0                4         1           6073             7   \n",
       "10               1                0        58           3331             4   \n",
       "11               1                0        58           3331             4   \n",
       "12               1                2        59           1681             2   \n",
       "13               1                2        59           1681             2   \n",
       "14               0                1        60           1304             2   \n",
       "15               1                1        61           1300             1   \n",
       "16               0                1        60           1304             2   \n",
       "17               0                1        62            845             1   \n",
       "18               0                0        64           2014             0   \n",
       "19               0                0        64           2014             0   \n",
       "\n",
       "    album_type  artist_comments  artist_favorites  artist_location  \\\n",
       "0            0                0                 9             1323   \n",
       "1            0                0                 9             1323   \n",
       "2            0                0                 9             1323   \n",
       "3            0                3                74              343   \n",
       "4            0                2                10              523   \n",
       "5            0                2                10              523   \n",
       "6            0                2                10              523   \n",
       "7            0                2                10              523   \n",
       "8            0                2                10              523   \n",
       "9            0                0                 9             1323   \n",
       "10           4                1                 0              343   \n",
       "11           4                1                 0              343   \n",
       "12           2                0                 5             1071   \n",
       "13           2                0                 5             1071   \n",
       "14           0                0                11             1623   \n",
       "15           0                0                11             1623   \n",
       "16           0                0                11             1623   \n",
       "17           0                0                11             1623   \n",
       "18           0                1                 7             1623   \n",
       "19           0                1                 7             1623   \n",
       "\n",
       "    artist_name  ...  album_date_released_day  artist_date_created_year  \\\n",
       "0           299  ...                      5.0                    2008.0   \n",
       "1           299  ...                      5.0                    2008.0   \n",
       "2           299  ...                      5.0                    2008.0   \n",
       "3          7419  ...                      6.0                    2008.0   \n",
       "4          9551  ...                      6.0                    2008.0   \n",
       "5          9551  ...                      6.0                    2008.0   \n",
       "6          9551  ...                      6.0                    2008.0   \n",
       "7          9551  ...                      6.0                    2008.0   \n",
       "8          9551  ...                      6.0                    2008.0   \n",
       "9           299  ...                      5.0                    2008.0   \n",
       "10          332  ...                      7.0                    2008.0   \n",
       "11          332  ...                      7.0                    2008.0   \n",
       "12          475  ...                      1.0                    2008.0   \n",
       "13          475  ...                      1.0                    2008.0   \n",
       "14          543  ...                     16.0                    2008.0   \n",
       "15          543  ...                     22.0                    2008.0   \n",
       "16          543  ...                     16.0                    2008.0   \n",
       "17          543  ...                     25.0                    2008.0   \n",
       "18          733  ...                      6.0                    2008.0   \n",
       "19          733  ...                      6.0                    2008.0   \n",
       "\n",
       "    artist_date_created_month  artist_date_created_day  \\\n",
       "0                        11.0                     26.0   \n",
       "1                        11.0                     26.0   \n",
       "2                        11.0                     26.0   \n",
       "3                        11.0                     26.0   \n",
       "4                        11.0                     26.0   \n",
       "5                        11.0                     26.0   \n",
       "6                        11.0                     26.0   \n",
       "7                        11.0                     26.0   \n",
       "8                        11.0                     26.0   \n",
       "9                        11.0                     26.0   \n",
       "10                       11.0                     26.0   \n",
       "11                       11.0                     26.0   \n",
       "12                       11.0                     26.0   \n",
       "13                       11.0                     26.0   \n",
       "14                       11.0                     26.0   \n",
       "15                       11.0                     26.0   \n",
       "16                       11.0                     26.0   \n",
       "17                       11.0                     26.0   \n",
       "18                       11.0                     26.0   \n",
       "19                       11.0                     26.0   \n",
       "\n",
       "    artist_date_created_daytime  track_date_created_year  \\\n",
       "0                             3                     2008   \n",
       "1                             3                     2008   \n",
       "2                             3                     2008   \n",
       "3                             3                     2008   \n",
       "4                             3                     2008   \n",
       "5                             3                     2008   \n",
       "6                             3                     2008   \n",
       "7                             3                     2008   \n",
       "8                             3                     2008   \n",
       "9                             3                     2008   \n",
       "10                            3                     2008   \n",
       "11                            3                     2008   \n",
       "12                            3                     2008   \n",
       "13                            3                     2008   \n",
       "14                            3                     2008   \n",
       "15                            3                     2008   \n",
       "16                            3                     2008   \n",
       "17                            3                     2008   \n",
       "18                            3                     2008   \n",
       "19                            3                     2008   \n",
       "\n",
       "    track_date_created_month  track_date_created_day  \\\n",
       "0                         11                      26   \n",
       "1                         11                      26   \n",
       "2                         11                      26   \n",
       "3                         11                      25   \n",
       "4                         11                      26   \n",
       "5                         11                      26   \n",
       "6                         11                      26   \n",
       "7                         11                      26   \n",
       "8                         11                      26   \n",
       "9                         11                      26   \n",
       "10                        11                      26   \n",
       "11                        11                      26   \n",
       "12                        11                      26   \n",
       "13                        11                      26   \n",
       "14                        11                      26   \n",
       "15                        11                      26   \n",
       "16                        11                      26   \n",
       "17                        11                      26   \n",
       "18                        11                      26   \n",
       "19                        11                      26   \n",
       "\n",
       "    track_date_created_daytime  \\\n",
       "0                            3   \n",
       "1                            3   \n",
       "2                            3   \n",
       "3                            0   \n",
       "4                            3   \n",
       "5                            3   \n",
       "6                            3   \n",
       "7                            3   \n",
       "8                            3   \n",
       "9                            3   \n",
       "10                           3   \n",
       "11                           3   \n",
       "12                           3   \n",
       "13                           3   \n",
       "14                           3   \n",
       "15                           3   \n",
       "16                           3   \n",
       "17                           3   \n",
       "18                           3   \n",
       "19                           3   \n",
       "\n",
       "    Attribution-NonCommercial-ShareAlike 3.0 International  \n",
       "0                                                   1       \n",
       "1                                                   1       \n",
       "2                                                   1       \n",
       "3                                                   0       \n",
       "4                                                   0       \n",
       "5                                                   0       \n",
       "6                                                   0       \n",
       "7                                                   0       \n",
       "8                                                   0       \n",
       "9                                                   1       \n",
       "10                                                  1       \n",
       "11                                                  1       \n",
       "12                                                  1       \n",
       "13                                                  1       \n",
       "14                                                  0       \n",
       "15                                                  0       \n",
       "16                                                  0       \n",
       "17                                                  0       \n",
       "18                                                  0       \n",
       "19                                                  0       \n",
       "\n",
       "[20 rows x 38 columns]"
      ]
     },
     "execution_count": 3,
     "metadata": {},
     "output_type": "execute_result"
    }
   ],
   "source": [
    "tracks.head(20) #Display the first 5 objects of the dataset"
   ]
  },
  {
   "cell_type": "code",
   "execution_count": 4,
   "metadata": {
    "scrolled": false
   },
   "outputs": [
    {
     "name": "stdout",
     "output_type": "stream",
     "text": [
      "<class 'pandas.core.frame.DataFrame'>\n",
      "RangeIndex: 106486 entries, 0 to 106485\n",
      "Data columns (total 38 columns):\n",
      " #   Column                                                  Non-Null Count   Dtype  \n",
      "---  ------                                                  --------------   -----  \n",
      " 0   album_comments                                          106486 non-null  int64  \n",
      " 1   album_favorites                                         106486 non-null  int64  \n",
      " 2   album_id                                                106486 non-null  int64  \n",
      " 3   album_listens                                           106486 non-null  int64  \n",
      " 4   album_tracks                                            106486 non-null  int64  \n",
      " 5   album_type                                              106486 non-null  int64  \n",
      " 6   artist_comments                                         106486 non-null  int64  \n",
      " 7   artist_favorites                                        106486 non-null  int64  \n",
      " 8   artist_location                                         106486 non-null  int64  \n",
      " 9   artist_name                                             106486 non-null  int64  \n",
      " 10  artist_tags                                             106486 non-null  int64  \n",
      " 11  track_bit_rate                                          106486 non-null  int64  \n",
      " 12  track_comments                                          106486 non-null  int64  \n",
      " 13  track_duration                                          106486 non-null  int64  \n",
      " 14  track_favorites                                         106486 non-null  int64  \n",
      " 15  track_genres                                            106486 non-null  int64  \n",
      " 16  track_genres_all                                        106486 non-null  int64  \n",
      " 17  track_interest                                          106486 non-null  int64  \n",
      " 18  track_listens                                           106486 non-null  int64  \n",
      " 19  track_number                                            106486 non-null  int64  \n",
      " 20  track_tags                                              106486 non-null  int64  \n",
      " 21  track_title                                             106486 non-null  int64  \n",
      " 22  album_date_created_year                                 106486 non-null  float64\n",
      " 23  album_date_created_month                                106486 non-null  float64\n",
      " 24  album_date_created_day                                  106486 non-null  float64\n",
      " 25  album_date_created_daytime                              106486 non-null  int64  \n",
      " 26  album_date_released_year                                106486 non-null  float64\n",
      " 27  album_date_released_month                               106486 non-null  float64\n",
      " 28  album_date_released_day                                 106486 non-null  float64\n",
      " 29  artist_date_created_year                                106486 non-null  float64\n",
      " 30  artist_date_created_month                               106486 non-null  float64\n",
      " 31  artist_date_created_day                                 106486 non-null  float64\n",
      " 32  artist_date_created_daytime                             106486 non-null  int64  \n",
      " 33  track_date_created_year                                 106486 non-null  int64  \n",
      " 34  track_date_created_month                                106486 non-null  int64  \n",
      " 35  track_date_created_day                                  106486 non-null  int64  \n",
      " 36  track_date_created_daytime                              106486 non-null  int64  \n",
      " 37  Attribution-NonCommercial-ShareAlike 3.0 International  106486 non-null  int64  \n",
      "dtypes: float64(9), int64(29)\n",
      "memory usage: 30.9 MB\n"
     ]
    }
   ],
   "source": [
    "tracks.info()"
   ]
  },
  {
   "cell_type": "markdown",
   "metadata": {},
   "source": [
    "Split the dataset into 70% train and 30% test"
   ]
  },
  {
   "cell_type": "code",
   "execution_count": 5,
   "metadata": {},
   "outputs": [
    {
     "name": "stdout",
     "output_type": "stream",
     "text": [
      "(74540, 37) (74540,)\n",
      "(31946, 37) (31946,)\n"
     ]
    }
   ],
   "source": [
    "class_name = 'Attribution-NonCommercial-ShareAlike 3.0 International'\n",
    "attributes = [col for col in tracks.columns if col != class_name]\n",
    "data = tracks.values\n",
    "X, y = data[:, :-1].astype(int), data[:, -1].astype(int)\n",
    "#print(X[[:,2][:,3]], X[:,3])\n",
    "\n",
    "X_train, X_test, y_train, y_test = train_test_split(X, y, test_size=0.3, random_state=100, stratify=y)\n",
    "print(X_train.shape, y_train.shape)\n",
    "print(X_test.shape, y_test.shape)"
   ]
  },
  {
   "cell_type": "code",
   "execution_count": 6,
   "metadata": {},
   "outputs": [],
   "source": [
    "scaler = MinMaxScaler()\n",
    "X_tr_sc = scaler.fit_transform(X_train)\n",
    "df_tr_sc = pd.DataFrame(X_tr_sc)\n",
    "X_te_sc = scaler.fit_transform(X_test)\n",
    "df_te_sc = pd.DataFrame(X_te_sc)\n",
    "X_sc = scaler.fit_transform(X)\n",
    "df_sc = pd.DataFrame(X_sc)"
   ]
  },
  {
   "cell_type": "markdown",
   "metadata": {},
   "source": [
    "**DBSCAN**"
   ]
  },
  {
   "cell_type": "code",
   "execution_count": 7,
   "metadata": {},
   "outputs": [],
   "source": [
    "from sklearn.neighbors import NearestNeighbors\n",
    "from sklearn.cluster import DBSCAN, OPTICS\n",
    "import seaborn as sns"
   ]
  },
  {
   "cell_type": "code",
   "execution_count": 8,
   "metadata": {},
   "outputs": [
    {
     "data": {
      "image/png": "[encoded data removed]",
      "text/plain": [
       "<Figure size 432x288 with 1 Axes>"
      ]
     },
     "metadata": {},
     "output_type": "display_data"
    }
   ],
   "source": [
    "sns.set()\n",
    "neigh = NearestNeighbors(n_neighbors=8)\n",
    "nbrs = neigh.fit(X_sc)\n",
    "distances, indices = nbrs.kneighbors(X_sc)\n",
    "distances = np.sort(distances, axis=0)\n",
    "distances = distances[:,1]\n",
    "plt.plot(distances[20000:])\n",
    "plt.ylabel('Distance from 16th neighbour')\n",
    "plt.xlabel('Sorted distances')\n",
    "plt.show()"
   ]
  },
  {
   "cell_type": "code",
   "execution_count": null,
   "metadata": {},
   "outputs": [],
   "source": [
    "dbscan = DBSCAN(eps=0.50, min_samples=76)\n",
    "dbscan.fit(X_sc)"
   ]
  },
  {
   "cell_type": "code",
   "execution_count": null,
   "metadata": {},
   "outputs": [],
   "source": [
    "np.unique(dbscan.labels_, return_counts=True)"
   ]
  },
  {
   "cell_type": "code",
   "execution_count": null,
   "metadata": {},
   "outputs": [],
   "source": [
    "tracks['outliers'] = np.nan\n",
    "tracks['label'] = dbscan.labels_\n",
    "for i in range(0,len(tracks)):\n",
    "    if tracks['label'][i] == -1:\n",
    "        tracks['outliers'][i] = 1\n",
    "    else:\n",
    "        tracks['outliers'][i] = 0"
   ]
  },
  {
   "cell_type": "code",
   "execution_count": 9,
   "metadata": {},
   "outputs": [
    {
     "data": {
      "image/png": "[encoded data removed]",
      "text/plain": [
       "<Figure size 432x288 with 1 Axes>"
      ]
     },
     "metadata": {
      "needs_background": "light"
     },
     "output_type": "display_data"
    }
   ],
   "source": [
    "plt.plot(np.cumsum(pca.explained_variance_ratio_))\n",
    "plt.xlabel('number of components')\n",
    "plt.ylabel('cumulative explained variance');"
   ]
  },
  {
   "cell_type": "code",
   "execution_count": 18,
   "metadata": {},
   "outputs": [
    {
     "data": {
      "image/png": "[encoded data removed]",
      "text/plain": [
       "<Figure size 864x432 with 1 Axes>"
      ]
     },
     "metadata": {
      "needs_background": "light"
     },
     "output_type": "display_data"
    }
   ],
   "source": [
    "plt.plot(PCA(n_components=4).fit(X_train).explained_variance_ratio_, lw=3, color='r', ms=2)\n",
    "plt.title(\"PCA\")\n",
    "plt.ylabel(\"Fraction of Variance\")\n",
    "plt.xticks(range(5), attributes)\n",
    "plt.show()\n",
    "#plt.scatter(X_pca[:, 0], X_pca[:, 1], c=tracks['outliers'], cmap=plt.cm.prism, edgecolor='k', alpha=0.7)\n",
    "#plt.show()"
   ]
  },
  {
   "cell_type": "markdown",
   "metadata": {},
   "source": [
    "**BOX PLOT**"
   ]
  },
  {
   "cell_type": "code",
   "execution_count": 16,
   "metadata": {
    "scrolled": true
   },
   "outputs": [
    {
     "data": {
      "image/png": "[encoded data removed]",
      "text/plain": [
       "<Figure size 432x288 with 1 Axes>"
      ]
     },
     "metadata": {},
     "output_type": "display_data"
    }
   ],
   "source": [
    "sns.boxplot(data=[X_sc[:,0], X_sc[:,1], X_sc[:,2], X_sc[:,3]])\n",
    "plt.xticks([0,1,2,3], [attributes[0], attributes[1], attributes[2], attributes[3]])\n",
    "plt.show()"
   ]
  },
  {
   "cell_type": "markdown",
   "metadata": {},
   "source": [
    "**LOF**"
   ]
  },
  {
   "cell_type": "code",
   "execution_count": 8,
   "metadata": {},
   "outputs": [],
   "source": [
    "from sklearn.neighbors import LocalOutlierFactor\n",
    "from sklearn.linear_model import LinearRegression"
   ]
  },
  {
   "cell_type": "code",
   "execution_count": 9,
   "metadata": {},
   "outputs": [],
   "source": [
    "clf = LocalOutlierFactor(n_neighbors=20)\n",
    "outliers = clf.fit_predict(X)"
   ]
  },
  {
   "cell_type": "code",
   "execution_count": 10,
   "metadata": {},
   "outputs": [
    {
     "data": {
      "text/plain": [
       "array([-1.1153239 , -1.07014385, -1.04453159, ..., -0.99744352,\n",
       "       -1.03240734, -1.01021158])"
      ]
     },
     "execution_count": 10,
     "metadata": {},
     "output_type": "execute_result"
    }
   ],
   "source": [
    "clf.negative_outlier_factor_"
   ]
  },
  {
   "cell_type": "code",
   "execution_count": 11,
   "metadata": {},
   "outputs": [
    {
     "data": {
      "text/plain": [
       "(array([-1,  1]), array([  2340, 104146], dtype=int64))"
      ]
     },
     "execution_count": 11,
     "metadata": {},
     "output_type": "execute_result"
    }
   ],
   "source": [
    "np.unique(outliers, return_counts=True)"
   ]
  },
  {
   "cell_type": "code",
   "execution_count": 12,
   "metadata": {},
   "outputs": [
    {
     "data": {
      "text/plain": [
       "(array([    29,     44,     46, ..., 106375, 106377, 106449], dtype=int64),)"
      ]
     },
     "execution_count": 12,
     "metadata": {},
     "output_type": "execute_result"
    }
   ],
   "source": [
    "np.where(outliers==-1)"
   ]
  },
  {
   "cell_type": "code",
   "execution_count": 13,
   "metadata": {},
   "outputs": [
    {
     "data": {
      "text/plain": [
       "array([-1.52958013, -1.60787499, -1.72701556, ..., -1.89985169,\n",
       "       -1.56353993, -3.97314487])"
      ]
     },
     "execution_count": 13,
     "metadata": {},
     "output_type": "execute_result"
    }
   ],
   "source": [
    "clf.negative_outlier_factor_[np.where(outliers==-1)]"
   ]
  },
  {
   "cell_type": "code",
   "execution_count": 14,
   "metadata": {},
   "outputs": [
    {
     "data": {
      "image/png": "[encoded data removed]",
      "text/plain": [
       "<Figure size 432x288 with 1 Axes>"
      ]
     },
     "metadata": {
      "needs_background": "light"
     },
     "output_type": "display_data"
    }
   ],
   "source": [
    "np.random.seed(42)\n",
    "\n",
    "# Generate train data\n",
    "X_inliers = 0.3 * np.random.randn(100, 2)\n",
    "X_inliers = np.r_[X_inliers + 2, X_inliers - 2]\n",
    "\n",
    "# Generate some outliers\n",
    "X_outliers = np.random.uniform(low=-4, high=4, size=(20, 2))\n",
    "Xa = np.r_[X_inliers, X_outliers]\n",
    "\n",
    "n_outliers = len(X_outliers)\n",
    "ground_truth = np.ones(len(Xa), dtype=int)\n",
    "ground_truth[-n_outliers:] = -1\n",
    "\n",
    "# fit the model for outlier detection (default)\n",
    "clf = LocalOutlierFactor(n_neighbors=20, contamination=0.1)\n",
    "# use fit_predict to compute the predicted labels of the training samples\n",
    "# (when LOF is used for outlier detection, the estimator has no predict,\n",
    "# decision_function and score_samples methods).\n",
    "y_pred = clf.fit_predict(Xa)\n",
    "n_errors = (y_pred != ground_truth).sum()\n",
    "X_scores = clf.negative_outlier_factor_\n",
    "\n",
    "plt.title(\"Local Outlier Factor (LOF)\")\n",
    "plt.scatter(Xa[:, 0], Xa[:, 1], color='k', s=3., label='Data points')\n",
    "# plot circles with radius proportional to the outlier scores\n",
    "radius = (X_scores.max() - X_scores) / (X_scores.max() - X_scores.min())\n",
    "plt.scatter(Xa[:, 0], Xa[:, 1], s=1000 * radius, edgecolors='r',\n",
    "            facecolors='none', label='Outlier scores')\n",
    "plt.axis('tight')\n",
    "plt.xlim((-5, 5))\n",
    "plt.ylim((-5, 5))\n",
    "plt.xlabel(\"prediction errors: %d\" % (n_errors))\n",
    "legend = plt.legend(loc='upper left')\n",
    "legend.legendHandles[0]._sizes = [10]\n",
    "legend.legendHandles[1]._sizes = [20]\n",
    "plt.show()"
   ]
  },
  {
   "cell_type": "code",
   "execution_count": 15,
   "metadata": {},
   "outputs": [
    {
     "data": {
      "text/plain": [
       "(220, 2)"
      ]
     },
     "execution_count": 15,
     "metadata": {},
     "output_type": "execute_result"
    }
   ],
   "source": [
    "Xa.shape"
   ]
  },
  {
   "cell_type": "code",
   "execution_count": 20,
   "metadata": {},
   "outputs": [
    {
     "data": {
      "image/png": "[encoded data removed]",
      "text/plain": [
       "<Figure size 432x288 with 1 Axes>"
      ]
     },
     "metadata": {
      "needs_background": "light"
     },
     "output_type": "display_data"
    }
   ],
   "source": [
    "X_scores = clf.negative_outlier_factor_\n",
    "plt.title(\"Local Outlier Factor (LOF)\")\n",
    "plt.scatter(X[:, 0], X[:, 1], color='k', s=3., label='Data points')\n",
    "# plot circles with radius proportional to the outlier scores\n",
    "radius = (X_scores.max() - X_scores) / (X_scores.max() - X_scores.min())\n",
    "plt.scatter(Xa[:, 0], Xa[:,1], s=1000 * radius, edgecolors='r',facecolors='none', label='Outlier scores')\n",
    "plt.axis('tight')\n",
    "#plt.xlabel(\"prediction errors: %d\" % (n_errors))\n",
    "legend = plt.legend(loc='upper left')\n",
    "legend.legendHandles[0]._sizes = [10]\n",
    "legend.legendHandles[1]._sizes = [20]\n",
    "plt.show()"
   ]
  },
  {
   "cell_type": "code",
   "execution_count": 17,
   "metadata": {},
   "outputs": [
    {
     "ename": "IndexError",
     "evalue": "index 290 is out of bounds for axis 0 with size 220",
     "output_type": "error",
     "traceback": [
      "\u001b[1;31m---------------------------------------------------------------------------\u001b[0m",
      "\u001b[1;31mIndexError\u001b[0m                                Traceback (most recent call last)",
      "\u001b[1;32m<ipython-input-17-01befd238f72>\u001b[0m in \u001b[0;36m<module>\u001b[1;34m\u001b[0m\n\u001b[1;32m----> 1\u001b[1;33m \u001b[0mnp\u001b[0m\u001b[1;33m.\u001b[0m\u001b[0mmax\u001b[0m\u001b[1;33m(\u001b[0m\u001b[0mclf\u001b[0m\u001b[1;33m.\u001b[0m\u001b[0mnegative_outlier_factor_\u001b[0m\u001b[1;33m[\u001b[0m\u001b[0mnp\u001b[0m\u001b[1;33m.\u001b[0m\u001b[0mwhere\u001b[0m\u001b[1;33m(\u001b[0m\u001b[0moutliers\u001b[0m\u001b[1;33m==\u001b[0m\u001b[1;33m-\u001b[0m\u001b[1;36m1\u001b[0m\u001b[1;33m)\u001b[0m\u001b[1;33m]\u001b[0m\u001b[1;33m)\u001b[0m\u001b[1;33m\u001b[0m\u001b[1;33m\u001b[0m\u001b[0m\n\u001b[0m",
      "\u001b[1;31mIndexError\u001b[0m: index 290 is out of bounds for axis 0 with size 220"
     ]
    }
   ],
   "source": [
    "np.max(clf.negative_outlier_factor_[np.where(outliers==-1)])"
   ]
  },
  {
   "cell_type": "code",
   "execution_count": null,
   "metadata": {},
   "outputs": [],
   "source": [
    "np.min(clf.negative_outlier_factor_[np.where(outliers==-1)])"
   ]
  },
  {
   "cell_type": "code",
   "execution_count": null,
   "metadata": {},
   "outputs": [],
   "source": [
    "plt.hist(clf.negative_outlier_factor_)\n",
    "plt.axvline(-1.4,c='red')\n",
    "plt.text(-2, 600, 'outliers')\n",
    "plt.show()"
   ]
  },
  {
   "cell_type": "code",
   "execution_count": null,
   "metadata": {},
   "outputs": [],
   "source": [
    "tracks['outliers'] = 0\n",
    "for i in np.where(outliers==-1):\n",
    "    tracks['outliers'][i] = 1"
   ]
  },
  {
   "cell_type": "code",
   "execution_count": null,
   "metadata": {},
   "outputs": [],
   "source": [
    "from sklearn.decomposition import PCA\n",
    "\n",
    "pca = PCA(n_components=2)\n",
    "pca.fit(X)\n",
    "X_pca = pca.transform(X)\n",
    "\n",
    "plt.scatter(X_pca[:, 0], X_pca[:, 1], c=tracks['outliers'], cmap=plt.cm.prism, edgecolor='k', alpha=0.7)\n",
    "plt.show()"
   ]
  },
  {
   "cell_type": "code",
   "execution_count": null,
   "metadata": {},
   "outputs": [],
   "source": [
    "clf = clf.negative_outlier_factor_\n",
    "clf"
   ]
  },
  {
   "cell_type": "code",
   "execution_count": null,
   "metadata": {},
   "outputs": [],
   "source": [
    "from numpy import quantile, where, random\n",
    "thresh = quantile(clf, .04)\n",
    "print(thresh)"
   ]
  },
  {
   "cell_type": "code",
   "execution_count": null,
   "metadata": {},
   "outputs": [],
   "source": [
    "lofs_index = where(outliers==-1)\n",
    "index = where(clf<=thresh)\n",
    "values = X[index]\n",
    "plt.scatter(X[:,0], X[:,1])\n",
    "plt.scatter(values[:,0],values[:,1], color='r')\n",
    "plt.show()"
   ]
  },
  {
   "cell_type": "markdown",
   "metadata": {},
   "source": [
    "**ISOLATION FOREST**"
   ]
  },
  {
   "cell_type": "code",
   "execution_count": 21,
   "metadata": {},
   "outputs": [],
   "source": [
    "from sklearn.ensemble import IsolationForest"
   ]
  },
  {
   "cell_type": "code",
   "execution_count": 22,
   "metadata": {},
   "outputs": [
    {
     "data": {
      "text/plain": [
       "IsolationForest(contamination=0.2, n_estimators=50)"
      ]
     },
     "execution_count": 22,
     "metadata": {},
     "output_type": "execute_result"
    }
   ],
   "source": [
    "clf=IsolationForest(n_estimators=50, max_samples='auto', contamination=float(.2),max_features=1.0)\n",
    "clf.fit(tracks[['Attribution-NonCommercial-ShareAlike 3.0 International']])"
   ]
  },
  {
   "cell_type": "code",
   "execution_count": 23,
   "metadata": {},
   "outputs": [
    {
     "data": {
      "text/html": [
       "<div>\n",
       "<style scoped>\n",
       "    .dataframe tbody tr th:only-of-type {\n",
       "        vertical-align: middle;\n",
       "    }\n",
       "\n",
       "    .dataframe tbody tr th {\n",
       "        vertical-align: top;\n",
       "    }\n",
       "\n",
       "    .dataframe thead th {\n",
       "        text-align: right;\n",
       "    }\n",
       "</style>\n",
       "<table border=\"1\" class=\"dataframe\">\n",
       "  <thead>\n",
       "    <tr style=\"text-align: right;\">\n",
       "      <th></th>\n",
       "      <th>album_comments</th>\n",
       "      <th>album_favorites</th>\n",
       "      <th>album_id</th>\n",
       "      <th>album_listens</th>\n",
       "      <th>album_tracks</th>\n",
       "      <th>album_type</th>\n",
       "      <th>artist_comments</th>\n",
       "      <th>artist_favorites</th>\n",
       "      <th>artist_location</th>\n",
       "      <th>artist_name</th>\n",
       "      <th>...</th>\n",
       "      <th>artist_date_created_month</th>\n",
       "      <th>artist_date_created_day</th>\n",
       "      <th>artist_date_created_daytime</th>\n",
       "      <th>track_date_created_year</th>\n",
       "      <th>track_date_created_month</th>\n",
       "      <th>track_date_created_day</th>\n",
       "      <th>track_date_created_daytime</th>\n",
       "      <th>Attribution-NonCommercial-ShareAlike 3.0 International</th>\n",
       "      <th>scores</th>\n",
       "      <th>anomaly_Value</th>\n",
       "    </tr>\n",
       "  </thead>\n",
       "  <tbody>\n",
       "    <tr>\n",
       "      <th>0</th>\n",
       "      <td>0</td>\n",
       "      <td>4</td>\n",
       "      <td>1</td>\n",
       "      <td>6073</td>\n",
       "      <td>7</td>\n",
       "      <td>0</td>\n",
       "      <td>0</td>\n",
       "      <td>9</td>\n",
       "      <td>1323</td>\n",
       "      <td>299</td>\n",
       "      <td>...</td>\n",
       "      <td>11.0</td>\n",
       "      <td>26.0</td>\n",
       "      <td>3</td>\n",
       "      <td>2008</td>\n",
       "      <td>11</td>\n",
       "      <td>26</td>\n",
       "      <td>3</td>\n",
       "      <td>1</td>\n",
       "      <td>-0.133617</td>\n",
       "      <td>-1</td>\n",
       "    </tr>\n",
       "    <tr>\n",
       "      <th>1</th>\n",
       "      <td>0</td>\n",
       "      <td>4</td>\n",
       "      <td>1</td>\n",
       "      <td>6073</td>\n",
       "      <td>7</td>\n",
       "      <td>0</td>\n",
       "      <td>0</td>\n",
       "      <td>9</td>\n",
       "      <td>1323</td>\n",
       "      <td>299</td>\n",
       "      <td>...</td>\n",
       "      <td>11.0</td>\n",
       "      <td>26.0</td>\n",
       "      <td>3</td>\n",
       "      <td>2008</td>\n",
       "      <td>11</td>\n",
       "      <td>26</td>\n",
       "      <td>3</td>\n",
       "      <td>1</td>\n",
       "      <td>-0.133617</td>\n",
       "      <td>-1</td>\n",
       "    </tr>\n",
       "    <tr>\n",
       "      <th>2</th>\n",
       "      <td>0</td>\n",
       "      <td>4</td>\n",
       "      <td>1</td>\n",
       "      <td>6073</td>\n",
       "      <td>7</td>\n",
       "      <td>0</td>\n",
       "      <td>0</td>\n",
       "      <td>9</td>\n",
       "      <td>1323</td>\n",
       "      <td>299</td>\n",
       "      <td>...</td>\n",
       "      <td>11.0</td>\n",
       "      <td>26.0</td>\n",
       "      <td>3</td>\n",
       "      <td>2008</td>\n",
       "      <td>11</td>\n",
       "      <td>26</td>\n",
       "      <td>3</td>\n",
       "      <td>1</td>\n",
       "      <td>-0.133617</td>\n",
       "      <td>-1</td>\n",
       "    </tr>\n",
       "    <tr>\n",
       "      <th>3</th>\n",
       "      <td>0</td>\n",
       "      <td>4</td>\n",
       "      <td>6</td>\n",
       "      <td>47632</td>\n",
       "      <td>2</td>\n",
       "      <td>0</td>\n",
       "      <td>3</td>\n",
       "      <td>74</td>\n",
       "      <td>343</td>\n",
       "      <td>7419</td>\n",
       "      <td>...</td>\n",
       "      <td>11.0</td>\n",
       "      <td>26.0</td>\n",
       "      <td>3</td>\n",
       "      <td>2008</td>\n",
       "      <td>11</td>\n",
       "      <td>25</td>\n",
       "      <td>0</td>\n",
       "      <td>0</td>\n",
       "      <td>0.000000</td>\n",
       "      <td>1</td>\n",
       "    </tr>\n",
       "    <tr>\n",
       "      <th>4</th>\n",
       "      <td>0</td>\n",
       "      <td>2</td>\n",
       "      <td>4</td>\n",
       "      <td>2710</td>\n",
       "      <td>13</td>\n",
       "      <td>0</td>\n",
       "      <td>2</td>\n",
       "      <td>10</td>\n",
       "      <td>523</td>\n",
       "      <td>9551</td>\n",
       "      <td>...</td>\n",
       "      <td>11.0</td>\n",
       "      <td>26.0</td>\n",
       "      <td>3</td>\n",
       "      <td>2008</td>\n",
       "      <td>11</td>\n",
       "      <td>26</td>\n",
       "      <td>3</td>\n",
       "      <td>0</td>\n",
       "      <td>0.000000</td>\n",
       "      <td>1</td>\n",
       "    </tr>\n",
       "    <tr>\n",
       "      <th>5</th>\n",
       "      <td>0</td>\n",
       "      <td>2</td>\n",
       "      <td>4</td>\n",
       "      <td>2710</td>\n",
       "      <td>13</td>\n",
       "      <td>0</td>\n",
       "      <td>2</td>\n",
       "      <td>10</td>\n",
       "      <td>523</td>\n",
       "      <td>9551</td>\n",
       "      <td>...</td>\n",
       "      <td>11.0</td>\n",
       "      <td>26.0</td>\n",
       "      <td>3</td>\n",
       "      <td>2008</td>\n",
       "      <td>11</td>\n",
       "      <td>26</td>\n",
       "      <td>3</td>\n",
       "      <td>0</td>\n",
       "      <td>0.000000</td>\n",
       "      <td>1</td>\n",
       "    </tr>\n",
       "    <tr>\n",
       "      <th>6</th>\n",
       "      <td>0</td>\n",
       "      <td>2</td>\n",
       "      <td>4</td>\n",
       "      <td>2710</td>\n",
       "      <td>13</td>\n",
       "      <td>0</td>\n",
       "      <td>2</td>\n",
       "      <td>10</td>\n",
       "      <td>523</td>\n",
       "      <td>9551</td>\n",
       "      <td>...</td>\n",
       "      <td>11.0</td>\n",
       "      <td>26.0</td>\n",
       "      <td>3</td>\n",
       "      <td>2008</td>\n",
       "      <td>11</td>\n",
       "      <td>26</td>\n",
       "      <td>3</td>\n",
       "      <td>0</td>\n",
       "      <td>0.000000</td>\n",
       "      <td>1</td>\n",
       "    </tr>\n",
       "    <tr>\n",
       "      <th>7</th>\n",
       "      <td>0</td>\n",
       "      <td>2</td>\n",
       "      <td>4</td>\n",
       "      <td>2710</td>\n",
       "      <td>13</td>\n",
       "      <td>0</td>\n",
       "      <td>2</td>\n",
       "      <td>10</td>\n",
       "      <td>523</td>\n",
       "      <td>9551</td>\n",
       "      <td>...</td>\n",
       "      <td>11.0</td>\n",
       "      <td>26.0</td>\n",
       "      <td>3</td>\n",
       "      <td>2008</td>\n",
       "      <td>11</td>\n",
       "      <td>26</td>\n",
       "      <td>3</td>\n",
       "      <td>0</td>\n",
       "      <td>0.000000</td>\n",
       "      <td>1</td>\n",
       "    </tr>\n",
       "    <tr>\n",
       "      <th>8</th>\n",
       "      <td>0</td>\n",
       "      <td>2</td>\n",
       "      <td>4</td>\n",
       "      <td>2710</td>\n",
       "      <td>13</td>\n",
       "      <td>0</td>\n",
       "      <td>2</td>\n",
       "      <td>10</td>\n",
       "      <td>523</td>\n",
       "      <td>9551</td>\n",
       "      <td>...</td>\n",
       "      <td>11.0</td>\n",
       "      <td>26.0</td>\n",
       "      <td>3</td>\n",
       "      <td>2008</td>\n",
       "      <td>11</td>\n",
       "      <td>26</td>\n",
       "      <td>3</td>\n",
       "      <td>0</td>\n",
       "      <td>0.000000</td>\n",
       "      <td>1</td>\n",
       "    </tr>\n",
       "    <tr>\n",
       "      <th>9</th>\n",
       "      <td>0</td>\n",
       "      <td>4</td>\n",
       "      <td>1</td>\n",
       "      <td>6073</td>\n",
       "      <td>7</td>\n",
       "      <td>0</td>\n",
       "      <td>0</td>\n",
       "      <td>9</td>\n",
       "      <td>1323</td>\n",
       "      <td>299</td>\n",
       "      <td>...</td>\n",
       "      <td>11.0</td>\n",
       "      <td>26.0</td>\n",
       "      <td>3</td>\n",
       "      <td>2008</td>\n",
       "      <td>11</td>\n",
       "      <td>26</td>\n",
       "      <td>3</td>\n",
       "      <td>1</td>\n",
       "      <td>-0.133617</td>\n",
       "      <td>-1</td>\n",
       "    </tr>\n",
       "    <tr>\n",
       "      <th>10</th>\n",
       "      <td>1</td>\n",
       "      <td>0</td>\n",
       "      <td>58</td>\n",
       "      <td>3331</td>\n",
       "      <td>4</td>\n",
       "      <td>4</td>\n",
       "      <td>1</td>\n",
       "      <td>0</td>\n",
       "      <td>343</td>\n",
       "      <td>332</td>\n",
       "      <td>...</td>\n",
       "      <td>11.0</td>\n",
       "      <td>26.0</td>\n",
       "      <td>3</td>\n",
       "      <td>2008</td>\n",
       "      <td>11</td>\n",
       "      <td>26</td>\n",
       "      <td>3</td>\n",
       "      <td>1</td>\n",
       "      <td>-0.133617</td>\n",
       "      <td>-1</td>\n",
       "    </tr>\n",
       "    <tr>\n",
       "      <th>11</th>\n",
       "      <td>1</td>\n",
       "      <td>0</td>\n",
       "      <td>58</td>\n",
       "      <td>3331</td>\n",
       "      <td>4</td>\n",
       "      <td>4</td>\n",
       "      <td>1</td>\n",
       "      <td>0</td>\n",
       "      <td>343</td>\n",
       "      <td>332</td>\n",
       "      <td>...</td>\n",
       "      <td>11.0</td>\n",
       "      <td>26.0</td>\n",
       "      <td>3</td>\n",
       "      <td>2008</td>\n",
       "      <td>11</td>\n",
       "      <td>26</td>\n",
       "      <td>3</td>\n",
       "      <td>1</td>\n",
       "      <td>-0.133617</td>\n",
       "      <td>-1</td>\n",
       "    </tr>\n",
       "    <tr>\n",
       "      <th>12</th>\n",
       "      <td>1</td>\n",
       "      <td>2</td>\n",
       "      <td>59</td>\n",
       "      <td>1681</td>\n",
       "      <td>2</td>\n",
       "      <td>2</td>\n",
       "      <td>0</td>\n",
       "      <td>5</td>\n",
       "      <td>1071</td>\n",
       "      <td>475</td>\n",
       "      <td>...</td>\n",
       "      <td>11.0</td>\n",
       "      <td>26.0</td>\n",
       "      <td>3</td>\n",
       "      <td>2008</td>\n",
       "      <td>11</td>\n",
       "      <td>26</td>\n",
       "      <td>3</td>\n",
       "      <td>1</td>\n",
       "      <td>-0.133617</td>\n",
       "      <td>-1</td>\n",
       "    </tr>\n",
       "    <tr>\n",
       "      <th>13</th>\n",
       "      <td>1</td>\n",
       "      <td>2</td>\n",
       "      <td>59</td>\n",
       "      <td>1681</td>\n",
       "      <td>2</td>\n",
       "      <td>2</td>\n",
       "      <td>0</td>\n",
       "      <td>5</td>\n",
       "      <td>1071</td>\n",
       "      <td>475</td>\n",
       "      <td>...</td>\n",
       "      <td>11.0</td>\n",
       "      <td>26.0</td>\n",
       "      <td>3</td>\n",
       "      <td>2008</td>\n",
       "      <td>11</td>\n",
       "      <td>26</td>\n",
       "      <td>3</td>\n",
       "      <td>1</td>\n",
       "      <td>-0.133617</td>\n",
       "      <td>-1</td>\n",
       "    </tr>\n",
       "    <tr>\n",
       "      <th>14</th>\n",
       "      <td>0</td>\n",
       "      <td>1</td>\n",
       "      <td>60</td>\n",
       "      <td>1304</td>\n",
       "      <td>2</td>\n",
       "      <td>0</td>\n",
       "      <td>0</td>\n",
       "      <td>11</td>\n",
       "      <td>1623</td>\n",
       "      <td>543</td>\n",
       "      <td>...</td>\n",
       "      <td>11.0</td>\n",
       "      <td>26.0</td>\n",
       "      <td>3</td>\n",
       "      <td>2008</td>\n",
       "      <td>11</td>\n",
       "      <td>26</td>\n",
       "      <td>3</td>\n",
       "      <td>0</td>\n",
       "      <td>0.000000</td>\n",
       "      <td>1</td>\n",
       "    </tr>\n",
       "    <tr>\n",
       "      <th>15</th>\n",
       "      <td>1</td>\n",
       "      <td>1</td>\n",
       "      <td>61</td>\n",
       "      <td>1300</td>\n",
       "      <td>1</td>\n",
       "      <td>0</td>\n",
       "      <td>0</td>\n",
       "      <td>11</td>\n",
       "      <td>1623</td>\n",
       "      <td>543</td>\n",
       "      <td>...</td>\n",
       "      <td>11.0</td>\n",
       "      <td>26.0</td>\n",
       "      <td>3</td>\n",
       "      <td>2008</td>\n",
       "      <td>11</td>\n",
       "      <td>26</td>\n",
       "      <td>3</td>\n",
       "      <td>0</td>\n",
       "      <td>0.000000</td>\n",
       "      <td>1</td>\n",
       "    </tr>\n",
       "    <tr>\n",
       "      <th>16</th>\n",
       "      <td>0</td>\n",
       "      <td>1</td>\n",
       "      <td>60</td>\n",
       "      <td>1304</td>\n",
       "      <td>2</td>\n",
       "      <td>0</td>\n",
       "      <td>0</td>\n",
       "      <td>11</td>\n",
       "      <td>1623</td>\n",
       "      <td>543</td>\n",
       "      <td>...</td>\n",
       "      <td>11.0</td>\n",
       "      <td>26.0</td>\n",
       "      <td>3</td>\n",
       "      <td>2008</td>\n",
       "      <td>11</td>\n",
       "      <td>26</td>\n",
       "      <td>3</td>\n",
       "      <td>0</td>\n",
       "      <td>0.000000</td>\n",
       "      <td>1</td>\n",
       "    </tr>\n",
       "    <tr>\n",
       "      <th>17</th>\n",
       "      <td>0</td>\n",
       "      <td>1</td>\n",
       "      <td>62</td>\n",
       "      <td>845</td>\n",
       "      <td>1</td>\n",
       "      <td>0</td>\n",
       "      <td>0</td>\n",
       "      <td>11</td>\n",
       "      <td>1623</td>\n",
       "      <td>543</td>\n",
       "      <td>...</td>\n",
       "      <td>11.0</td>\n",
       "      <td>26.0</td>\n",
       "      <td>3</td>\n",
       "      <td>2008</td>\n",
       "      <td>11</td>\n",
       "      <td>26</td>\n",
       "      <td>3</td>\n",
       "      <td>0</td>\n",
       "      <td>0.000000</td>\n",
       "      <td>1</td>\n",
       "    </tr>\n",
       "    <tr>\n",
       "      <th>18</th>\n",
       "      <td>0</td>\n",
       "      <td>0</td>\n",
       "      <td>64</td>\n",
       "      <td>2014</td>\n",
       "      <td>0</td>\n",
       "      <td>0</td>\n",
       "      <td>1</td>\n",
       "      <td>7</td>\n",
       "      <td>1623</td>\n",
       "      <td>733</td>\n",
       "      <td>...</td>\n",
       "      <td>11.0</td>\n",
       "      <td>26.0</td>\n",
       "      <td>3</td>\n",
       "      <td>2008</td>\n",
       "      <td>11</td>\n",
       "      <td>26</td>\n",
       "      <td>3</td>\n",
       "      <td>0</td>\n",
       "      <td>0.000000</td>\n",
       "      <td>1</td>\n",
       "    </tr>\n",
       "    <tr>\n",
       "      <th>19</th>\n",
       "      <td>0</td>\n",
       "      <td>0</td>\n",
       "      <td>64</td>\n",
       "      <td>2014</td>\n",
       "      <td>0</td>\n",
       "      <td>0</td>\n",
       "      <td>1</td>\n",
       "      <td>7</td>\n",
       "      <td>1623</td>\n",
       "      <td>733</td>\n",
       "      <td>...</td>\n",
       "      <td>11.0</td>\n",
       "      <td>26.0</td>\n",
       "      <td>3</td>\n",
       "      <td>2008</td>\n",
       "      <td>11</td>\n",
       "      <td>26</td>\n",
       "      <td>3</td>\n",
       "      <td>0</td>\n",
       "      <td>0.000000</td>\n",
       "      <td>1</td>\n",
       "    </tr>\n",
       "  </tbody>\n",
       "</table>\n",
       "<p>20 rows × 40 columns</p>\n",
       "</div>"
      ],
      "text/plain": [
       "    album_comments  album_favorites  album_id  album_listens  album_tracks  \\\n",
       "0                0                4         1           6073             7   \n",
       "1                0                4         1           6073             7   \n",
       "2                0                4         1           6073             7   \n",
       "3                0                4         6          47632             2   \n",
       "4                0                2         4           2710            13   \n",
       "5                0                2         4           2710            13   \n",
       "6                0                2         4           2710            13   \n",
       "7                0                2         4           2710            13   \n",
       "8                0                2         4           2710            13   \n",
       "9                0                4         1           6073             7   \n",
       "10               1                0        58           3331             4   \n",
       "11               1                0        58           3331             4   \n",
       "12               1                2        59           1681             2   \n",
       "13               1                2        59           1681             2   \n",
       "14               0                1        60           1304             2   \n",
       "15               1                1        61           1300             1   \n",
       "16               0                1        60           1304             2   \n",
       "17               0                1        62            845             1   \n",
       "18               0                0        64           2014             0   \n",
       "19               0                0        64           2014             0   \n",
       "\n",
       "    album_type  artist_comments  artist_favorites  artist_location  \\\n",
       "0            0                0                 9             1323   \n",
       "1            0                0                 9             1323   \n",
       "2            0                0                 9             1323   \n",
       "3            0                3                74              343   \n",
       "4            0                2                10              523   \n",
       "5            0                2                10              523   \n",
       "6            0                2                10              523   \n",
       "7            0                2                10              523   \n",
       "8            0                2                10              523   \n",
       "9            0                0                 9             1323   \n",
       "10           4                1                 0              343   \n",
       "11           4                1                 0              343   \n",
       "12           2                0                 5             1071   \n",
       "13           2                0                 5             1071   \n",
       "14           0                0                11             1623   \n",
       "15           0                0                11             1623   \n",
       "16           0                0                11             1623   \n",
       "17           0                0                11             1623   \n",
       "18           0                1                 7             1623   \n",
       "19           0                1                 7             1623   \n",
       "\n",
       "    artist_name  ...  artist_date_created_month  artist_date_created_day  \\\n",
       "0           299  ...                       11.0                     26.0   \n",
       "1           299  ...                       11.0                     26.0   \n",
       "2           299  ...                       11.0                     26.0   \n",
       "3          7419  ...                       11.0                     26.0   \n",
       "4          9551  ...                       11.0                     26.0   \n",
       "5          9551  ...                       11.0                     26.0   \n",
       "6          9551  ...                       11.0                     26.0   \n",
       "7          9551  ...                       11.0                     26.0   \n",
       "8          9551  ...                       11.0                     26.0   \n",
       "9           299  ...                       11.0                     26.0   \n",
       "10          332  ...                       11.0                     26.0   \n",
       "11          332  ...                       11.0                     26.0   \n",
       "12          475  ...                       11.0                     26.0   \n",
       "13          475  ...                       11.0                     26.0   \n",
       "14          543  ...                       11.0                     26.0   \n",
       "15          543  ...                       11.0                     26.0   \n",
       "16          543  ...                       11.0                     26.0   \n",
       "17          543  ...                       11.0                     26.0   \n",
       "18          733  ...                       11.0                     26.0   \n",
       "19          733  ...                       11.0                     26.0   \n",
       "\n",
       "    artist_date_created_daytime  track_date_created_year  \\\n",
       "0                             3                     2008   \n",
       "1                             3                     2008   \n",
       "2                             3                     2008   \n",
       "3                             3                     2008   \n",
       "4                             3                     2008   \n",
       "5                             3                     2008   \n",
       "6                             3                     2008   \n",
       "7                             3                     2008   \n",
       "8                             3                     2008   \n",
       "9                             3                     2008   \n",
       "10                            3                     2008   \n",
       "11                            3                     2008   \n",
       "12                            3                     2008   \n",
       "13                            3                     2008   \n",
       "14                            3                     2008   \n",
       "15                            3                     2008   \n",
       "16                            3                     2008   \n",
       "17                            3                     2008   \n",
       "18                            3                     2008   \n",
       "19                            3                     2008   \n",
       "\n",
       "    track_date_created_month  track_date_created_day  \\\n",
       "0                         11                      26   \n",
       "1                         11                      26   \n",
       "2                         11                      26   \n",
       "3                         11                      25   \n",
       "4                         11                      26   \n",
       "5                         11                      26   \n",
       "6                         11                      26   \n",
       "7                         11                      26   \n",
       "8                         11                      26   \n",
       "9                         11                      26   \n",
       "10                        11                      26   \n",
       "11                        11                      26   \n",
       "12                        11                      26   \n",
       "13                        11                      26   \n",
       "14                        11                      26   \n",
       "15                        11                      26   \n",
       "16                        11                      26   \n",
       "17                        11                      26   \n",
       "18                        11                      26   \n",
       "19                        11                      26   \n",
       "\n",
       "    track_date_created_daytime  \\\n",
       "0                            3   \n",
       "1                            3   \n",
       "2                            3   \n",
       "3                            0   \n",
       "4                            3   \n",
       "5                            3   \n",
       "6                            3   \n",
       "7                            3   \n",
       "8                            3   \n",
       "9                            3   \n",
       "10                           3   \n",
       "11                           3   \n",
       "12                           3   \n",
       "13                           3   \n",
       "14                           3   \n",
       "15                           3   \n",
       "16                           3   \n",
       "17                           3   \n",
       "18                           3   \n",
       "19                           3   \n",
       "\n",
       "    Attribution-NonCommercial-ShareAlike 3.0 International    scores  \\\n",
       "0                                                   1      -0.133617   \n",
       "1                                                   1      -0.133617   \n",
       "2                                                   1      -0.133617   \n",
       "3                                                   0       0.000000   \n",
       "4                                                   0       0.000000   \n",
       "5                                                   0       0.000000   \n",
       "6                                                   0       0.000000   \n",
       "7                                                   0       0.000000   \n",
       "8                                                   0       0.000000   \n",
       "9                                                   1      -0.133617   \n",
       "10                                                  1      -0.133617   \n",
       "11                                                  1      -0.133617   \n",
       "12                                                  1      -0.133617   \n",
       "13                                                  1      -0.133617   \n",
       "14                                                  0       0.000000   \n",
       "15                                                  0       0.000000   \n",
       "16                                                  0       0.000000   \n",
       "17                                                  0       0.000000   \n",
       "18                                                  0       0.000000   \n",
       "19                                                  0       0.000000   \n",
       "\n",
       "    anomaly_Value  \n",
       "0              -1  \n",
       "1              -1  \n",
       "2              -1  \n",
       "3               1  \n",
       "4               1  \n",
       "5               1  \n",
       "6               1  \n",
       "7               1  \n",
       "8               1  \n",
       "9              -1  \n",
       "10             -1  \n",
       "11             -1  \n",
       "12             -1  \n",
       "13             -1  \n",
       "14              1  \n",
       "15              1  \n",
       "16              1  \n",
       "17              1  \n",
       "18              1  \n",
       "19              1  \n",
       "\n",
       "[20 rows x 40 columns]"
      ]
     },
     "execution_count": 23,
     "metadata": {},
     "output_type": "execute_result"
    }
   ],
   "source": [
    "tracks['scores']=clf.decision_function(tracks[['Attribution-NonCommercial-ShareAlike 3.0 International']])\n",
    "tracks['anomaly_Value']=clf.predict(tracks[['Attribution-NonCommercial-ShareAlike 3.0 International']])\n",
    "tracks.head(20)"
   ]
  },
  {
   "cell_type": "code",
   "execution_count": 24,
   "metadata": {},
   "outputs": [
    {
     "data": {
      "text/html": [
       "<div>\n",
       "<style scoped>\n",
       "    .dataframe tbody tr th:only-of-type {\n",
       "        vertical-align: middle;\n",
       "    }\n",
       "\n",
       "    .dataframe tbody tr th {\n",
       "        vertical-align: top;\n",
       "    }\n",
       "\n",
       "    .dataframe thead th {\n",
       "        text-align: right;\n",
       "    }\n",
       "</style>\n",
       "<table border=\"1\" class=\"dataframe\">\n",
       "  <thead>\n",
       "    <tr style=\"text-align: right;\">\n",
       "      <th></th>\n",
       "      <th>album_comments</th>\n",
       "      <th>album_favorites</th>\n",
       "      <th>album_id</th>\n",
       "      <th>album_listens</th>\n",
       "      <th>album_tracks</th>\n",
       "      <th>album_type</th>\n",
       "      <th>artist_comments</th>\n",
       "      <th>artist_favorites</th>\n",
       "      <th>artist_location</th>\n",
       "      <th>artist_name</th>\n",
       "      <th>...</th>\n",
       "      <th>artist_date_created_month</th>\n",
       "      <th>artist_date_created_day</th>\n",
       "      <th>artist_date_created_daytime</th>\n",
       "      <th>track_date_created_year</th>\n",
       "      <th>track_date_created_month</th>\n",
       "      <th>track_date_created_day</th>\n",
       "      <th>track_date_created_daytime</th>\n",
       "      <th>Attribution-NonCommercial-ShareAlike 3.0 International</th>\n",
       "      <th>scores</th>\n",
       "      <th>anomaly_Value</th>\n",
       "    </tr>\n",
       "  </thead>\n",
       "  <tbody>\n",
       "    <tr>\n",
       "      <th>0</th>\n",
       "      <td>0</td>\n",
       "      <td>4</td>\n",
       "      <td>1</td>\n",
       "      <td>6073</td>\n",
       "      <td>7</td>\n",
       "      <td>0</td>\n",
       "      <td>0</td>\n",
       "      <td>9</td>\n",
       "      <td>1323</td>\n",
       "      <td>299</td>\n",
       "      <td>...</td>\n",
       "      <td>11.0</td>\n",
       "      <td>26.0</td>\n",
       "      <td>3</td>\n",
       "      <td>2008</td>\n",
       "      <td>11</td>\n",
       "      <td>26</td>\n",
       "      <td>3</td>\n",
       "      <td>1</td>\n",
       "      <td>-0.133617</td>\n",
       "      <td>-1</td>\n",
       "    </tr>\n",
       "    <tr>\n",
       "      <th>1</th>\n",
       "      <td>0</td>\n",
       "      <td>4</td>\n",
       "      <td>1</td>\n",
       "      <td>6073</td>\n",
       "      <td>7</td>\n",
       "      <td>0</td>\n",
       "      <td>0</td>\n",
       "      <td>9</td>\n",
       "      <td>1323</td>\n",
       "      <td>299</td>\n",
       "      <td>...</td>\n",
       "      <td>11.0</td>\n",
       "      <td>26.0</td>\n",
       "      <td>3</td>\n",
       "      <td>2008</td>\n",
       "      <td>11</td>\n",
       "      <td>26</td>\n",
       "      <td>3</td>\n",
       "      <td>1</td>\n",
       "      <td>-0.133617</td>\n",
       "      <td>-1</td>\n",
       "    </tr>\n",
       "    <tr>\n",
       "      <th>2</th>\n",
       "      <td>0</td>\n",
       "      <td>4</td>\n",
       "      <td>1</td>\n",
       "      <td>6073</td>\n",
       "      <td>7</td>\n",
       "      <td>0</td>\n",
       "      <td>0</td>\n",
       "      <td>9</td>\n",
       "      <td>1323</td>\n",
       "      <td>299</td>\n",
       "      <td>...</td>\n",
       "      <td>11.0</td>\n",
       "      <td>26.0</td>\n",
       "      <td>3</td>\n",
       "      <td>2008</td>\n",
       "      <td>11</td>\n",
       "      <td>26</td>\n",
       "      <td>3</td>\n",
       "      <td>1</td>\n",
       "      <td>-0.133617</td>\n",
       "      <td>-1</td>\n",
       "    </tr>\n",
       "    <tr>\n",
       "      <th>9</th>\n",
       "      <td>0</td>\n",
       "      <td>4</td>\n",
       "      <td>1</td>\n",
       "      <td>6073</td>\n",
       "      <td>7</td>\n",
       "      <td>0</td>\n",
       "      <td>0</td>\n",
       "      <td>9</td>\n",
       "      <td>1323</td>\n",
       "      <td>299</td>\n",
       "      <td>...</td>\n",
       "      <td>11.0</td>\n",
       "      <td>26.0</td>\n",
       "      <td>3</td>\n",
       "      <td>2008</td>\n",
       "      <td>11</td>\n",
       "      <td>26</td>\n",
       "      <td>3</td>\n",
       "      <td>1</td>\n",
       "      <td>-0.133617</td>\n",
       "      <td>-1</td>\n",
       "    </tr>\n",
       "    <tr>\n",
       "      <th>10</th>\n",
       "      <td>1</td>\n",
       "      <td>0</td>\n",
       "      <td>58</td>\n",
       "      <td>3331</td>\n",
       "      <td>4</td>\n",
       "      <td>4</td>\n",
       "      <td>1</td>\n",
       "      <td>0</td>\n",
       "      <td>343</td>\n",
       "      <td>332</td>\n",
       "      <td>...</td>\n",
       "      <td>11.0</td>\n",
       "      <td>26.0</td>\n",
       "      <td>3</td>\n",
       "      <td>2008</td>\n",
       "      <td>11</td>\n",
       "      <td>26</td>\n",
       "      <td>3</td>\n",
       "      <td>1</td>\n",
       "      <td>-0.133617</td>\n",
       "      <td>-1</td>\n",
       "    </tr>\n",
       "    <tr>\n",
       "      <th>...</th>\n",
       "      <td>...</td>\n",
       "      <td>...</td>\n",
       "      <td>...</td>\n",
       "      <td>...</td>\n",
       "      <td>...</td>\n",
       "      <td>...</td>\n",
       "      <td>...</td>\n",
       "      <td>...</td>\n",
       "      <td>...</td>\n",
       "      <td>...</td>\n",
       "      <td>...</td>\n",
       "      <td>...</td>\n",
       "      <td>...</td>\n",
       "      <td>...</td>\n",
       "      <td>...</td>\n",
       "      <td>...</td>\n",
       "      <td>...</td>\n",
       "      <td>...</td>\n",
       "      <td>...</td>\n",
       "      <td>...</td>\n",
       "      <td>...</td>\n",
       "    </tr>\n",
       "    <tr>\n",
       "      <th>104700</th>\n",
       "      <td>0</td>\n",
       "      <td>1</td>\n",
       "      <td>22432</td>\n",
       "      <td>20144</td>\n",
       "      <td>12</td>\n",
       "      <td>0</td>\n",
       "      <td>0</td>\n",
       "      <td>0</td>\n",
       "      <td>343</td>\n",
       "      <td>2262</td>\n",
       "      <td>...</td>\n",
       "      <td>2.0</td>\n",
       "      <td>13.0</td>\n",
       "      <td>3</td>\n",
       "      <td>2017</td>\n",
       "      <td>2</td>\n",
       "      <td>13</td>\n",
       "      <td>3</td>\n",
       "      <td>1</td>\n",
       "      <td>-0.133617</td>\n",
       "      <td>-1</td>\n",
       "    </tr>\n",
       "    <tr>\n",
       "      <th>104798</th>\n",
       "      <td>0</td>\n",
       "      <td>1</td>\n",
       "      <td>22432</td>\n",
       "      <td>20144</td>\n",
       "      <td>12</td>\n",
       "      <td>0</td>\n",
       "      <td>0</td>\n",
       "      <td>0</td>\n",
       "      <td>343</td>\n",
       "      <td>3683</td>\n",
       "      <td>...</td>\n",
       "      <td>2.0</td>\n",
       "      <td>15.0</td>\n",
       "      <td>0</td>\n",
       "      <td>2017</td>\n",
       "      <td>2</td>\n",
       "      <td>15</td>\n",
       "      <td>0</td>\n",
       "      <td>1</td>\n",
       "      <td>-0.133617</td>\n",
       "      <td>-1</td>\n",
       "    </tr>\n",
       "    <tr>\n",
       "      <th>104799</th>\n",
       "      <td>0</td>\n",
       "      <td>1</td>\n",
       "      <td>22432</td>\n",
       "      <td>20144</td>\n",
       "      <td>12</td>\n",
       "      <td>0</td>\n",
       "      <td>0</td>\n",
       "      <td>0</td>\n",
       "      <td>343</td>\n",
       "      <td>8561</td>\n",
       "      <td>...</td>\n",
       "      <td>2.0</td>\n",
       "      <td>15.0</td>\n",
       "      <td>0</td>\n",
       "      <td>2017</td>\n",
       "      <td>2</td>\n",
       "      <td>15</td>\n",
       "      <td>0</td>\n",
       "      <td>1</td>\n",
       "      <td>-0.133617</td>\n",
       "      <td>-1</td>\n",
       "    </tr>\n",
       "    <tr>\n",
       "      <th>104800</th>\n",
       "      <td>0</td>\n",
       "      <td>1</td>\n",
       "      <td>22432</td>\n",
       "      <td>20144</td>\n",
       "      <td>12</td>\n",
       "      <td>0</td>\n",
       "      <td>0</td>\n",
       "      <td>0</td>\n",
       "      <td>343</td>\n",
       "      <td>2164</td>\n",
       "      <td>...</td>\n",
       "      <td>2.0</td>\n",
       "      <td>15.0</td>\n",
       "      <td>0</td>\n",
       "      <td>2017</td>\n",
       "      <td>2</td>\n",
       "      <td>15</td>\n",
       "      <td>0</td>\n",
       "      <td>1</td>\n",
       "      <td>-0.133617</td>\n",
       "      <td>-1</td>\n",
       "    </tr>\n",
       "    <tr>\n",
       "      <th>104801</th>\n",
       "      <td>0</td>\n",
       "      <td>1</td>\n",
       "      <td>22432</td>\n",
       "      <td>20144</td>\n",
       "      <td>12</td>\n",
       "      <td>0</td>\n",
       "      <td>0</td>\n",
       "      <td>0</td>\n",
       "      <td>343</td>\n",
       "      <td>3683</td>\n",
       "      <td>...</td>\n",
       "      <td>2.0</td>\n",
       "      <td>15.0</td>\n",
       "      <td>0</td>\n",
       "      <td>2017</td>\n",
       "      <td>2</td>\n",
       "      <td>15</td>\n",
       "      <td>0</td>\n",
       "      <td>1</td>\n",
       "      <td>-0.133617</td>\n",
       "      <td>-1</td>\n",
       "    </tr>\n",
       "  </tbody>\n",
       "</table>\n",
       "<p>15260 rows × 40 columns</p>\n",
       "</div>"
      ],
      "text/plain": [
       "        album_comments  album_favorites  album_id  album_listens  \\\n",
       "0                    0                4         1           6073   \n",
       "1                    0                4         1           6073   \n",
       "2                    0                4         1           6073   \n",
       "9                    0                4         1           6073   \n",
       "10                   1                0        58           3331   \n",
       "...                ...              ...       ...            ...   \n",
       "104700               0                1     22432          20144   \n",
       "104798               0                1     22432          20144   \n",
       "104799               0                1     22432          20144   \n",
       "104800               0                1     22432          20144   \n",
       "104801               0                1     22432          20144   \n",
       "\n",
       "        album_tracks  album_type  artist_comments  artist_favorites  \\\n",
       "0                  7           0                0                 9   \n",
       "1                  7           0                0                 9   \n",
       "2                  7           0                0                 9   \n",
       "9                  7           0                0                 9   \n",
       "10                 4           4                1                 0   \n",
       "...              ...         ...              ...               ...   \n",
       "104700            12           0                0                 0   \n",
       "104798            12           0                0                 0   \n",
       "104799            12           0                0                 0   \n",
       "104800            12           0                0                 0   \n",
       "104801            12           0                0                 0   \n",
       "\n",
       "        artist_location  artist_name  ...  artist_date_created_month  \\\n",
       "0                  1323          299  ...                       11.0   \n",
       "1                  1323          299  ...                       11.0   \n",
       "2                  1323          299  ...                       11.0   \n",
       "9                  1323          299  ...                       11.0   \n",
       "10                  343          332  ...                       11.0   \n",
       "...                 ...          ...  ...                        ...   \n",
       "104700              343         2262  ...                        2.0   \n",
       "104798              343         3683  ...                        2.0   \n",
       "104799              343         8561  ...                        2.0   \n",
       "104800              343         2164  ...                        2.0   \n",
       "104801              343         3683  ...                        2.0   \n",
       "\n",
       "        artist_date_created_day  artist_date_created_daytime  \\\n",
       "0                          26.0                            3   \n",
       "1                          26.0                            3   \n",
       "2                          26.0                            3   \n",
       "9                          26.0                            3   \n",
       "10                         26.0                            3   \n",
       "...                         ...                          ...   \n",
       "104700                     13.0                            3   \n",
       "104798                     15.0                            0   \n",
       "104799                     15.0                            0   \n",
       "104800                     15.0                            0   \n",
       "104801                     15.0                            0   \n",
       "\n",
       "        track_date_created_year  track_date_created_month  \\\n",
       "0                          2008                        11   \n",
       "1                          2008                        11   \n",
       "2                          2008                        11   \n",
       "9                          2008                        11   \n",
       "10                         2008                        11   \n",
       "...                         ...                       ...   \n",
       "104700                     2017                         2   \n",
       "104798                     2017                         2   \n",
       "104799                     2017                         2   \n",
       "104800                     2017                         2   \n",
       "104801                     2017                         2   \n",
       "\n",
       "        track_date_created_day  track_date_created_daytime  \\\n",
       "0                           26                           3   \n",
       "1                           26                           3   \n",
       "2                           26                           3   \n",
       "9                           26                           3   \n",
       "10                          26                           3   \n",
       "...                        ...                         ...   \n",
       "104700                      13                           3   \n",
       "104798                      15                           0   \n",
       "104799                      15                           0   \n",
       "104800                      15                           0   \n",
       "104801                      15                           0   \n",
       "\n",
       "        Attribution-NonCommercial-ShareAlike 3.0 International    scores  \\\n",
       "0                                                       1      -0.133617   \n",
       "1                                                       1      -0.133617   \n",
       "2                                                       1      -0.133617   \n",
       "9                                                       1      -0.133617   \n",
       "10                                                      1      -0.133617   \n",
       "...                                                   ...            ...   \n",
       "104700                                                  1      -0.133617   \n",
       "104798                                                  1      -0.133617   \n",
       "104799                                                  1      -0.133617   \n",
       "104800                                                  1      -0.133617   \n",
       "104801                                                  1      -0.133617   \n",
       "\n",
       "        anomaly_Value  \n",
       "0                  -1  \n",
       "1                  -1  \n",
       "2                  -1  \n",
       "9                  -1  \n",
       "10                 -1  \n",
       "...               ...  \n",
       "104700             -1  \n",
       "104798             -1  \n",
       "104799             -1  \n",
       "104800             -1  \n",
       "104801             -1  \n",
       "\n",
       "[15260 rows x 40 columns]"
      ]
     },
     "execution_count": 24,
     "metadata": {},
     "output_type": "execute_result"
    }
   ],
   "source": [
    "anomaly=tracks.loc[tracks['anomaly_Value']==-1]\n",
    "anomaly_index=list(anomaly.index)\n",
    "anomaly"
   ]
  },
  {
   "cell_type": "code",
   "execution_count": 25,
   "metadata": {},
   "outputs": [
    {
     "data": {
      "text/plain": [
       "90469"
      ]
     },
     "execution_count": 25,
     "metadata": {},
     "output_type": "execute_result"
    }
   ],
   "source": [
    "outliers_counter = len(tracks[tracks['album_listens'] > 2000])\n",
    "outliers_counter"
   ]
  },
  {
   "cell_type": "code",
   "execution_count": 26,
   "metadata": {},
   "outputs": [
    {
     "name": "stdout",
     "output_type": "stream",
     "text": [
      "Accuracy percentage: 16.86765632426577\n"
     ]
    }
   ],
   "source": [
    "print(\"Accuracy percentage:\", 100*list(tracks['anomaly_Value']).count(-1)/(outliers_counter))"
   ]
  },
  {
   "cell_type": "markdown",
   "metadata": {},
   "source": [
    "PyOD"
   ]
  },
  {
   "cell_type": "code",
   "execution_count": 27,
   "metadata": {},
   "outputs": [
    {
     "name": "stderr",
     "output_type": "stream",
     "text": [
      "C:\\Users\\user\\anaconda3\\lib\\site-packages\\tensorflow\\python\\framework\\dtypes.py:516: FutureWarning: Passing (type, 1) or '1type' as a synonym of type is deprecated; in a future version of numpy, it will be understood as (type, (1,)) / '(1,)type'.\n",
      "  _np_qint8 = np.dtype([(\"qint8\", np.int8, 1)])\n",
      "C:\\Users\\user\\anaconda3\\lib\\site-packages\\tensorflow\\python\\framework\\dtypes.py:517: FutureWarning: Passing (type, 1) or '1type' as a synonym of type is deprecated; in a future version of numpy, it will be understood as (type, (1,)) / '(1,)type'.\n",
      "  _np_quint8 = np.dtype([(\"quint8\", np.uint8, 1)])\n",
      "C:\\Users\\user\\anaconda3\\lib\\site-packages\\tensorflow\\python\\framework\\dtypes.py:518: FutureWarning: Passing (type, 1) or '1type' as a synonym of type is deprecated; in a future version of numpy, it will be understood as (type, (1,)) / '(1,)type'.\n",
      "  _np_qint16 = np.dtype([(\"qint16\", np.int16, 1)])\n",
      "C:\\Users\\user\\anaconda3\\lib\\site-packages\\tensorflow\\python\\framework\\dtypes.py:519: FutureWarning: Passing (type, 1) or '1type' as a synonym of type is deprecated; in a future version of numpy, it will be understood as (type, (1,)) / '(1,)type'.\n",
      "  _np_quint16 = np.dtype([(\"quint16\", np.uint16, 1)])\n",
      "C:\\Users\\user\\anaconda3\\lib\\site-packages\\tensorflow\\python\\framework\\dtypes.py:520: FutureWarning: Passing (type, 1) or '1type' as a synonym of type is deprecated; in a future version of numpy, it will be understood as (type, (1,)) / '(1,)type'.\n",
      "  _np_qint32 = np.dtype([(\"qint32\", np.int32, 1)])\n",
      "C:\\Users\\user\\anaconda3\\lib\\site-packages\\tensorflow\\python\\framework\\dtypes.py:525: FutureWarning: Passing (type, 1) or '1type' as a synonym of type is deprecated; in a future version of numpy, it will be understood as (type, (1,)) / '(1,)type'.\n",
      "  np_resource = np.dtype([(\"resource\", np.ubyte, 1)])\n",
      "C:\\Users\\user\\anaconda3\\lib\\site-packages\\tensorboard\\compat\\tensorflow_stub\\dtypes.py:541: FutureWarning: Passing (type, 1) or '1type' as a synonym of type is deprecated; in a future version of numpy, it will be understood as (type, (1,)) / '(1,)type'.\n",
      "  _np_qint8 = np.dtype([(\"qint8\", np.int8, 1)])\n",
      "C:\\Users\\user\\anaconda3\\lib\\site-packages\\tensorboard\\compat\\tensorflow_stub\\dtypes.py:542: FutureWarning: Passing (type, 1) or '1type' as a synonym of type is deprecated; in a future version of numpy, it will be understood as (type, (1,)) / '(1,)type'.\n",
      "  _np_quint8 = np.dtype([(\"quint8\", np.uint8, 1)])\n",
      "C:\\Users\\user\\anaconda3\\lib\\site-packages\\tensorboard\\compat\\tensorflow_stub\\dtypes.py:543: FutureWarning: Passing (type, 1) or '1type' as a synonym of type is deprecated; in a future version of numpy, it will be understood as (type, (1,)) / '(1,)type'.\n",
      "  _np_qint16 = np.dtype([(\"qint16\", np.int16, 1)])\n",
      "C:\\Users\\user\\anaconda3\\lib\\site-packages\\tensorboard\\compat\\tensorflow_stub\\dtypes.py:544: FutureWarning: Passing (type, 1) or '1type' as a synonym of type is deprecated; in a future version of numpy, it will be understood as (type, (1,)) / '(1,)type'.\n",
      "  _np_quint16 = np.dtype([(\"quint16\", np.uint16, 1)])\n",
      "C:\\Users\\user\\anaconda3\\lib\\site-packages\\tensorboard\\compat\\tensorflow_stub\\dtypes.py:545: FutureWarning: Passing (type, 1) or '1type' as a synonym of type is deprecated; in a future version of numpy, it will be understood as (type, (1,)) / '(1,)type'.\n",
      "  _np_qint32 = np.dtype([(\"qint32\", np.int32, 1)])\n",
      "C:\\Users\\user\\anaconda3\\lib\\site-packages\\tensorboard\\compat\\tensorflow_stub\\dtypes.py:550: FutureWarning: Passing (type, 1) or '1type' as a synonym of type is deprecated; in a future version of numpy, it will be understood as (type, (1,)) / '(1,)type'.\n",
      "  np_resource = np.dtype([(\"resource\", np.ubyte, 1)])\n",
      "Using TensorFlow backend.\n"
     ]
    }
   ],
   "source": [
    "from pyod.models.abod import ABOD\n",
    "from pyod.models.knn import KNN\n",
    "from pyod.models.lof import LOF\n",
    "from pyod.models.loci import LOCI\n",
    "from pyod.utils.data import generate_data\n",
    "from pyod.utils.data import evaluate_print\n",
    "from pyod.utils.example import visualize\n",
    "from pyod.models.auto_encoder import AutoEncoder"
   ]
  },
  {
   "cell_type": "markdown",
   "metadata": {},
   "source": [
    "ABOD"
   ]
  },
  {
   "cell_type": "code",
   "execution_count": 28,
   "metadata": {},
   "outputs": [
    {
     "ename": "TypingError",
     "evalue": "Failed in nopython mode pipeline (step: nopython frontend)\n\u001b[1m\u001b[1m\u001b[1mInvalid use of Function(<function dot at 0x000002993D7FFF78>) with argument(s) of type(s): (array(int32, 1d, C), array(int32, 1d, C))\n * parameterized\n\u001b[1mIn definition 0:\u001b[0m\n\u001b[1m    TypingError: \u001b[1mnp.dot() only supported on float and complex arrays\u001b[0m\u001b[0m\n    raised from C:\\Users\\user\\anaconda3\\lib\\site-packages\\numba\\typing\\npydecl.py:965\n\u001b[1mIn definition 1:\u001b[0m\n\u001b[1m    TypingError: \u001b[1mnp.dot() only supported on float and complex arrays\u001b[0m\u001b[0m\n    raised from C:\\Users\\user\\anaconda3\\lib\\site-packages\\numba\\typing\\npydecl.py:965\n\u001b[1mThis error is usually caused by passing an argument of a type that is unsupported by the named function.\u001b[0m\u001b[0m\n\u001b[0m\u001b[1m[1] During: resolving callee type: Function(<function dot at 0x000002993D7FFF78>)\u001b[0m\n\u001b[0m\u001b[1m[2] During: typing of call at C:\\Users\\user\\anaconda3\\lib\\site-packages\\pyod\\models\\abod.py (51)\n\u001b[0m\n\u001b[1m\nFile \"anaconda3\\lib\\site-packages\\pyod\\models\\abod.py\", line 51:\u001b[0m\n\u001b[1mdef _wcos(curr_pt, a, b):  # pragma: no cover\n    <source elided>\n    wcos = np.dot(a_curr, b_curr) / (\n\u001b[1m            np.linalg.norm(a_curr, 2) ** 2) / (\n\u001b[0m            \u001b[1m^\u001b[0m\u001b[0m\n",
     "output_type": "error",
     "traceback": [
      "\u001b[1;31m---------------------------------------------------------------------------\u001b[0m",
      "\u001b[1;31mTypingError\u001b[0m                               Traceback (most recent call last)",
      "\u001b[1;32m<ipython-input-28-7ec9c6f98dd2>\u001b[0m in \u001b[0;36m<module>\u001b[1;34m\u001b[0m\n\u001b[0;32m      1\u001b[0m \u001b[0mclf\u001b[0m \u001b[1;33m=\u001b[0m \u001b[0mABOD\u001b[0m\u001b[1;33m(\u001b[0m\u001b[0mn_neighbors\u001b[0m\u001b[1;33m=\u001b[0m\u001b[1;36m20\u001b[0m\u001b[1;33m)\u001b[0m\u001b[1;33m\u001b[0m\u001b[1;33m\u001b[0m\u001b[0m\n\u001b[1;32m----> 2\u001b[1;33m \u001b[0mclf\u001b[0m\u001b[1;33m.\u001b[0m\u001b[0mfit\u001b[0m\u001b[1;33m(\u001b[0m\u001b[0mX\u001b[0m\u001b[1;33m)\u001b[0m\u001b[1;33m\u001b[0m\u001b[1;33m\u001b[0m\u001b[0m\n\u001b[0m",
      "\u001b[1;32m~\\anaconda3\\lib\\site-packages\\pyod\\models\\abod.py\u001b[0m in \u001b[0;36mfit\u001b[1;34m(self, X, y)\u001b[0m\n\u001b[0;32m    169\u001b[0m \u001b[1;33m\u001b[0m\u001b[0m\n\u001b[0;32m    170\u001b[0m         \u001b[1;32mif\u001b[0m \u001b[0mself\u001b[0m\u001b[1;33m.\u001b[0m\u001b[0mmethod\u001b[0m \u001b[1;33m==\u001b[0m \u001b[1;34m'fast'\u001b[0m\u001b[1;33m:\u001b[0m\u001b[1;33m\u001b[0m\u001b[1;33m\u001b[0m\u001b[0m\n\u001b[1;32m--> 171\u001b[1;33m             \u001b[0mself\u001b[0m\u001b[1;33m.\u001b[0m\u001b[0m_fit_fast\u001b[0m\u001b[1;33m(\u001b[0m\u001b[1;33m)\u001b[0m\u001b[1;33m\u001b[0m\u001b[1;33m\u001b[0m\u001b[0m\n\u001b[0m\u001b[0;32m    172\u001b[0m         \u001b[1;32melif\u001b[0m \u001b[0mself\u001b[0m\u001b[1;33m.\u001b[0m\u001b[0mmethod\u001b[0m \u001b[1;33m==\u001b[0m \u001b[1;34m'default'\u001b[0m\u001b[1;33m:\u001b[0m\u001b[1;33m\u001b[0m\u001b[1;33m\u001b[0m\u001b[0m\n\u001b[0;32m    173\u001b[0m             \u001b[0mself\u001b[0m\u001b[1;33m.\u001b[0m\u001b[0m_fit_default\u001b[0m\u001b[1;33m(\u001b[0m\u001b[1;33m)\u001b[0m\u001b[1;33m\u001b[0m\u001b[1;33m\u001b[0m\u001b[0m\n",
      "\u001b[1;32m~\\anaconda3\\lib\\site-packages\\pyod\\models\\abod.py\u001b[0m in \u001b[0;36m_fit_fast\u001b[1;34m(self)\u001b[0m\n\u001b[0;32m    222\u001b[0m             self.decision_scores_[i, 0] = _calculate_wocs(curr_pt,\n\u001b[0;32m    223\u001b[0m                                                           \u001b[0mself\u001b[0m\u001b[1;33m.\u001b[0m\u001b[0mX_train_\u001b[0m\u001b[1;33m,\u001b[0m\u001b[1;33m\u001b[0m\u001b[1;33m\u001b[0m\u001b[0m\n\u001b[1;32m--> 224\u001b[1;33m                                                           X_ind)\n\u001b[0m\u001b[0;32m    225\u001b[0m         \u001b[1;32mreturn\u001b[0m \u001b[0mself\u001b[0m\u001b[1;33m\u001b[0m\u001b[1;33m\u001b[0m\u001b[0m\n\u001b[0;32m    226\u001b[0m \u001b[1;33m\u001b[0m\u001b[0m\n",
      "\u001b[1;32m~\\anaconda3\\lib\\site-packages\\pyod\\models\\abod.py\u001b[0m in \u001b[0;36m_calculate_wocs\u001b[1;34m(curr_pt, X, X_ind)\u001b[0m\n\u001b[0;32m     85\u001b[0m             \u001b[1;32mcontinue\u001b[0m\u001b[1;33m\u001b[0m\u001b[1;33m\u001b[0m\u001b[0m\n\u001b[0;32m     86\u001b[0m         \u001b[1;31m# add the weighted cosine to the list\u001b[0m\u001b[1;33m\u001b[0m\u001b[1;33m\u001b[0m\u001b[1;33m\u001b[0m\u001b[0m\n\u001b[1;32m---> 87\u001b[1;33m         \u001b[0mwcos_list\u001b[0m\u001b[1;33m.\u001b[0m\u001b[0mappend\u001b[0m\u001b[1;33m(\u001b[0m\u001b[0m_wcos\u001b[0m\u001b[1;33m(\u001b[0m\u001b[0mcurr_pt\u001b[0m\u001b[1;33m,\u001b[0m \u001b[0ma\u001b[0m\u001b[1;33m,\u001b[0m \u001b[0mb\u001b[0m\u001b[1;33m)\u001b[0m\u001b[1;33m)\u001b[0m\u001b[1;33m\u001b[0m\u001b[1;33m\u001b[0m\u001b[0m\n\u001b[0m\u001b[0;32m     88\u001b[0m     \u001b[1;32mreturn\u001b[0m \u001b[0mnp\u001b[0m\u001b[1;33m.\u001b[0m\u001b[0mvar\u001b[0m\u001b[1;33m(\u001b[0m\u001b[0mwcos_list\u001b[0m\u001b[1;33m)\u001b[0m\u001b[1;33m\u001b[0m\u001b[1;33m\u001b[0m\u001b[0m\n\u001b[0;32m     89\u001b[0m \u001b[1;33m\u001b[0m\u001b[0m\n",
      "\u001b[1;32m~\\anaconda3\\lib\\site-packages\\numba\\dispatcher.py\u001b[0m in \u001b[0;36m_compile_for_args\u001b[1;34m(self, *args, **kws)\u001b[0m\n\u001b[0;32m    399\u001b[0m                 \u001b[0me\u001b[0m\u001b[1;33m.\u001b[0m\u001b[0mpatch_message\u001b[0m\u001b[1;33m(\u001b[0m\u001b[0mmsg\u001b[0m\u001b[1;33m)\u001b[0m\u001b[1;33m\u001b[0m\u001b[1;33m\u001b[0m\u001b[0m\n\u001b[0;32m    400\u001b[0m \u001b[1;33m\u001b[0m\u001b[0m\n\u001b[1;32m--> 401\u001b[1;33m             \u001b[0merror_rewrite\u001b[0m\u001b[1;33m(\u001b[0m\u001b[0me\u001b[0m\u001b[1;33m,\u001b[0m \u001b[1;34m'typing'\u001b[0m\u001b[1;33m)\u001b[0m\u001b[1;33m\u001b[0m\u001b[1;33m\u001b[0m\u001b[0m\n\u001b[0m\u001b[0;32m    402\u001b[0m         \u001b[1;32mexcept\u001b[0m \u001b[0merrors\u001b[0m\u001b[1;33m.\u001b[0m\u001b[0mUnsupportedError\u001b[0m \u001b[1;32mas\u001b[0m \u001b[0me\u001b[0m\u001b[1;33m:\u001b[0m\u001b[1;33m\u001b[0m\u001b[1;33m\u001b[0m\u001b[0m\n\u001b[0;32m    403\u001b[0m             \u001b[1;31m# Something unsupported is present in the user code, add help info\u001b[0m\u001b[1;33m\u001b[0m\u001b[1;33m\u001b[0m\u001b[1;33m\u001b[0m\u001b[0m\n",
      "\u001b[1;32m~\\anaconda3\\lib\\site-packages\\numba\\dispatcher.py\u001b[0m in \u001b[0;36merror_rewrite\u001b[1;34m(e, issue_type)\u001b[0m\n\u001b[0;32m    342\u001b[0m                 \u001b[1;32mraise\u001b[0m \u001b[0me\u001b[0m\u001b[1;33m\u001b[0m\u001b[1;33m\u001b[0m\u001b[0m\n\u001b[0;32m    343\u001b[0m             \u001b[1;32melse\u001b[0m\u001b[1;33m:\u001b[0m\u001b[1;33m\u001b[0m\u001b[1;33m\u001b[0m\u001b[0m\n\u001b[1;32m--> 344\u001b[1;33m                 \u001b[0mreraise\u001b[0m\u001b[1;33m(\u001b[0m\u001b[0mtype\u001b[0m\u001b[1;33m(\u001b[0m\u001b[0me\u001b[0m\u001b[1;33m)\u001b[0m\u001b[1;33m,\u001b[0m \u001b[0me\u001b[0m\u001b[1;33m,\u001b[0m \u001b[1;32mNone\u001b[0m\u001b[1;33m)\u001b[0m\u001b[1;33m\u001b[0m\u001b[1;33m\u001b[0m\u001b[0m\n\u001b[0m\u001b[0;32m    345\u001b[0m \u001b[1;33m\u001b[0m\u001b[0m\n\u001b[0;32m    346\u001b[0m         \u001b[0margtypes\u001b[0m \u001b[1;33m=\u001b[0m \u001b[1;33m[\u001b[0m\u001b[1;33m]\u001b[0m\u001b[1;33m\u001b[0m\u001b[1;33m\u001b[0m\u001b[0m\n",
      "\u001b[1;32m~\\anaconda3\\lib\\site-packages\\numba\\six.py\u001b[0m in \u001b[0;36mreraise\u001b[1;34m(tp, value, tb)\u001b[0m\n\u001b[0;32m    666\u001b[0m             \u001b[0mvalue\u001b[0m \u001b[1;33m=\u001b[0m \u001b[0mtp\u001b[0m\u001b[1;33m(\u001b[0m\u001b[1;33m)\u001b[0m\u001b[1;33m\u001b[0m\u001b[1;33m\u001b[0m\u001b[0m\n\u001b[0;32m    667\u001b[0m         \u001b[1;32mif\u001b[0m \u001b[0mvalue\u001b[0m\u001b[1;33m.\u001b[0m\u001b[0m__traceback__\u001b[0m \u001b[1;32mis\u001b[0m \u001b[1;32mnot\u001b[0m \u001b[0mtb\u001b[0m\u001b[1;33m:\u001b[0m\u001b[1;33m\u001b[0m\u001b[1;33m\u001b[0m\u001b[0m\n\u001b[1;32m--> 668\u001b[1;33m             \u001b[1;32mraise\u001b[0m \u001b[0mvalue\u001b[0m\u001b[1;33m.\u001b[0m\u001b[0mwith_traceback\u001b[0m\u001b[1;33m(\u001b[0m\u001b[0mtb\u001b[0m\u001b[1;33m)\u001b[0m\u001b[1;33m\u001b[0m\u001b[1;33m\u001b[0m\u001b[0m\n\u001b[0m\u001b[0;32m    669\u001b[0m         \u001b[1;32mraise\u001b[0m \u001b[0mvalue\u001b[0m\u001b[1;33m\u001b[0m\u001b[1;33m\u001b[0m\u001b[0m\n\u001b[0;32m    670\u001b[0m \u001b[1;33m\u001b[0m\u001b[0m\n",
      "\u001b[1;31mTypingError\u001b[0m: Failed in nopython mode pipeline (step: nopython frontend)\n\u001b[1m\u001b[1m\u001b[1mInvalid use of Function(<function dot at 0x000002993D7FFF78>) with argument(s) of type(s): (array(int32, 1d, C), array(int32, 1d, C))\n * parameterized\n\u001b[1mIn definition 0:\u001b[0m\n\u001b[1m    TypingError: \u001b[1mnp.dot() only supported on float and complex arrays\u001b[0m\u001b[0m\n    raised from C:\\Users\\user\\anaconda3\\lib\\site-packages\\numba\\typing\\npydecl.py:965\n\u001b[1mIn definition 1:\u001b[0m\n\u001b[1m    TypingError: \u001b[1mnp.dot() only supported on float and complex arrays\u001b[0m\u001b[0m\n    raised from C:\\Users\\user\\anaconda3\\lib\\site-packages\\numba\\typing\\npydecl.py:965\n\u001b[1mThis error is usually caused by passing an argument of a type that is unsupported by the named function.\u001b[0m\u001b[0m\n\u001b[0m\u001b[1m[1] During: resolving callee type: Function(<function dot at 0x000002993D7FFF78>)\u001b[0m\n\u001b[0m\u001b[1m[2] During: typing of call at C:\\Users\\user\\anaconda3\\lib\\site-packages\\pyod\\models\\abod.py (51)\n\u001b[0m\n\u001b[1m\nFile \"anaconda3\\lib\\site-packages\\pyod\\models\\abod.py\", line 51:\u001b[0m\n\u001b[1mdef _wcos(curr_pt, a, b):  # pragma: no cover\n    <source elided>\n    wcos = np.dot(a_curr, b_curr) / (\n\u001b[1m            np.linalg.norm(a_curr, 2) ** 2) / (\n\u001b[0m            \u001b[1m^\u001b[0m\u001b[0m\n"
     ]
    }
   ],
   "source": [
    "clf = ABOD(n_neighbors=20)\n",
    "clf.fit(X)"
   ]
  },
  {
   "cell_type": "code",
   "execution_count": null,
   "metadata": {
    "scrolled": true
   },
   "outputs": [],
   "source": [
    "clf.decision_scores_"
   ]
  },
  {
   "cell_type": "code",
   "execution_count": null,
   "metadata": {},
   "outputs": [],
   "source": [
    "outliers = clf.predict(X)\n",
    "np.unique(outliers, return_counts=True)"
   ]
  },
  {
   "cell_type": "code",
   "execution_count": null,
   "metadata": {},
   "outputs": [],
   "source": [
    "np.mean(clf.decision_scores_[np.where(outliers==0)])"
   ]
  },
  {
   "cell_type": "code",
   "execution_count": null,
   "metadata": {},
   "outputs": [],
   "source": [
    "clf.decision_scores_.min()"
   ]
  },
  {
   "cell_type": "code",
   "execution_count": null,
   "metadata": {},
   "outputs": [],
   "source": [
    "plt.hist(clf.decision_scores_, bins=20)\n",
    "plt.axvline(np.max(clf.decision_scores_[np.where(outliers==1)]), c='red')\n",
    "plt.show()"
   ]
  },
  {
   "cell_type": "markdown",
   "metadata": {},
   "source": [
    "KNN"
   ]
  },
  {
   "cell_type": "code",
   "execution_count": 30,
   "metadata": {},
   "outputs": [],
   "source": [
    "from sklearn.neighbors import KNeighborsClassifier\n",
    "# Creating odd list K for KNN\n",
    "neighbors = list(range(1,25,2))\n",
    "# empty list that will hold cv scores\n",
    "cv_scores = [ ]\n",
    "#perform 10-fold cross-validation\n",
    "for K in neighbors:\n",
    "    knn = KNeighborsClassifier(n_neighbors = K)\n",
    "    scores = cross_val_score(knn,X_train,y_train,cv = 10,scoring =\n",
    "    \"accuracy\")\n",
    "    cv_scores.append(scores.mean())"
   ]
  },
  {
   "cell_type": "code",
   "execution_count": 31,
   "metadata": {},
   "outputs": [
    {
     "name": "stdout",
     "output_type": "stream",
     "text": [
      "The optimal no. of neighbors is 1\n"
     ]
    }
   ],
   "source": [
    "# Changing to mis classification error\n",
    "mse = [1-x for x in cv_scores]\n",
    "# determing best k\n",
    "optimal_k = neighbors[mse.index(min(mse))]\n",
    "print(\"The optimal no. of neighbors is {}\".format(optimal_k))"
   ]
  },
  {
   "cell_type": "code",
   "execution_count": 32,
   "metadata": {},
   "outputs": [
    {
     "data": {
      "image/png": "[encoded data removed]",
      "text/plain": [
       "<Figure size 648x432 with 1 Axes>"
      ]
     },
     "metadata": {
      "needs_background": "light"
     },
     "output_type": "display_data"
    }
   ],
   "source": [
    "import matplotlib.pyplot as plt\n",
    "def plot_accuracy(knn_list_scores):\n",
    "    pd.DataFrame({\"K\":[i for i in range(1,25,2)], \"Accuracy\":knn_list_scores}).set_index(\"K\").plot.bar(figsize= (9,6),ylim=(0.98,1),rot=0)\n",
    "    plt.show()\n",
    "plot_accuracy(cv_scores)"
   ]
  },
  {
   "cell_type": "code",
   "execution_count": 33,
   "metadata": {},
   "outputs": [
    {
     "data": {
      "image/png": "[encoded data removed]",
      "text/plain": [
       "<Figure size 432x288 with 1 Axes>"
      ]
     },
     "metadata": {
      "needs_background": "light"
     },
     "output_type": "display_data"
    }
   ],
   "source": [
    "plt.plot(range(1,25,2), cv_scores)\n",
    "plt.ylabel('Accuracy', fontsize=22)\n",
    "plt.xlabel('K', fontsize=22)\n",
    "plt.tick_params(axis='both', which='major', labelsize=22)\n",
    "plt.show()"
   ]
  },
  {
   "cell_type": "code",
   "execution_count": 177,
   "metadata": {},
   "outputs": [
    {
     "data": {
      "text/plain": [
       "KNN(algorithm='auto', contamination=0.5, leaf_size=30, method='largest',\n",
       "  metric='minkowski', metric_params=None, n_jobs=-1, n_neighbors=15, p=2,\n",
       "  radius=1.0)"
      ]
     },
     "execution_count": 177,
     "metadata": {},
     "output_type": "execute_result"
    }
   ],
   "source": [
    "clf_knn = KNN(contamination=0.5, n_neighbors = 15,n_jobs=-1)\n",
    "\n",
    "clf_knn.fit(X_train)"
   ]
  },
  {
   "cell_type": "code",
   "execution_count": 174,
   "metadata": {},
   "outputs": [
    {
     "data": {
      "image/png": "[encoded data removed]",
      "text/plain": [
       "<Figure size 432x288 with 1 Axes>"
      ]
     },
     "metadata": {
      "needs_background": "light"
     },
     "output_type": "display_data"
    }
   ],
   "source": [
    "outliers = clf_knn.predict(X_train)\n",
    "plt.hist(clf_knn.decision_scores_, bins=20)\n",
    "plt.axvline(np.min(clf_knn.decision_scores_[np.where(outliers==1)]), c='k')\n",
    "plt.show()"
   ]
  },
  {
   "cell_type": "code",
   "execution_count": 178,
   "metadata": {},
   "outputs": [],
   "source": [
    "# Get the prediction labels of the training data \n",
    "y_train_pred = clf_knn.labels_ # binary labels (0: inliers, 1: outliers) \n",
    "# Outlier scores \n",
    "y_train_scores = clf_knn.decision_scores_"
   ]
  },
  {
   "cell_type": "code",
   "execution_count": 179,
   "metadata": {},
   "outputs": [
    {
     "name": "stdout",
     "output_type": "stream",
     "text": [
      "KNN ROC:0.4827, precision @ rank n:0.1043\n"
     ]
    }
   ],
   "source": [
    "evaluate_print('KNN', y_train, y_train_scores)"
   ]
  },
  {
   "cell_type": "code",
   "execution_count": 180,
   "metadata": {},
   "outputs": [
    {
     "data": {
      "image/png": "[encoded data removed]",
      "text/plain": [
       "<Figure size 432x288 with 2 Axes>"
      ]
     },
     "metadata": {
      "needs_background": "light"
     },
     "output_type": "display_data"
    }
   ],
   "source": [
    "import scikitplot as skplt \n",
    "# plot the comfusion matrix in the train set \n",
    "skplt.metrics.plot_confusion_matrix(y_train,y_train_pred, normalize=False,title=\"Confusion Matrix on Train Set\")\n",
    "plt.show()"
   ]
  },
  {
   "cell_type": "code",
   "execution_count": 181,
   "metadata": {},
   "outputs": [
    {
     "name": "stdout",
     "output_type": "stream",
     "text": [
      "KNN ROC:0.4888, precision @ rank n:0.1103\n"
     ]
    }
   ],
   "source": [
    "y_test_scores = clf_knn.decision_function(X_test)  # outlier scores\n",
    "\n",
    "# Evaluate on the training data\n",
    "evaluate_print('KNN', y_test,y_test_scores)"
   ]
  },
  {
   "cell_type": "code",
   "execution_count": 182,
   "metadata": {},
   "outputs": [
    {
     "data": {
      "image/png": "[encoded data removed]",
      "text/plain": [
       "<Figure size 432x288 with 2 Axes>"
      ]
     },
     "metadata": {
      "needs_background": "light"
     },
     "output_type": "display_data"
    }
   ],
   "source": [
    "# plot the comfusion matrix  in the test set\n",
    "y_preds = clf_knn.predict(X_test)\n",
    "\n",
    "skplt.metrics.plot_confusion_matrix(y_test,y_preds, normalize=False,\n",
    "                                    title=\"Confusion Matrix on Test Set\")\n",
    "plt.show()"
   ]
  },
  {
   "cell_type": "code",
   "execution_count": null,
   "metadata": {},
   "outputs": [],
   "source": [
    "df['outliers'] = 0\n",
    "for i in np.where(outliers==1):\n",
    "    df['outliers'][i] = 1\n",
    "\n",
    "from sklearn.decomposition import PCA\n",
    "\n",
    "pca = PCA(n_components=2)\n",
    "pca.fit(X)\n",
    "X_pca = pca.transform(X)\n",
    "\n",
    "plt.scatter(X_pca[:, 0], X_pca[:, 1], c=df['outliers'], cmap=plt.cm.prism, edgecolor='k', alpha=0.7)\n",
    "plt.show()"
   ]
  },
  {
   "cell_type": "markdown",
   "metadata": {},
   "source": [
    "**AUTOENCODER**"
   ]
  },
  {
   "cell_type": "code",
   "execution_count": null,
   "metadata": {},
   "outputs": [],
   "source": [
    "clf = AutoEncoder(epochs=50, hidden_neurons=[4,2,2,4])"
   ]
  },
  {
   "cell_type": "code",
   "execution_count": null,
   "metadata": {},
   "outputs": [],
   "source": [
    "clf.fit(X)\n",
    "\n",
    "outliers = clf.predict(X)\n",
    "np.unique(outliers, return_counts=True)"
   ]
  },
  {
   "cell_type": "code",
   "execution_count": null,
   "metadata": {},
   "outputs": [],
   "source": [
    "anomlay_score = clf.decision_function(X)"
   ]
  },
  {
   "cell_type": "code",
   "execution_count": null,
   "metadata": {},
   "outputs": [],
   "source": [
    "from sklearn.preprocessing import StandardScaler, MinMaxScaler\n",
    "scaler = MinMaxScaler()\n",
    "scaler.fit(anomlay_score.reshape(-1, 1))\n",
    "line = scaler.transform(np.min(anomlay_score[np.where(outliers==1)]).reshape(1, -1))"
   ]
  },
  {
   "cell_type": "code",
   "execution_count": null,
   "metadata": {},
   "outputs": [],
   "source": [
    "len(anomlay_score[np.where(outliers==1)])"
   ]
  },
  {
   "cell_type": "code",
   "execution_count": null,
   "metadata": {},
   "outputs": [],
   "source": [
    "\n",
    "outliers_proba = clf.predict_proba(X)"
   ]
  },
  {
   "cell_type": "code",
   "execution_count": null,
   "metadata": {},
   "outputs": [],
   "source": [
    "plt.hist(outliers_proba, bins=20)\n",
    "plt.axvline(line, c='k')\n",
    "plt.show()"
   ]
  },
  {
   "cell_type": "code",
   "execution_count": null,
   "metadata": {},
   "outputs": [],
   "source": [
    "plt.hist(anomlay_score, bins=20)\n",
    "plt.axvline(np.min(anomlay_score[np.where(outliers==1)]), c='red')\n",
    "plt.show()"
   ]
  },
  {
   "cell_type": "code",
   "execution_count": null,
   "metadata": {},
   "outputs": [],
   "source": [
    "df['outliers'] = 0\n",
    "for i in np.where(outliers==1):\n",
    "    df['outliers'][i] = 1\n",
    "\n",
    "from sklearn.decomposition import PCA\n",
    "\n",
    "pca = PCA(n_components=2)\n",
    "pca.fit(X)\n",
    "X_pca = pca.transform(X)\n",
    "\n",
    "plt.scatter(X_pca[:, 0], X_pca[:, 1], c=df['outliers'], cmap=plt.cm.prism, edgecolor='k', alpha=0.7)\n",
    "plt.show()"
   ]
  },
  {
   "cell_type": "markdown",
   "metadata": {},
   "source": [
    "**Grubbs Test**"
   ]
  },
  {
   "cell_type": "code",
   "execution_count": 8,
   "metadata": {},
   "outputs": [],
   "source": [
    "import numpy as np\n",
    "from scipy import stats"
   ]
  },
  {
   "cell_type": "code",
   "execution_count": 44,
   "metadata": {},
   "outputs": [],
   "source": [
    "alpha = 0.95"
   ]
  },
  {
   "cell_type": "code",
   "execution_count": 41,
   "metadata": {},
   "outputs": [],
   "source": [
    "n = len(tracks)"
   ]
  },
  {
   "cell_type": "code",
   "execution_count": 42,
   "metadata": {},
   "outputs": [
    {
     "data": {
      "text/plain": [
       "106486"
      ]
     },
     "execution_count": 42,
     "metadata": {},
     "output_type": "execute_result"
    }
   ],
   "source": [
    "n"
   ]
  },
  {
   "cell_type": "code",
   "execution_count": 45,
   "metadata": {},
   "outputs": [],
   "source": [
    "significance_level = alpha / (2*n)  #alpha / n"
   ]
  },
  {
   "cell_type": "code",
   "execution_count": 46,
   "metadata": {},
   "outputs": [
    {
     "data": {
      "text/plain": [
       "4.460680277219541e-06"
      ]
     },
     "execution_count": 46,
     "metadata": {},
     "output_type": "execute_result"
    }
   ],
   "source": [
    "significance_level"
   ]
  },
  {
   "cell_type": "code",
   "execution_count": 47,
   "metadata": {},
   "outputs": [],
   "source": [
    "t = stats.t.isf(significance_level, n-2)"
   ]
  },
  {
   "cell_type": "code",
   "execution_count": 48,
   "metadata": {},
   "outputs": [
    {
     "data": {
      "text/plain": [
       "4.442006185157423"
      ]
     },
     "execution_count": 48,
     "metadata": {},
     "output_type": "execute_result"
    }
   ],
   "source": [
    "t"
   ]
  },
  {
   "cell_type": "code",
   "execution_count": 49,
   "metadata": {},
   "outputs": [],
   "source": [
    "g_test = ((n-1) / np.sqrt(n)) * (np.sqrt(t**2 / (n-2 + t**2)))"
   ]
  },
  {
   "cell_type": "code",
   "execution_count": 50,
   "metadata": {},
   "outputs": [
    {
     "data": {
      "text/plain": [
       "4.441594692048268"
      ]
     },
     "execution_count": 50,
     "metadata": {},
     "output_type": "execute_result"
    }
   ],
   "source": [
    "g_test"
   ]
  },
  {
   "cell_type": "code",
   "execution_count": 51,
   "metadata": {},
   "outputs": [],
   "source": [
    "data = np.array([100, 5, 14, 15, 15, 14, 19, 17, 16, 20, 22, 8, 21, 28, 11, 9, 50])\n",
    "relative_values = abs(data - data.mean())\n",
    "index = relative_values.argmax()\n",
    "value = relative_values[index]"
   ]
  },
  {
   "cell_type": "code",
   "execution_count": 52,
   "metadata": {},
   "outputs": [],
   "source": [
    "g = value / data.std()"
   ]
  },
  {
   "cell_type": "code",
   "execution_count": 53,
   "metadata": {},
   "outputs": [
    {
     "data": {
      "text/plain": [
       "(3.574292659277283, 4.441594692048268)"
      ]
     },
     "execution_count": 53,
     "metadata": {},
     "output_type": "execute_result"
    }
   ],
   "source": [
    "g, g_test"
   ]
  },
  {
   "cell_type": "code",
   "execution_count": 54,
   "metadata": {},
   "outputs": [
    {
     "name": "stdout",
     "output_type": "stream",
     "text": [
      "inlier\n"
     ]
    }
   ],
   "source": [
    "if g > g_test:\n",
    "    print('outlier')\n",
    "else:\n",
    "    print('inlier')"
   ]
  },
  {
   "cell_type": "code",
   "execution_count": null,
   "metadata": {},
   "outputs": [],
   "source": [
    "stats.t.isf(0.01, 10)"
   ]
  },
  {
   "cell_type": "code",
   "execution_count": null,
   "metadata": {},
   "outputs": [],
   "source": []
  },
  {
   "cell_type": "code",
   "execution_count": null,
   "metadata": {},
   "outputs": [],
   "source": []
  },
  {
   "cell_type": "code",
   "execution_count": 55,
   "metadata": {},
   "outputs": [
    {
     "data": {
      "text/plain": [
       "2.7637694574478893"
      ]
     },
     "execution_count": 55,
     "metadata": {},
     "output_type": "execute_result"
    }
   ],
   "source": []
  },
  {
   "cell_type": "markdown",
   "metadata": {},
   "source": [
    "**Likelihood Approach**"
   ]
  },
  {
   "cell_type": "code",
   "execution_count": 27,
   "metadata": {},
   "outputs": [],
   "source": [
    "import numpy as np\n",
    "from scipy import stats"
   ]
  },
  {
   "cell_type": "code",
   "execution_count": 28,
   "metadata": {},
   "outputs": [],
   "source": [
    "def norm_dist(x, mu, sigma):\n",
    "    return 1/(np.sqrt(2*np.pi)*sigma) * np.e**(-((x-mu)**2)/(2*sigma**2))\n",
    "              \n",
    "def unif_dist(x, n):\n",
    "    return 1/n"
   ]
  },
  {
   "cell_type": "code",
   "execution_count": 29,
   "metadata": {},
   "outputs": [],
   "source": [
    "M = np.copy(tracks)\n",
    "A = list()\n",
    "muM = np.mean(tracks)\n",
    "sigmaM = np.std(tracks)"
   ]
  },
  {
   "cell_type": "code",
   "execution_count": 30,
   "metadata": {},
   "outputs": [
    {
     "data": {
      "text/plain": [
       "album_comments                                            1.798193e-10\n",
       "album_favorites                                           8.869326e-06\n",
       "album_id                                                  7.937277e-06\n",
       "album_listens                                             2.634289e-06\n",
       "album_tracks                                              9.914351e-03\n",
       "album_type                                                3.924883e-61\n",
       "artist_comments                                           7.279797e-03\n",
       "artist_favorites                                          3.923335e-03\n",
       "artist_location                                           2.609795e-04\n",
       "artist_name                                               1.806908e-05\n",
       "artist_tags                                               1.816661e-05\n",
       "track_bit_rate                                            3.020688e-09\n",
       "track_comments                                            0.000000e+00\n",
       "track_duration                                            9.065239e-04\n",
       "track_favorites                                           2.013960e-02\n",
       "track_genres                                              7.107169e-05\n",
       "track_genres_all                                          9.744007e-05\n",
       "track_interest                                            2.061179e-05\n",
       "track_listens                                             4.765182e-05\n",
       "track_number                                              2.373028e-02\n",
       "track_tags                                                1.571592e-06\n",
       "track_title                                               3.247172e-06\n",
       "album_date_created_year                                   0.000000e+00\n",
       "album_date_created_month                                  5.455786e-03\n",
       "album_date_created_day                                    4.397521e-02\n",
       "album_date_created_daytime                                4.334978e-32\n",
       "album_date_released_year                                  0.000000e+00\n",
       "album_date_released_month                                 1.963073e-03\n",
       "album_date_released_day                                   3.466134e-02\n",
       "artist_date_created_year                                  0.000000e+00\n",
       "artist_date_created_month                                 7.683484e-03\n",
       "artist_date_created_day                                   4.367678e-02\n",
       "artist_date_created_daytime                               1.997277e-34\n",
       "track_date_created_year                                   0.000000e+00\n",
       "track_date_created_month                                  5.871638e-03\n",
       "track_date_created_day                                    4.460356e-02\n",
       "track_date_created_daytime                                1.193171e-33\n",
       "Attribution-NonCommercial-ShareAlike 3.0 International    0.000000e+00\n",
       "dtype: float64"
      ]
     },
     "execution_count": 30,
     "metadata": {},
     "output_type": "execute_result"
    }
   ],
   "source": [
    "norm_dist(15, muM, sigmaM)"
   ]
  },
  {
   "cell_type": "code",
   "execution_count": 31,
   "metadata": {},
   "outputs": [],
   "source": [
    "M = np.copy(tracks)\n",
    "A = list()\n",
    "lambda_par = 0.3\n",
    "\n",
    "muM = np.mean(M)\n",
    "sigmaM = np.std(M)\n",
    "sizeA = len(A)\n",
    "sumM = np.sum([norm_dist(x, muM, sigmaM) for x in M])\n",
    "sumA = np.sum([unif_dist(x, sizeA) for x in A])\n",
    "ll = -(len(M) * np.log(1-lambda_par) + sumM + len(A) * np.log(lambda_par) + sumA)"
   ]
  },
  {
   "cell_type": "code",
   "execution_count": 32,
   "metadata": {},
   "outputs": [
    {
     "name": "stdout",
     "output_type": "stream",
     "text": [
      "0 0.15236733109486522 inlier\n",
      "1 0.15236698754597455 inlier\n",
      "2 0.15237820167385507 inlier\n",
      "3 0.15234391097328626 inlier\n",
      "4 0.15237571277248207 inlier\n",
      "5 0.1523802512238035 inlier\n",
      "6 0.1523784684977727 inlier\n",
      "7 0.15238078498805407 inlier\n",
      "8 0.15236985823139548 inlier\n",
      "9 0.1523761334392475 inlier\n",
      "10 0.15236719955282751 inlier\n",
      "11 0.1523726455779979 inlier\n",
      "12 0.15237512045132462 inlier\n",
      "13 0.15237516954221064 inlier\n",
      "14 0.1522977037166129 inlier\n",
      "15 0.1523048363160342 inlier\n",
      "16 0.1523034319470753 inlier\n",
      "17 0.15230477987643098 inlier\n",
      "18 0.15238047394086607 inlier\n",
      "19 0.1523660634557018 inlier\n",
      "20 0.15236766965972492 inlier\n",
      "21 0.15237383038038388 inlier\n",
      "22 0.15236615458707092 inlier\n",
      "23 0.15239650351577438 inlier\n",
      "24 0.15238649818638805 inlier\n",
      "25 0.15233955936855637 inlier\n",
      "26 0.1523395663680276 inlier\n",
      "27 0.1523684125422733 inlier\n",
      "28 0.15237593805068173 inlier\n",
      "29 0.1523307186726015 inlier\n",
      "30 0.15233887470094487 inlier\n",
      "31 0.15233888335205847 inlier\n",
      "32 0.1523388754867483 inlier\n",
      "33 0.15233888774673687 inlier\n",
      "34 0.15233889544470003 inlier\n",
      "35 0.1523388917412376 inlier\n",
      "36 0.152338888241502 inlier\n",
      "37 0.15233888850343646 inlier\n"
     ]
    }
   ],
   "source": [
    "M = np.copy(tracks)\n",
    "A = list()\n",
    "c = 0.2\n",
    "for i, x in enumerate(tracks):\n",
    "    A.append(x)\n",
    "    M = np.array([xo for j, xo in enumerate(data) if i!=j])\n",
    "    muM = np.mean(M)\n",
    "    sigmaM = np.std(M)\n",
    "    sizeA = len(A)\n",
    "    sumM = np.sum([norm_dist(x, muM, sigmaM) for x in M])\n",
    "    sumA = np.sum([unif_dist(x, sizeA) for x in A])\n",
    "    ll_xi = - (len(M) * np.log(1-lambda_par) + sumM + len(A) * np.log(lambda_par) + sumA)\n",
    "    delta_ll = ll - ll_xi\n",
    "    print(i, delta_ll, 'outlier' if delta_ll > c else 'inlier')\n",
    "    M = np.copy(data)\n",
    "    A = list()"
   ]
  },
  {
   "cell_type": "code",
   "execution_count": null,
   "metadata": {},
   "outputs": [],
   "source": []
  }
 ],
 "metadata": {
  "kernelspec": {
   "display_name": "Python 3",
   "language": "python",
   "name": "python3"
  },
  "language_info": {
   "codemirror_mode": {
    "name": "ipython",
    "version": 3
   },
   "file_extension": ".py",
   "mimetype": "text/x-python",
   "name": "python",
   "nbconvert_exporter": "python",
   "pygments_lexer": "ipython3",
   "version": "3.7.6"
  }
 },
 "nbformat": 4,
 "nbformat_minor": 4
}
