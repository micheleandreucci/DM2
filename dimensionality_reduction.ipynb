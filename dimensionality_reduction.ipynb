{
 "cells": [
  {
   "cell_type": "code",
   "execution_count": 1,
   "metadata": {},
   "outputs": [],
   "source": [
    "%matplotlib inline\n",
    "\n",
    "import numpy as np\n",
    "import pandas as pd\n",
    "import matplotlib.pyplot as plt\n",
    "import seaborn as sns\n",
    "\n",
    "from collections import defaultdict"
   ]
  },
  {
   "cell_type": "code",
   "execution_count": 2,
   "metadata": {},
   "outputs": [
    {
     "data": {
      "text/plain": [
       "(106486, 40)"
      ]
     },
     "execution_count": 2,
     "metadata": {},
     "output_type": "execute_result"
    }
   ],
   "source": [
    "# Load dataset.\n",
    "tracks = pd.read_csv('data/fma_metadata/tracks_processed_filled.csv')\n",
    "\n",
    "columns2drop = ['Unnamed: 0', 'track_id', 'artist_id']\n",
    "\n",
    "tracks.drop(columns2drop, inplace=True, axis=1)\n",
    "\n",
    "tracks.shape"
   ]
  },
  {
   "cell_type": "code",
   "execution_count": 3,
   "metadata": {},
   "outputs": [],
   "source": [
    "from sklearn.model_selection import train_test_split, cross_val_score "
   ]
  },
  {
   "cell_type": "code",
   "execution_count": 4,
   "metadata": {},
   "outputs": [],
   "source": [
    "class_name = 'Attribution-NonCommercial-ShareAlike 3.0 International'\n",
    "\n",
    "attributes = [col for col in tracks.columns if col != class_name]\n",
    "\n",
    "X = tracks[attributes].values\n",
    "y = tracks[class_name]\n",
    "\n",
    "X_train, X_test, y_train, y_test = train_test_split(X, y, test_size=0.3, random_state=100, stratify=y)"
   ]
  },
  {
   "cell_type": "code",
   "execution_count": 5,
   "metadata": {},
   "outputs": [],
   "source": [
    "from sklearn.feature_selection import SelectKBest"
   ]
  },
  {
   "cell_type": "code",
   "execution_count": 6,
   "metadata": {},
   "outputs": [
    {
     "name": "stdout",
     "output_type": "stream",
     "text": [
      "134.30464596601445\n",
      "5.000347875216237\n",
      "981.9395608590971\n",
      "86.78052533401663\n",
      "302.17809981130443\n",
      "325.5084294731786\n",
      "61.537436437145054\n",
      "261.6576417249907\n",
      "0.8846638549683375\n",
      "0.30121948905320267\n",
      "29.469778215950132\n",
      "155.95529212053057\n",
      "0.14149868843951258\n",
      "29.34249872294262\n",
      "16.5712785598535\n",
      "511.04657154429805\n",
      "231.98926079670886\n",
      "0.1369367764481466\n",
      "19.64518317531348\n",
      "329.6823862217513\n",
      "19.024114767689916\n",
      "2.6881127390246213\n",
      "1498.2972180056345\n",
      "117.55300912767254\n",
      "28.714181383248473\n",
      "451.920532783418\n",
      "624.4358962734955\n",
      "763.8031990843158\n",
      "1561.818396867397\n",
      "nan\n",
      "792.1658964880887\n",
      "39.42877636764875\n",
      "196.46990630339363\n",
      "260.42279479857706\n",
      "1458.0780089932366\n",
      "158.01140740987208\n",
      "91.47526683614677\n",
      "362.3033551514102\n",
      "nan\n"
     ]
    },
    {
     "name": "stderr",
     "output_type": "stream",
     "text": [
      "C:\\Users\\user\\anaconda3\\lib\\site-packages\\sklearn\\feature_selection\\_univariate_selection.py:115: UserWarning: Features [29 38] are constant.\n",
      "  UserWarning)\n",
      "C:\\Users\\user\\anaconda3\\lib\\site-packages\\sklearn\\feature_selection\\_univariate_selection.py:116: RuntimeWarning: invalid value encountered in true_divide\n",
      "  f = msb / msw\n"
     ]
    },
    {
     "data": {
      "text/plain": [
       "array([[7.6610e+03, 2.0100e+03, 2.9000e+01, 2.0100e+03],\n",
       "       [7.7640e+03, 2.0100e+03, 1.0000e+00, 2.0100e+03],\n",
       "       [1.6520e+03, 2.0080e+03, 1.0000e+00, 2.0090e+03],\n",
       "       ...,\n",
       "       [3.2490e+03, 2.0090e+03, 1.0000e+00, 2.0090e+03],\n",
       "       [3.3400e+03, 2.0090e+03, 1.0000e+00, 2.0090e+03],\n",
       "       [1.3801e+04, 2.0160e+03, 1.0000e+00, 2.0130e+03]])"
      ]
     },
     "execution_count": 6,
     "metadata": {},
     "output_type": "execute_result"
    }
   ],
   "source": [
    "sel = SelectKBest(k=4)\n",
    "X_train_sel = sel.fit_transform(X_train, y_train)\n",
    "for i in sel.scores_:\n",
    "    print(i)\n",
    "    #perche i p-values sono 0.0 ??? \n",
    "X_train_sel "
   ]
  },
  {
   "cell_type": "code",
   "execution_count": 11,
   "metadata": {},
   "outputs": [
    {
     "name": "stdout",
     "output_type": "stream",
     "text": [
      "134.30464596601445\n",
      "5.000347875216237\n",
      "981.9395608590971\n",
      "86.78052533401663\n",
      "302.17809981130443\n",
      "325.5084294731786\n",
      "61.537436437145054\n",
      "261.6576417249907\n",
      "0.8846638549683375\n",
      "0.30121948905320267\n",
      "29.469778215950132\n",
      "155.95529212053057\n",
      "0.14149868843951258\n",
      "29.34249872294262\n",
      "16.5712785598535\n",
      "511.04657154429805\n",
      "231.98926079670886\n",
      "0.1369367764481466\n",
      "19.64518317531348\n",
      "329.6823862217513\n",
      "19.024114767689916\n",
      "2.6881127390246213\n",
      "1498.2972180056345\n",
      "117.55300912767254\n",
      "28.714181383248473\n",
      "451.920532783418\n",
      "624.4358962734955\n",
      "763.8031990843158\n",
      "1561.818396867397\n",
      "nan\n",
      "792.1658964880887\n",
      "39.42877636764875\n",
      "196.46990630339363\n",
      "260.42279479857706\n",
      "1458.0780089932366\n",
      "158.01140740987208\n",
      "91.47526683614677\n",
      "362.3033551514102\n",
      "nan\n"
     ]
    },
    {
     "name": "stderr",
     "output_type": "stream",
     "text": [
      "C:\\Users\\user\\anaconda3\\lib\\site-packages\\sklearn\\feature_selection\\_univariate_selection.py:115: UserWarning: Features [29 38] are constant.\n",
      "  UserWarning)\n",
      "C:\\Users\\user\\anaconda3\\lib\\site-packages\\sklearn\\feature_selection\\_univariate_selection.py:116: RuntimeWarning: invalid value encountered in true_divide\n",
      "  f = msb / msw\n"
     ]
    },
    {
     "data": {
      "text/plain": [
       "array([[2.010e+03, 2.900e+01],\n",
       "       [2.010e+03, 1.000e+00],\n",
       "       [2.008e+03, 1.000e+00],\n",
       "       ...,\n",
       "       [2.009e+03, 1.000e+00],\n",
       "       [2.009e+03, 1.000e+00],\n",
       "       [2.016e+03, 1.000e+00]])"
      ]
     },
     "execution_count": 11,
     "metadata": {},
     "output_type": "execute_result"
    }
   ],
   "source": [
    "sel = SelectKBest(k=2)\n",
    "X_train_sel = sel.fit_transform(X_train, y_train)\n",
    "for i in sel.scores_:\n",
    "    print(i)\n",
    "    \n",
    "X_train_sel     #mantiene  temperature e light"
   ]
  },
  {
   "cell_type": "code",
   "execution_count": 12,
   "metadata": {},
   "outputs": [
    {
     "data": {
      "text/plain": [
       "array([[ 1.0000e+00,  0.0000e+00,  7.6610e+03, ...,  2.9000e+01,\n",
       "         2.0000e+00,  0.0000e+00],\n",
       "       [ 0.0000e+00,  1.0000e+00,  7.7640e+03, ...,  9.0000e+00,\n",
       "         2.0000e+00,  0.0000e+00],\n",
       "       [ 0.0000e+00,  0.0000e+00,  1.6520e+03, ...,  2.7000e+01,\n",
       "         2.0000e+00,  0.0000e+00],\n",
       "       ...,\n",
       "       [ 0.0000e+00,  0.0000e+00,  3.2490e+03, ...,  2.7000e+01,\n",
       "         2.0000e+00,  0.0000e+00],\n",
       "       [ 0.0000e+00,  0.0000e+00,  3.3400e+03, ...,  3.0000e+00,\n",
       "         2.0000e+00,  0.0000e+00],\n",
       "       [-1.0000e+00, -1.0000e+00,  1.3801e+04, ...,  1.9000e+01,\n",
       "         1.0000e+00,  0.0000e+00]])"
      ]
     },
     "execution_count": 12,
     "metadata": {},
     "output_type": "execute_result"
    }
   ],
   "source": [
    "X_train"
   ]
  },
  {
   "cell_type": "code",
   "execution_count": 13,
   "metadata": {},
   "outputs": [
    {
     "name": "stdout",
     "output_type": "stream",
     "text": [
      "<class 'pandas.core.frame.DataFrame'>\n",
      "RangeIndex: 106486 entries, 0 to 106485\n",
      "Data columns (total 40 columns):\n",
      " #   Column                                                  Non-Null Count   Dtype  \n",
      "---  ------                                                  --------------   -----  \n",
      " 0   album_comments                                          106486 non-null  int64  \n",
      " 1   album_favorites                                         106486 non-null  int64  \n",
      " 2   album_id                                                106486 non-null  int64  \n",
      " 3   album_listens                                           106486 non-null  int64  \n",
      " 4   album_tracks                                            106486 non-null  int64  \n",
      " 5   album_type                                              106486 non-null  int64  \n",
      " 6   artist_comments                                         106486 non-null  int64  \n",
      " 7   artist_favorites                                        106486 non-null  int64  \n",
      " 8   artist_location                                         106486 non-null  int64  \n",
      " 9   artist_name                                             106486 non-null  int64  \n",
      " 10  artist_tags                                             106486 non-null  int64  \n",
      " 11  track_bit_rate                                          106486 non-null  int64  \n",
      " 12  track_comments                                          106486 non-null  int64  \n",
      " 13  track_duration                                          106486 non-null  int64  \n",
      " 14  track_favorites                                         106486 non-null  int64  \n",
      " 15  track_genres                                            106486 non-null  int64  \n",
      " 16  track_genres_all                                        106486 non-null  int64  \n",
      " 17  track_interest                                          106486 non-null  int64  \n",
      " 18  track_listens                                           106486 non-null  int64  \n",
      " 19  track_number                                            106486 non-null  int64  \n",
      " 20  track_tags                                              106486 non-null  int64  \n",
      " 21  track_title                                             106486 non-null  int64  \n",
      " 22  album_date_created_year                                 106486 non-null  float64\n",
      " 23  album_date_created_month                                106486 non-null  float64\n",
      " 24  album_date_created_day                                  106486 non-null  float64\n",
      " 25  album_date_created_daytime                              106486 non-null  int64  \n",
      " 26  album_date_released_year                                106486 non-null  float64\n",
      " 27  album_date_released_month                               106486 non-null  float64\n",
      " 28  album_date_released_day                                 106486 non-null  float64\n",
      " 29  album_date_released_daytime                             106486 non-null  int64  \n",
      " 30  artist_date_created_year                                106486 non-null  float64\n",
      " 31  artist_date_created_month                               106486 non-null  float64\n",
      " 32  artist_date_created_day                                 106486 non-null  float64\n",
      " 33  artist_date_created_daytime                             106486 non-null  int64  \n",
      " 34  track_date_created_year                                 106486 non-null  int64  \n",
      " 35  track_date_created_month                                106486 non-null  int64  \n",
      " 36  track_date_created_day                                  106486 non-null  int64  \n",
      " 37  track_date_created_daytime                              106486 non-null  int64  \n",
      " 38  track_date_recorded_daytime                             106486 non-null  int64  \n",
      " 39  Attribution-NonCommercial-ShareAlike 3.0 International  106486 non-null  int64  \n",
      "dtypes: float64(9), int64(31)\n",
      "memory usage: 32.5 MB\n"
     ]
    }
   ],
   "source": [
    "tracks.info()"
   ]
  },
  {
   "cell_type": "code",
   "execution_count": null,
   "metadata": {},
   "outputs": [],
   "source": []
  }
 ],
 "metadata": {
  "kernelspec": {
   "display_name": "Python 3",
   "language": "python",
   "name": "python3"
  },
  "language_info": {
   "codemirror_mode": {
    "name": "ipython",
    "version": 3
   },
   "file_extension": ".py",
   "mimetype": "text/x-python",
   "name": "python",
   "nbconvert_exporter": "python",
   "pygments_lexer": "ipython3",
   "version": "3.7.6"
  }
 },
 "nbformat": 4,
 "nbformat_minor": 4
}
