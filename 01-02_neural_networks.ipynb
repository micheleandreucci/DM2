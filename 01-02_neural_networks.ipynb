{
 "cells": [
  {
   "cell_type": "code",
   "execution_count": 1,
   "metadata": {},
   "outputs": [],
   "source": [
    "%matplotlib inline\n",
    "\n",
    "import numpy as np\n",
    "import pandas as pd\n",
    "import seaborn as sns\n",
    "import matplotlib.pyplot as plt\n",
    "\n",
    "from collections import Counter\n",
    "from collections import defaultdict\n",
    "from sklearn.preprocessing import LabelEncoder, StandardScaler\n",
    "from sklearn.model_selection import train_test_split, cross_val_score \n",
    "\n",
    "from sklearn.metrics import accuracy_score, f1_score, classification_report\n",
    "from sklearn.metrics import roc_curve, auc, roc_auc_score\n",
    "from sklearn.model_selection import train_test_split, cross_val_score \n",
    "from sklearn.preprocessing import StandardScaler, MinMaxScaler"
   ]
  },
  {
   "cell_type": "code",
   "execution_count": 2,
   "metadata": {},
   "outputs": [
    {
     "data": {
      "text/plain": [
       "(106486, 38)"
      ]
     },
     "execution_count": 2,
     "metadata": {},
     "output_type": "execute_result"
    }
   ],
   "source": [
    "# Load dataset.\n",
    "tracks = pd.read_csv('data/fma_metadata/tracks_processed_filled.csv')\n",
    "\n",
    "#columns2drop = ['Unnamed: 0', 'track_id', 'artist_id']\n",
    "columns2drop = ['Unnamed: 0', 'track_id', 'artist_id','track_date_recorded_daytime','album_date_released_daytime']\n",
    "\n",
    "tracks.drop(columns2drop, inplace=True, axis=1)\n",
    "\n",
    "tracks.shape"
   ]
  },
  {
   "cell_type": "code",
   "execution_count": 6,
   "metadata": {},
   "outputs": [],
   "source": [
    "class_name = 'Attribution-NonCommercial-ShareAlike 3.0 International'\n",
    "\n",
    "attributes = [col for col in tracks.columns if col != class_name]\n",
    "\n",
    "X = tracks[attributes].values\n",
    "y = tracks[class_name]\n",
    "\n",
    "X_train, X_val, y_train, y_val = train_test_split(X, y, test_size=0.2, random_state=100, stratify=y)"
   ]
  },
  {
   "cell_type": "code",
   "execution_count": 4,
   "metadata": {},
   "outputs": [],
   "source": [
    "from sklearn.preprocessing import StandardScaler\n",
    "from sklearn.preprocessing import MinMaxScaler"
   ]
  },
  {
   "cell_type": "code",
   "execution_count": 7,
   "metadata": {},
   "outputs": [],
   "source": [
    "scaler = StandardScaler()\n",
    "scaler.fit(X_train)\n",
    "X_train = scaler.transform(X_train)\n",
    "X_test = scaler.transform(X_test)\n",
    "X_val = scaler.transform(X_val)"
   ]
  },
  {
   "cell_type": "code",
   "execution_count": 8,
   "metadata": {},
   "outputs": [],
   "source": [
    "#different learning rate schedules and momentum parameters\n",
    "params = [{'solver': 'sgd', 'learning_rate': 'constant', 'momentum': 0,\n",
    "           'learning_rate_init': 0.2},\n",
    "          {'solver': 'sgd', 'learning_rate': 'constant', 'momentum': .9,\n",
    "           'nesterovs_momentum': False, 'learning_rate_init': 0.2},\n",
    "          {'solver': 'sgd', 'learning_rate': 'invscaling', 'momentum': .9,\n",
    "           'nesterovs_momentum': True, 'learning_rate_init': 0.2},\n",
    "          {'solver': 'adam', 'learning_rate_init': 0.01}]\n",
    "\n",
    "labels = [\"constant learning-rate\", \"constant with momentum\",\n",
    "          \"inv-scaling learning-rate\", \"inv-scaling with momentum\", \"adam\"]\n",
    "\n",
    "plot_args = [{'c': 'red', 'linestyle': '-'},\n",
    "             {'c': 'green', 'linestyle': '-'},\n",
    "             {'c': 'blue', 'linestyle': '--'},\n",
    "             {'c': 'black', 'linestyle': '.'}]"
   ]
  },
  {
   "cell_type": "code",
   "execution_count": 10,
   "metadata": {},
   "outputs": [
    {
     "name": "stdout",
     "output_type": "stream",
     "text": [
      "training: constant learning-rate\n",
      "Training set score: 0.856695\n",
      "Training set loss: 51019816023.422600\n",
      "training: constant with momentum\n",
      "Training set score: 0.856695\n",
      "Training set loss: 5046072138284.893555\n",
      "training: inv-scaling learning-rate\n",
      "Training set score: 0.856695\n",
      "Training set loss: 18420340619177.351562\n",
      "training: inv-scaling with momentum\n",
      "Training set score: 0.856695\n",
      "Training set loss: 0.410411\n"
     ]
    },
    {
     "data": {
      "image/png": "[encoded data removed]",
      "text/plain": [
       "<Figure size 1080x720 with 1 Axes>"
      ]
     },
     "metadata": {
      "needs_background": "light"
     },
     "output_type": "display_data"
    }
   ],
   "source": [
    "import warnings\n",
    "import matplotlib.pyplot as plt\n",
    "from sklearn.exceptions import ConvergenceWarning\n",
    "from sklearn.neural_network import MLPClassifier\n",
    "        \n",
    "\n",
    "fig, axes = plt.subplots(1, 1, figsize=(15, 10))      \n",
    "mlps=[]   \n",
    "for label, param in zip(labels, params):\n",
    "    print(\"training: %s\" % label)\n",
    "    mlp = MLPClassifier(random_state=0,\n",
    "                           max_iter=200, **param)\n",
    "\n",
    "        # some parameter combinations will not converge as can be seen on the\n",
    "        # plots so they are ignored here\n",
    "    with warnings.catch_warnings():\n",
    "        warnings.filterwarnings(\"ignore\", category=ConvergenceWarning,\n",
    "                                    module=\"sklearn\")\n",
    "        mlp.fit(X, y)\n",
    "\n",
    "    mlps.append(mlp)\n",
    "    print(\"Training set score: %f\" % mlp.score(X, y))\n",
    "    print(\"Training set loss: %f\" % mlp.loss_)\n",
    "    \n",
    "for mlp, label, args in zip(mlps, labels, plot_args):\n",
    "    axes.plot(mlp.loss_curve_, label=label)\n",
    "        \n",
    "        \n",
    "        \n",
    "axes.set_ylabel(\"Loss\")\n",
    "axes.set_xlabel(\"Iterations\")\n",
    "fig.legend(axes.get_lines(), labels, ncol=3, loc=1)\n",
    "plt.show()"
   ]
  },
  {
   "cell_type": "code",
   "execution_count": 11,
   "metadata": {},
   "outputs": [
    {
     "name": "stdout",
     "output_type": "stream",
     "text": [
      "Accuracy 0.8566956739497903\n",
      "F1-score [0.92281755 0.        ]\n",
      "              precision    recall  f1-score   support\n",
      "\n",
      "           0       0.86      1.00      0.92     27368\n",
      "           1       0.00      0.00      0.00      4578\n",
      "\n",
      "    accuracy                           0.86     31946\n",
      "   macro avg       0.43      0.50      0.46     31946\n",
      "weighted avg       0.73      0.86      0.79     31946\n",
      "\n",
      "Training loss 0.34632777301567913\n"
     ]
    },
    {
     "name": "stderr",
     "output_type": "stream",
     "text": [
      "C:\\Users\\user\\anaconda3\\lib\\site-packages\\sklearn\\metrics\\_classification.py:1245: UndefinedMetricWarning: Precision and F-score are ill-defined and being set to 0.0 in labels with no predicted samples. Use `zero_division` parameter to control this behavior.\n",
      "  _warn_prf(average, modifier, msg_start, len(result))\n",
      "C:\\Users\\user\\anaconda3\\lib\\site-packages\\sklearn\\metrics\\_classification.py:1245: UndefinedMetricWarning: Precision and F-score are ill-defined and being set to 0.0 in labels with no predicted samples. Use `zero_division` parameter to control this behavior.\n",
      "  _warn_prf(average, modifier, msg_start, len(result))\n",
      "C:\\Users\\user\\anaconda3\\lib\\site-packages\\sklearn\\metrics\\_classification.py:1245: UndefinedMetricWarning: Precision and F-score are ill-defined and being set to 0.0 in labels with no predicted samples. Use `zero_division` parameter to control this behavior.\n",
      "  _warn_prf(average, modifier, msg_start, len(result))\n"
     ]
    },
    {
     "name": "stdout",
     "output_type": "stream",
     "text": [
      "Validation loss 0.3437184801689621\n"
     ]
    },
    {
     "data": {
      "image/png": "[encoded data removed]",
      "text/plain": [
       "<Figure size 432x288 with 1 Axes>"
      ]
     },
     "metadata": {
      "needs_background": "light"
     },
     "output_type": "display_data"
    }
   ],
   "source": [
    "clf = MLPClassifier(random_state=0,solver= 'adam', learning_rate= 'constant',activation='logistic', momentum= .9, hidden_layer_sizes=(3),\n",
    "           nesterovs_momentum= True, learning_rate_init= 0.2)\n",
    "\n",
    "clf.fit(X_train, y_train)\n",
    "y_pred = clf.predict(X_test)\n",
    "y_score = clf.predict_log_proba(X_test)\n",
    "\n",
    "print('Accuracy %s' % accuracy_score(y_test, y_pred))\n",
    "print('F1-score %s' % f1_score(y_test, y_pred, average=None))\n",
    "print(classification_report(y_test, y_pred))\n",
    "plt.plot(clf.loss_curve_)\n",
    "print('Training loss '+str(clf.loss_))\n",
    "clf.fit(X_val, y_val)\n",
    "print('Validation loss '+str(clf.loss_))\n",
    "plt.plot(clf.loss_curve_)\n",
    "plt.show()"
   ]
  },
  {
   "cell_type": "code",
   "execution_count": 12,
   "metadata": {},
   "outputs": [
    {
     "name": "stdout",
     "output_type": "stream",
     "text": [
      "Accuracy 0.8566956739497903\n",
      "F1-score [0.92281755 0.        ]\n",
      "              precision    recall  f1-score   support\n",
      "\n",
      "           0       0.86      1.00      0.92     27368\n",
      "           1       0.00      0.00      0.00      4578\n",
      "\n",
      "    accuracy                           0.86     31946\n",
      "   macro avg       0.43      0.50      0.46     31946\n",
      "weighted avg       0.73      0.86      0.79     31946\n",
      "\n",
      "Training loss 0.34632777301567913\n"
     ]
    },
    {
     "name": "stderr",
     "output_type": "stream",
     "text": [
      "C:\\Users\\user\\anaconda3\\lib\\site-packages\\sklearn\\metrics\\_classification.py:1245: UndefinedMetricWarning: Precision and F-score are ill-defined and being set to 0.0 in labels with no predicted samples. Use `zero_division` parameter to control this behavior.\n",
      "  _warn_prf(average, modifier, msg_start, len(result))\n",
      "C:\\Users\\user\\anaconda3\\lib\\site-packages\\sklearn\\metrics\\_classification.py:1245: UndefinedMetricWarning: Precision and F-score are ill-defined and being set to 0.0 in labels with no predicted samples. Use `zero_division` parameter to control this behavior.\n",
      "  _warn_prf(average, modifier, msg_start, len(result))\n",
      "C:\\Users\\user\\anaconda3\\lib\\site-packages\\sklearn\\metrics\\_classification.py:1245: UndefinedMetricWarning: Precision and F-score are ill-defined and being set to 0.0 in labels with no predicted samples. Use `zero_division` parameter to control this behavior.\n",
      "  _warn_prf(average, modifier, msg_start, len(result))\n"
     ]
    },
    {
     "name": "stdout",
     "output_type": "stream",
     "text": [
      "Validation loss 0.3437184801689621\n"
     ]
    }
   ],
   "source": [
    "clf = MLPClassifier(random_state=0,solver= 'adam', learning_rate= 'invscaling',activation='logistic', momentum= .9, hidden_layer_sizes=(3),\n",
    "           nesterovs_momentum= True, learning_rate_init= 0.2)\n",
    "\n",
    "clf.fit(X_train, y_train)\n",
    "y_pred = clf.predict(X_test)\n",
    "y_score = clf.predict_log_proba(X_test)\n",
    "\n",
    "print('Accuracy %s' % accuracy_score(y_test, y_pred))\n",
    "print('F1-score %s' % f1_score(y_test, y_pred, average=None))\n",
    "print(classification_report(y_test, y_pred))\n",
    "print('Training loss '+str(clf.loss_))\n",
    "clf.fit(X_val, y_val)\n",
    "print('Validation loss '+str(clf.loss_))"
   ]
  },
  {
   "cell_type": "code",
   "execution_count": 14,
   "metadata": {},
   "outputs": [
    {
     "data": {
      "image/png": "[encoded data removed]",
      "text/plain": [
       "<Figure size 432x288 with 1 Axes>"
      ]
     },
     "metadata": {
      "needs_background": "light"
     },
     "output_type": "display_data"
    }
   ],
   "source": [
    "from scikitplot.metrics import plot_lift_curve\n",
    "plot_lift_curve(y_test, y_score)\n",
    "plt.show()"
   ]
  },
  {
   "cell_type": "code",
   "execution_count": 15,
   "metadata": {},
   "outputs": [
    {
     "name": "stderr",
     "output_type": "stream",
     "text": [
      "C:\\Users\\user\\anaconda3\\lib\\site-packages\\sklearn\\neural_network\\_multilayer_perceptron.py:617: ConvergenceWarning: Stochastic Optimizer: Maximum iterations (200) reached and the optimization hasn't converged yet.\n",
      "  % self.max_iter, ConvergenceWarning)\n",
      "C:\\Users\\user\\anaconda3\\lib\\site-packages\\sklearn\\metrics\\_classification.py:1245: UndefinedMetricWarning: Precision and F-score are ill-defined and being set to 0.0 in labels with no predicted samples. Use `zero_division` parameter to control this behavior.\n",
      "  _warn_prf(average, modifier, msg_start, len(result))\n",
      "C:\\Users\\user\\anaconda3\\lib\\site-packages\\sklearn\\metrics\\_classification.py:1245: UndefinedMetricWarning: Precision and F-score are ill-defined and being set to 0.0 in labels with no predicted samples. Use `zero_division` parameter to control this behavior.\n",
      "  _warn_prf(average, modifier, msg_start, len(result))\n",
      "C:\\Users\\user\\anaconda3\\lib\\site-packages\\sklearn\\metrics\\_classification.py:1245: UndefinedMetricWarning: Precision and F-score are ill-defined and being set to 0.0 in labels with no predicted samples. Use `zero_division` parameter to control this behavior.\n",
      "  _warn_prf(average, modifier, msg_start, len(result))\n"
     ]
    },
    {
     "name": "stdout",
     "output_type": "stream",
     "text": [
      "Accuracy 0.8566956739497903\n",
      "F1-score [0.92281755 0.        ]\n",
      "              precision    recall  f1-score   support\n",
      "\n",
      "           0       0.86      1.00      0.92     27368\n",
      "           1       0.00      0.00      0.00      4578\n",
      "\n",
      "    accuracy                           0.86     31946\n",
      "   macro avg       0.43      0.50      0.46     31946\n",
      "weighted avg       0.73      0.86      0.79     31946\n",
      "\n",
      "Training loss 0.2999873612281583\n",
      "Validation loss 0.3107772245880072\n"
     ]
    },
    {
     "name": "stderr",
     "output_type": "stream",
     "text": [
      "C:\\Users\\user\\anaconda3\\lib\\site-packages\\sklearn\\neural_network\\_multilayer_perceptron.py:617: ConvergenceWarning: Stochastic Optimizer: Maximum iterations (200) reached and the optimization hasn't converged yet.\n",
      "  % self.max_iter, ConvergenceWarning)\n"
     ]
    }
   ],
   "source": [
    "clf = MLPClassifier(random_state=0,solver= 'sgd', learning_rate= 'adaptive', activation='logistic', momentum= .9, hidden_layer_sizes=(3),\n",
    "           nesterovs_momentum= True, learning_rate_init= 0.2)\n",
    "\n",
    "clf.fit(X_train, y_train)\n",
    "y_pred = clf.predict(X_test)\n",
    "y_score = clf.predict_log_proba(X_test)\n",
    "\n",
    "print('Accuracy %s' % accuracy_score(y_test, y_pred))\n",
    "print('F1-score %s' % f1_score(y_test, y_pred, average=None))\n",
    "print(classification_report(y_test, y_pred))\n",
    "print('Training loss '+str(clf.loss_))\n",
    "clf.fit(X_val, y_val)\n",
    "print('Validation loss '+str(clf.loss_))"
   ]
  },
  {
   "cell_type": "code",
   "execution_count": 16,
   "metadata": {},
   "outputs": [
    {
     "name": "stderr",
     "output_type": "stream",
     "text": [
      "C:\\Users\\user\\anaconda3\\lib\\site-packages\\sklearn\\neural_network\\_multilayer_perceptron.py:617: ConvergenceWarning: Stochastic Optimizer: Maximum iterations (200) reached and the optimization hasn't converged yet.\n",
      "  % self.max_iter, ConvergenceWarning)\n",
      "C:\\Users\\user\\anaconda3\\lib\\site-packages\\sklearn\\metrics\\_classification.py:1245: UndefinedMetricWarning: Precision and F-score are ill-defined and being set to 0.0 in labels with no predicted samples. Use `zero_division` parameter to control this behavior.\n",
      "  _warn_prf(average, modifier, msg_start, len(result))\n",
      "C:\\Users\\user\\anaconda3\\lib\\site-packages\\sklearn\\metrics\\_classification.py:1245: UndefinedMetricWarning: Precision and F-score are ill-defined and being set to 0.0 in labels with no predicted samples. Use `zero_division` parameter to control this behavior.\n",
      "  _warn_prf(average, modifier, msg_start, len(result))\n",
      "C:\\Users\\user\\anaconda3\\lib\\site-packages\\sklearn\\metrics\\_classification.py:1245: UndefinedMetricWarning: Precision and F-score are ill-defined and being set to 0.0 in labels with no predicted samples. Use `zero_division` parameter to control this behavior.\n",
      "  _warn_prf(average, modifier, msg_start, len(result))\n"
     ]
    },
    {
     "name": "stdout",
     "output_type": "stream",
     "text": [
      "Accuracy 0.14330432605020973\n",
      "F1-score [0.         0.25068448]\n",
      "              precision    recall  f1-score   support\n",
      "\n",
      "           0       0.00      0.00      0.00     27368\n",
      "           1       0.14      1.00      0.25      4578\n",
      "\n",
      "    accuracy                           0.14     31946\n",
      "   macro avg       0.07      0.50      0.13     31946\n",
      "weighted avg       0.02      0.14      0.04     31946\n",
      "\n",
      "Training loss 0.2807802300832459\n",
      "Validation loss 0.2850504494883982\n"
     ]
    },
    {
     "name": "stderr",
     "output_type": "stream",
     "text": [
      "C:\\Users\\user\\anaconda3\\lib\\site-packages\\sklearn\\neural_network\\_multilayer_perceptron.py:617: ConvergenceWarning: Stochastic Optimizer: Maximum iterations (200) reached and the optimization hasn't converged yet.\n",
      "  % self.max_iter, ConvergenceWarning)\n"
     ]
    }
   ],
   "source": [
    "clf = MLPClassifier(hidden_layer_sizes=(7, 5, 3), alpha=0.1, learning_rate='invscaling', \n",
    "                    activation='tanh', early_stopping=False, momentum=0.9, random_state=0)\n",
    "\n",
    "clf.fit(X_train, y_train)\n",
    "\n",
    "y_pred = clf.predict(X_test)\n",
    "y_pred1 = y_pred\n",
    "y_score1 = clf.predict_log_proba(X_test)\n",
    "print('Accuracy %s' % accuracy_score(y_test, y_pred))\n",
    "print('F1-score %s' % f1_score(y_test, y_pred, average=None))\n",
    "print(classification_report(y_test, y_pred))\n",
    "print('Training loss '+str(clf.loss_))\n",
    "clf.fit(X_val, y_val)\n",
    "print('Validation loss '+str(clf.loss_))"
   ]
  },
  {
   "cell_type": "code",
   "execution_count": 17,
   "metadata": {},
   "outputs": [
    {
     "name": "stderr",
     "output_type": "stream",
     "text": [
      "Using TensorFlow backend.\n",
      "C:\\Users\\user\\anaconda3\\lib\\site-packages\\tensorflow\\python\\framework\\dtypes.py:516: FutureWarning: Passing (type, 1) or '1type' as a synonym of type is deprecated; in a future version of numpy, it will be understood as (type, (1,)) / '(1,)type'.\n",
      "  _np_qint8 = np.dtype([(\"qint8\", np.int8, 1)])\n",
      "C:\\Users\\user\\anaconda3\\lib\\site-packages\\tensorflow\\python\\framework\\dtypes.py:517: FutureWarning: Passing (type, 1) or '1type' as a synonym of type is deprecated; in a future version of numpy, it will be understood as (type, (1,)) / '(1,)type'.\n",
      "  _np_quint8 = np.dtype([(\"quint8\", np.uint8, 1)])\n",
      "C:\\Users\\user\\anaconda3\\lib\\site-packages\\tensorflow\\python\\framework\\dtypes.py:518: FutureWarning: Passing (type, 1) or '1type' as a synonym of type is deprecated; in a future version of numpy, it will be understood as (type, (1,)) / '(1,)type'.\n",
      "  _np_qint16 = np.dtype([(\"qint16\", np.int16, 1)])\n",
      "C:\\Users\\user\\anaconda3\\lib\\site-packages\\tensorflow\\python\\framework\\dtypes.py:519: FutureWarning: Passing (type, 1) or '1type' as a synonym of type is deprecated; in a future version of numpy, it will be understood as (type, (1,)) / '(1,)type'.\n",
      "  _np_quint16 = np.dtype([(\"quint16\", np.uint16, 1)])\n",
      "C:\\Users\\user\\anaconda3\\lib\\site-packages\\tensorflow\\python\\framework\\dtypes.py:520: FutureWarning: Passing (type, 1) or '1type' as a synonym of type is deprecated; in a future version of numpy, it will be understood as (type, (1,)) / '(1,)type'.\n",
      "  _np_qint32 = np.dtype([(\"qint32\", np.int32, 1)])\n",
      "C:\\Users\\user\\anaconda3\\lib\\site-packages\\tensorflow\\python\\framework\\dtypes.py:525: FutureWarning: Passing (type, 1) or '1type' as a synonym of type is deprecated; in a future version of numpy, it will be understood as (type, (1,)) / '(1,)type'.\n",
      "  np_resource = np.dtype([(\"resource\", np.ubyte, 1)])\n",
      "C:\\Users\\user\\anaconda3\\lib\\site-packages\\tensorboard\\compat\\tensorflow_stub\\dtypes.py:541: FutureWarning: Passing (type, 1) or '1type' as a synonym of type is deprecated; in a future version of numpy, it will be understood as (type, (1,)) / '(1,)type'.\n",
      "  _np_qint8 = np.dtype([(\"qint8\", np.int8, 1)])\n",
      "C:\\Users\\user\\anaconda3\\lib\\site-packages\\tensorboard\\compat\\tensorflow_stub\\dtypes.py:542: FutureWarning: Passing (type, 1) or '1type' as a synonym of type is deprecated; in a future version of numpy, it will be understood as (type, (1,)) / '(1,)type'.\n",
      "  _np_quint8 = np.dtype([(\"quint8\", np.uint8, 1)])\n",
      "C:\\Users\\user\\anaconda3\\lib\\site-packages\\tensorboard\\compat\\tensorflow_stub\\dtypes.py:543: FutureWarning: Passing (type, 1) or '1type' as a synonym of type is deprecated; in a future version of numpy, it will be understood as (type, (1,)) / '(1,)type'.\n",
      "  _np_qint16 = np.dtype([(\"qint16\", np.int16, 1)])\n",
      "C:\\Users\\user\\anaconda3\\lib\\site-packages\\tensorboard\\compat\\tensorflow_stub\\dtypes.py:544: FutureWarning: Passing (type, 1) or '1type' as a synonym of type is deprecated; in a future version of numpy, it will be understood as (type, (1,)) / '(1,)type'.\n",
      "  _np_quint16 = np.dtype([(\"quint16\", np.uint16, 1)])\n",
      "C:\\Users\\user\\anaconda3\\lib\\site-packages\\tensorboard\\compat\\tensorflow_stub\\dtypes.py:545: FutureWarning: Passing (type, 1) or '1type' as a synonym of type is deprecated; in a future version of numpy, it will be understood as (type, (1,)) / '(1,)type'.\n",
      "  _np_qint32 = np.dtype([(\"qint32\", np.int32, 1)])\n",
      "C:\\Users\\user\\anaconda3\\lib\\site-packages\\tensorboard\\compat\\tensorflow_stub\\dtypes.py:550: FutureWarning: Passing (type, 1) or '1type' as a synonym of type is deprecated; in a future version of numpy, it will be understood as (type, (1,)) / '(1,)type'.\n",
      "  np_resource = np.dtype([(\"resource\", np.ubyte, 1)])\n"
     ]
    }
   ],
   "source": [
    "from keras.models import Sequential\n",
    "from keras.layers import Dense"
   ]
  },
  {
   "cell_type": "code",
   "execution_count": 18,
   "metadata": {},
   "outputs": [],
   "source": [
    "def build_model():\n",
    "    \n",
    "    n_feature = X_train.shape[1]\n",
    "    model = Sequential()\n",
    "    model.add(Dense(7, input_dim=n_feature, activation='relu'))\n",
    "    model.add(Dense(5, activation='relu'))\n",
    "    model.add(Dense(3, activation='relu'))\n",
    "    model.add(Dense(1,activation='sigmoid'))\n",
    "\n",
    "    model.compile(loss='binary_crossentropy', optimizer='adam', metrics=['accuracy'])\n",
    "    return model"
   ]
  },
  {
   "cell_type": "code",
   "execution_count": 19,
   "metadata": {},
   "outputs": [
    {
     "name": "stdout",
     "output_type": "stream",
     "text": [
      "WARNING:tensorflow:From C:\\Users\\user\\anaconda3\\lib\\site-packages\\tensorflow\\python\\ops\\nn_impl.py:180: add_dispatch_support.<locals>.wrapper (from tensorflow.python.ops.array_ops) is deprecated and will be removed in a future version.\n",
      "Instructions for updating:\n",
      "Use tf.where in 2.0, which has the same broadcast rule as np.where\n",
      "WARNING:tensorflow:From C:\\Users\\user\\anaconda3\\lib\\site-packages\\keras\\backend\\tensorflow_backend.py:422: The name tf.global_variables is deprecated. Please use tf.compat.v1.global_variables instead.\n",
      "\n",
      "Train on 85188 samples, validate on 21298 samples\n",
      "Epoch 1/50\n",
      "85188/85188 [==============================] - 11s 125us/step - loss: 0.3510 - accuracy: 0.8611 - val_loss: 0.3263 - val_accuracy: 0.8647\n",
      "Epoch 2/50\n",
      "85188/85188 [==============================] - 10s 117us/step - loss: 0.3180 - accuracy: 0.8676 - val_loss: 0.3118 - val_accuracy: 0.8698\n",
      "Epoch 3/50\n",
      "85188/85188 [==============================] - 10s 116us/step - loss: 0.3065 - accuracy: 0.8736 - val_loss: 0.3071 - val_accuracy: 0.8749\n",
      "Epoch 4/50\n",
      "85188/85188 [==============================] - 10s 118us/step - loss: 0.2999 - accuracy: 0.8787 - val_loss: 0.2981 - val_accuracy: 0.8781\n",
      "Epoch 5/50\n",
      "85188/85188 [==============================] - 11s 125us/step - loss: 0.2958 - accuracy: 0.8813 - val_loss: 0.2955 - val_accuracy: 0.8812\n",
      "Epoch 6/50\n",
      "85188/85188 [==============================] - 10s 120us/step - loss: 0.2928 - accuracy: 0.8832 - val_loss: 0.2940 - val_accuracy: 0.8814\n",
      "Epoch 7/50\n",
      "85188/85188 [==============================] - 10s 121us/step - loss: 0.2904 - accuracy: 0.8854 - val_loss: 0.2926 - val_accuracy: 0.8823\n",
      "Epoch 8/50\n",
      "85188/85188 [==============================] - 10s 119us/step - loss: 0.2886 - accuracy: 0.8868 - val_loss: 0.2894 - val_accuracy: 0.8847\n",
      "Epoch 9/50\n",
      "85188/85188 [==============================] - 10s 118us/step - loss: 0.2872 - accuracy: 0.8871 - val_loss: 0.2868 - val_accuracy: 0.8856\n",
      "Epoch 10/50\n",
      "85188/85188 [==============================] - 10s 115us/step - loss: 0.2859 - accuracy: 0.8883 - val_loss: 0.2875 - val_accuracy: 0.8862\n",
      "Epoch 11/50\n",
      "85188/85188 [==============================] - 10s 120us/step - loss: 0.2851 - accuracy: 0.8883 - val_loss: 0.2897 - val_accuracy: 0.8843\n",
      "Epoch 12/50\n",
      "85188/85188 [==============================] - 10s 118us/step - loss: 0.2844 - accuracy: 0.8890 - val_loss: 0.2865 - val_accuracy: 0.8888\n",
      "Epoch 13/50\n",
      "85188/85188 [==============================] - 11s 125us/step - loss: 0.2835 - accuracy: 0.8894 - val_loss: 0.2831 - val_accuracy: 0.8877\n",
      "Epoch 14/50\n",
      "85188/85188 [==============================] - 10s 120us/step - loss: 0.2829 - accuracy: 0.8896 - val_loss: 0.2849 - val_accuracy: 0.8893\n",
      "Epoch 15/50\n",
      "85188/85188 [==============================] - 10s 121us/step - loss: 0.2822 - accuracy: 0.8903 - val_loss: 0.2840 - val_accuracy: 0.8883\n",
      "Epoch 16/50\n",
      "85188/85188 [==============================] - 10s 116us/step - loss: 0.2813 - accuracy: 0.8913 - val_loss: 0.2797 - val_accuracy: 0.8917\n",
      "Epoch 17/50\n",
      "85188/85188 [==============================] - 10s 122us/step - loss: 0.2804 - accuracy: 0.8922 - val_loss: 0.2806 - val_accuracy: 0.8906\n",
      "Epoch 18/50\n",
      "85188/85188 [==============================] - 10s 118us/step - loss: 0.2789 - accuracy: 0.8928 - val_loss: 0.2816 - val_accuracy: 0.8898\n",
      "Epoch 19/50\n",
      "85188/85188 [==============================] - 10s 118us/step - loss: 0.2789 - accuracy: 0.8926 - val_loss: 0.2781 - val_accuracy: 0.8923\n",
      "Epoch 20/50\n",
      "85188/85188 [==============================] - 10s 117us/step - loss: 0.2778 - accuracy: 0.8936 - val_loss: 0.2779 - val_accuracy: 0.8927\n",
      "Epoch 21/50\n",
      "85188/85188 [==============================] - 10s 118us/step - loss: 0.2771 - accuracy: 0.8935 - val_loss: 0.2790 - val_accuracy: 0.8918\n",
      "Epoch 22/50\n",
      "85188/85188 [==============================] - 10s 119us/step - loss: 0.2769 - accuracy: 0.8940 - val_loss: 0.2840 - val_accuracy: 0.8903\n",
      "Epoch 23/50\n",
      "85188/85188 [==============================] - 10s 118us/step - loss: 0.2763 - accuracy: 0.8938 - val_loss: 0.2763 - val_accuracy: 0.8930\n",
      "Epoch 24/50\n",
      "85188/85188 [==============================] - 10s 119us/step - loss: 0.2753 - accuracy: 0.8942 - val_loss: 0.2798 - val_accuracy: 0.8920\n",
      "Epoch 25/50\n",
      "85188/85188 [==============================] - 10s 117us/step - loss: 0.2756 - accuracy: 0.8944 - val_loss: 0.2784 - val_accuracy: 0.8920\n",
      "Epoch 26/50\n",
      "85188/85188 [==============================] - 10s 117us/step - loss: 0.2755 - accuracy: 0.8945 - val_loss: 0.2763 - val_accuracy: 0.8929\n",
      "Epoch 27/50\n",
      "85188/85188 [==============================] - 10s 117us/step - loss: 0.2745 - accuracy: 0.8944 - val_loss: 0.2766 - val_accuracy: 0.8925\n",
      "Epoch 28/50\n",
      "85188/85188 [==============================] - 10s 119us/step - loss: 0.2746 - accuracy: 0.8946 - val_loss: 0.2758 - val_accuracy: 0.8920\n",
      "Epoch 29/50\n",
      "85188/85188 [==============================] - 10s 118us/step - loss: 0.2743 - accuracy: 0.8946 - val_loss: 0.2750 - val_accuracy: 0.8938\n",
      "Epoch 30/50\n",
      "85188/85188 [==============================] - 10s 118us/step - loss: 0.2730 - accuracy: 0.8949 - val_loss: 0.2746 - val_accuracy: 0.8933\n",
      "Epoch 31/50\n",
      "85188/85188 [==============================] - 10s 115us/step - loss: 0.2734 - accuracy: 0.8950 - val_loss: 0.2785 - val_accuracy: 0.8929\n",
      "Epoch 32/50\n",
      "85188/85188 [==============================] - 10s 117us/step - loss: 0.2729 - accuracy: 0.8951 - val_loss: 0.2771 - val_accuracy: 0.8932\n",
      "Epoch 33/50\n",
      "85188/85188 [==============================] - 10s 116us/step - loss: 0.2727 - accuracy: 0.8948 - val_loss: 0.2757 - val_accuracy: 0.8924\n",
      "Epoch 34/50\n",
      "85188/85188 [==============================] - 10s 117us/step - loss: 0.2722 - accuracy: 0.8951 - val_loss: 0.2747 - val_accuracy: 0.8938\n",
      "Epoch 35/50\n",
      "85188/85188 [==============================] - 10s 118us/step - loss: 0.2718 - accuracy: 0.8948 - val_loss: 0.2743 - val_accuracy: 0.8937\n",
      "Epoch 36/50\n",
      "85188/85188 [==============================] - 10s 118us/step - loss: 0.2721 - accuracy: 0.8952 - val_loss: 0.2745 - val_accuracy: 0.8941\n",
      "Epoch 37/50\n",
      "85188/85188 [==============================] - 10s 117us/step - loss: 0.2717 - accuracy: 0.8954 - val_loss: 0.2724 - val_accuracy: 0.8952\n",
      "Epoch 38/50\n",
      "85188/85188 [==============================] - 10s 117us/step - loss: 0.2718 - accuracy: 0.8957 - val_loss: 0.2758 - val_accuracy: 0.8931\n",
      "Epoch 39/50\n",
      "85188/85188 [==============================] - 10s 117us/step - loss: 0.2718 - accuracy: 0.8951 - val_loss: 0.2773 - val_accuracy: 0.8931\n",
      "Epoch 40/50\n",
      "85188/85188 [==============================] - 10s 118us/step - loss: 0.2714 - accuracy: 0.8955 - val_loss: 0.2779 - val_accuracy: 0.8925\n",
      "Epoch 41/50\n",
      "85188/85188 [==============================] - 11s 124us/step - loss: 0.2716 - accuracy: 0.8951 - val_loss: 0.2749 - val_accuracy: 0.8931\n",
      "Epoch 42/50\n",
      "85188/85188 [==============================] - 11s 124us/step - loss: 0.2712 - accuracy: 0.8952 - val_loss: 0.2731 - val_accuracy: 0.8944\n",
      "Epoch 43/50\n",
      "85188/85188 [==============================] - 10s 117us/step - loss: 0.2709 - accuracy: 0.8955 - val_loss: 0.2750 - val_accuracy: 0.8934\n",
      "Epoch 44/50\n",
      "85188/85188 [==============================] - 10s 116us/step - loss: 0.2708 - accuracy: 0.8954 - val_loss: 0.2728 - val_accuracy: 0.8943\n",
      "Epoch 45/50\n",
      "85188/85188 [==============================] - 10s 117us/step - loss: 0.2710 - accuracy: 0.8953 - val_loss: 0.2726 - val_accuracy: 0.8956\n",
      "Epoch 46/50\n",
      "85188/85188 [==============================] - 10s 117us/step - loss: 0.2709 - accuracy: 0.8951 - val_loss: 0.2706 - val_accuracy: 0.8957\n",
      "Epoch 47/50\n",
      "85188/85188 [==============================] - 10s 118us/step - loss: 0.2708 - accuracy: 0.8951 - val_loss: 0.2722 - val_accuracy: 0.8947\n",
      "Epoch 48/50\n",
      "85188/85188 [==============================] - 10s 116us/step - loss: 0.2705 - accuracy: 0.8951 - val_loss: 0.2746 - val_accuracy: 0.8933\n",
      "Epoch 49/50\n",
      "85188/85188 [==============================] - 10s 117us/step - loss: 0.2704 - accuracy: 0.8953 - val_loss: 0.2716 - val_accuracy: 0.8939\n",
      "Epoch 50/50\n",
      "85188/85188 [==============================] - 10s 117us/step - loss: 0.2701 - accuracy: 0.8952 - val_loss: 0.2707 - val_accuracy: 0.8952\n"
     ]
    }
   ],
   "source": [
    "model1 = build_model()\n",
    "\n",
    "history1 = model1.fit(X_train, y_train, validation_data=(X_val, y_val), epochs=50, batch_size=10).history"
   ]
  },
  {
   "cell_type": "code",
   "execution_count": 20,
   "metadata": {},
   "outputs": [
    {
     "name": "stdout",
     "output_type": "stream",
     "text": [
      "Train on 85188 samples, validate on 21298 samples\n",
      "Epoch 1/50\n",
      "85188/85188 [==============================] - 3s 35us/step - loss: 0.3745 - accuracy: 0.8562 - val_loss: 0.3429 - val_accuracy: 0.8567\n",
      "Epoch 2/50\n",
      "85188/85188 [==============================] - 2s 26us/step - loss: 0.3346 - accuracy: 0.8567 - val_loss: 0.3288 - val_accuracy: 0.8567\n",
      "Epoch 3/50\n",
      "85188/85188 [==============================] - 2s 28us/step - loss: 0.3228 - accuracy: 0.8607 - val_loss: 0.3189 - val_accuracy: 0.8637\n",
      "Epoch 4/50\n",
      "85188/85188 [==============================] - 2s 28us/step - loss: 0.3135 - accuracy: 0.8685 - val_loss: 0.3111 - val_accuracy: 0.8692\n",
      "Epoch 5/50\n",
      "85188/85188 [==============================] - 2s 27us/step - loss: 0.3079 - accuracy: 0.8717 - val_loss: 0.3067 - val_accuracy: 0.8737\n",
      "Epoch 6/50\n",
      "85188/85188 [==============================] - 2s 27us/step - loss: 0.3041 - accuracy: 0.8748 - val_loss: 0.3029 - val_accuracy: 0.8741\n",
      "Epoch 7/50\n",
      "85188/85188 [==============================] - 2s 28us/step - loss: 0.3014 - accuracy: 0.8762 - val_loss: 0.3003 - val_accuracy: 0.8747\n",
      "Epoch 8/50\n",
      "85188/85188 [==============================] - 3s 29us/step - loss: 0.2991 - accuracy: 0.8766 - val_loss: 0.2992 - val_accuracy: 0.8751\n",
      "Epoch 9/50\n",
      "85188/85188 [==============================] - 3s 31us/step - loss: 0.2972 - accuracy: 0.8762 - val_loss: 0.2979 - val_accuracy: 0.8763\n",
      "Epoch 10/50\n",
      "85188/85188 [==============================] - 2s 29us/step - loss: 0.2954 - accuracy: 0.8774 - val_loss: 0.2961 - val_accuracy: 0.8769\n",
      "Epoch 11/50\n",
      "85188/85188 [==============================] - 3s 31us/step - loss: 0.2939 - accuracy: 0.8773 - val_loss: 0.2937 - val_accuracy: 0.8774\n",
      "Epoch 12/50\n",
      "85188/85188 [==============================] - 2s 29us/step - loss: 0.2921 - accuracy: 0.8776 - val_loss: 0.2925 - val_accuracy: 0.8792\n",
      "Epoch 13/50\n",
      "85188/85188 [==============================] - 2s 29us/step - loss: 0.2901 - accuracy: 0.8791 - val_loss: 0.2906 - val_accuracy: 0.8793\n",
      "Epoch 14/50\n",
      "85188/85188 [==============================] - 2s 29us/step - loss: 0.2886 - accuracy: 0.8794 - val_loss: 0.2908 - val_accuracy: 0.8797\n",
      "Epoch 15/50\n",
      "85188/85188 [==============================] - 2s 27us/step - loss: 0.2875 - accuracy: 0.8797 - val_loss: 0.2879 - val_accuracy: 0.8810\n",
      "Epoch 16/50\n",
      "85188/85188 [==============================] - 2s 29us/step - loss: 0.2865 - accuracy: 0.8811 - val_loss: 0.2888 - val_accuracy: 0.8806\n",
      "Epoch 17/50\n",
      "85188/85188 [==============================] - 2s 27us/step - loss: 0.2857 - accuracy: 0.8803 - val_loss: 0.2890 - val_accuracy: 0.8805\n",
      "Epoch 18/50\n",
      "85188/85188 [==============================] - 2s 27us/step - loss: 0.2849 - accuracy: 0.8807 - val_loss: 0.2870 - val_accuracy: 0.8814\n",
      "Epoch 19/50\n",
      "85188/85188 [==============================] - 2s 28us/step - loss: 0.2839 - accuracy: 0.8808 - val_loss: 0.2845 - val_accuracy: 0.8818\n",
      "Epoch 20/50\n",
      "85188/85188 [==============================] - 2s 29us/step - loss: 0.2833 - accuracy: 0.8810 - val_loss: 0.2848 - val_accuracy: 0.8817\n",
      "Epoch 21/50\n",
      "85188/85188 [==============================] - 2s 27us/step - loss: 0.2823 - accuracy: 0.8816 - val_loss: 0.2851 - val_accuracy: 0.8819\n",
      "Epoch 22/50\n",
      "85188/85188 [==============================] - 2s 27us/step - loss: 0.2818 - accuracy: 0.8821 - val_loss: 0.2830 - val_accuracy: 0.8821\n",
      "Epoch 23/50\n",
      "85188/85188 [==============================] - 2s 27us/step - loss: 0.2809 - accuracy: 0.8830 - val_loss: 0.2834 - val_accuracy: 0.8831\n",
      "Epoch 24/50\n",
      "85188/85188 [==============================] - 2s 28us/step - loss: 0.2807 - accuracy: 0.8817 - val_loss: 0.2844 - val_accuracy: 0.8808\n",
      "Epoch 25/50\n",
      "85188/85188 [==============================] - 2s 28us/step - loss: 0.2804 - accuracy: 0.8815 - val_loss: 0.2834 - val_accuracy: 0.8806\n",
      "Epoch 26/50\n",
      "85188/85188 [==============================] - 2s 27us/step - loss: 0.2797 - accuracy: 0.8822 - val_loss: 0.2832 - val_accuracy: 0.8801\n",
      "Epoch 27/50\n",
      "85188/85188 [==============================] - 2s 28us/step - loss: 0.2793 - accuracy: 0.8816 - val_loss: 0.2814 - val_accuracy: 0.8814\n",
      "Epoch 28/50\n",
      "85188/85188 [==============================] - 2s 27us/step - loss: 0.2790 - accuracy: 0.8816 - val_loss: 0.2824 - val_accuracy: 0.8807\n",
      "Epoch 29/50\n",
      "85188/85188 [==============================] - 2s 28us/step - loss: 0.2785 - accuracy: 0.8815 - val_loss: 0.2816 - val_accuracy: 0.8843\n",
      "Epoch 30/50\n",
      "85188/85188 [==============================] - 2s 28us/step - loss: 0.2783 - accuracy: 0.8817 - val_loss: 0.2830 - val_accuracy: 0.8788\n",
      "Epoch 31/50\n",
      "85188/85188 [==============================] - 2s 27us/step - loss: 0.2782 - accuracy: 0.8824 - val_loss: 0.2811 - val_accuracy: 0.8827\n",
      "Epoch 32/50\n",
      "85188/85188 [==============================] - 2s 26us/step - loss: 0.2776 - accuracy: 0.8823 - val_loss: 0.2802 - val_accuracy: 0.8824\n",
      "Epoch 33/50\n",
      "85188/85188 [==============================] - 2s 26us/step - loss: 0.2774 - accuracy: 0.8816 - val_loss: 0.2808 - val_accuracy: 0.8833\n",
      "Epoch 34/50\n",
      "85188/85188 [==============================] - 2s 26us/step - loss: 0.2769 - accuracy: 0.8821 - val_loss: 0.2817 - val_accuracy: 0.8815\n",
      "Epoch 35/50\n",
      "85188/85188 [==============================] - 2s 26us/step - loss: 0.2764 - accuracy: 0.8828 - val_loss: 0.2806 - val_accuracy: 0.8811\n",
      "Epoch 36/50\n",
      "85188/85188 [==============================] - 2s 26us/step - loss: 0.2764 - accuracy: 0.8826 - val_loss: 0.2792 - val_accuracy: 0.8826\n",
      "Epoch 37/50\n",
      "85188/85188 [==============================] - 2s 26us/step - loss: 0.2759 - accuracy: 0.8827 - val_loss: 0.2796 - val_accuracy: 0.8811\n",
      "Epoch 38/50\n",
      "85188/85188 [==============================] - 2s 26us/step - loss: 0.2756 - accuracy: 0.8827 - val_loss: 0.2779 - val_accuracy: 0.8829\n",
      "Epoch 39/50\n",
      "85188/85188 [==============================] - 2s 26us/step - loss: 0.2754 - accuracy: 0.8832 - val_loss: 0.2778 - val_accuracy: 0.8829\n",
      "Epoch 40/50\n",
      "85188/85188 [==============================] - 2s 27us/step - loss: 0.2748 - accuracy: 0.8832 - val_loss: 0.2811 - val_accuracy: 0.8819\n",
      "Epoch 41/50\n",
      "85188/85188 [==============================] - 2s 27us/step - loss: 0.2748 - accuracy: 0.8832 - val_loss: 0.2773 - val_accuracy: 0.8830\n",
      "Epoch 42/50\n",
      "85188/85188 [==============================] - 2s 27us/step - loss: 0.2739 - accuracy: 0.8838 - val_loss: 0.2770 - val_accuracy: 0.8846\n",
      "Epoch 43/50\n",
      "85188/85188 [==============================] - 2s 25us/step - loss: 0.2733 - accuracy: 0.8840 - val_loss: 0.2756 - val_accuracy: 0.8841\n",
      "Epoch 44/50\n",
      "85188/85188 [==============================] - 2s 27us/step - loss: 0.2730 - accuracy: 0.8845 - val_loss: 0.2772 - val_accuracy: 0.8827\n",
      "Epoch 45/50\n",
      "85188/85188 [==============================] - 2s 26us/step - loss: 0.2728 - accuracy: 0.8848 - val_loss: 0.2751 - val_accuracy: 0.8855\n",
      "Epoch 46/50\n",
      "85188/85188 [==============================] - 2s 25us/step - loss: 0.2720 - accuracy: 0.8851 - val_loss: 0.2733 - val_accuracy: 0.8855\n",
      "Epoch 47/50\n",
      "85188/85188 [==============================] - 2s 28us/step - loss: 0.2716 - accuracy: 0.8853 - val_loss: 0.2726 - val_accuracy: 0.8850\n",
      "Epoch 48/50\n",
      "85188/85188 [==============================] - 2s 26us/step - loss: 0.2712 - accuracy: 0.8858 - val_loss: 0.2735 - val_accuracy: 0.8850\n",
      "Epoch 49/50\n",
      "85188/85188 [==============================] - 2s 26us/step - loss: 0.2707 - accuracy: 0.8854 - val_loss: 0.2729 - val_accuracy: 0.8857\n",
      "Epoch 50/50\n",
      "85188/85188 [==============================] - 2s 27us/step - loss: 0.2703 - accuracy: 0.8859 - val_loss: 0.2728 - val_accuracy: 0.8854\n"
     ]
    }
   ],
   "source": [
    "model2 = build_model()\n",
    "\n",
    "history2 = model2.fit(X_train, y_train, validation_data=(X_val, y_val),epochs=50, batch_size=50).history"
   ]
  },
  {
   "cell_type": "code",
   "execution_count": 21,
   "metadata": {},
   "outputs": [
    {
     "data": {
      "image/png": "[encoded data removed]",
      "text/plain": [
       "<Figure size 432x288 with 1 Axes>"
      ]
     },
     "metadata": {
      "needs_background": "light"
     },
     "output_type": "display_data"
    }
   ],
   "source": [
    "plt.plot(history1['loss'], label='Loss 10')\n",
    "plt.plot(history2['loss'], label='Loss 50')\n",
    "plt.xlabel('Epochs')\n",
    "plt.ylabel('Cross-Entropy')\n",
    "plt.legend()\n",
    "plt.show()"
   ]
  },
  {
   "cell_type": "code",
   "execution_count": 22,
   "metadata": {},
   "outputs": [
    {
     "name": "stdout",
     "output_type": "stream",
     "text": [
      "31946/31946 [==============================] - 1s 16us/step\n",
      "31946/31946 [==============================] - 0s 15us/step\n",
      "Loss 741.128262, Accuracy 0.143304\n",
      "Loss 1.228835, Accuracy 0.143304\n"
     ]
    }
   ],
   "source": [
    "test_loss_1, test_acc_1 = model1.evaluate(X_test, y_test)\n",
    "test_loss_2, test_acc_2 = model2.evaluate(X_test, y_test)\n",
    "\n",
    "print('Loss %f, Accuracy %f' % (test_loss_1, test_acc_1))\n",
    "print('Loss %f, Accuracy %f' % (test_loss_2, test_acc_2))"
   ]
  },
  {
   "cell_type": "code",
   "execution_count": 23,
   "metadata": {},
   "outputs": [
    {
     "name": "stdout",
     "output_type": "stream",
     "text": [
      "Accuracy 0.8566956739497903\n",
      "F1-score [0.92281755 0.        ]\n",
      "              precision    recall  f1-score   support\n",
      "\n",
      "           0       0.86      1.00      0.92     27368\n",
      "           1       0.00      0.00      0.00      4578\n",
      "\n",
      "    accuracy                           0.86     31946\n",
      "   macro avg       0.43      0.50      0.46     31946\n",
      "weighted avg       0.73      0.86      0.79     31946\n",
      "\n"
     ]
    },
    {
     "name": "stderr",
     "output_type": "stream",
     "text": [
      "C:\\Users\\user\\anaconda3\\lib\\site-packages\\sklearn\\metrics\\_classification.py:1245: UndefinedMetricWarning: Precision and F-score are ill-defined and being set to 0.0 in labels with no predicted samples. Use `zero_division` parameter to control this behavior.\n",
      "  _warn_prf(average, modifier, msg_start, len(result))\n",
      "C:\\Users\\user\\anaconda3\\lib\\site-packages\\sklearn\\metrics\\_classification.py:1245: UndefinedMetricWarning: Precision and F-score are ill-defined and being set to 0.0 in labels with no predicted samples. Use `zero_division` parameter to control this behavior.\n",
      "  _warn_prf(average, modifier, msg_start, len(result))\n",
      "C:\\Users\\user\\anaconda3\\lib\\site-packages\\sklearn\\metrics\\_classification.py:1245: UndefinedMetricWarning: Precision and F-score are ill-defined and being set to 0.0 in labels with no predicted samples. Use `zero_division` parameter to control this behavior.\n",
      "  _warn_prf(average, modifier, msg_start, len(result))\n"
     ]
    }
   ],
   "source": [
    "y_pred = model2.predict(X_test).astype(int)\n",
    "\n",
    "print('Accuracy %s' % accuracy_score(y_test, y_pred))\n",
    "print('F1-score %s' % f1_score(y_test, y_pred, average=None))\n",
    "print(classification_report(y_test, y_pred))"
   ]
  },
  {
   "cell_type": "code",
   "execution_count": 24,
   "metadata": {},
   "outputs": [
    {
     "data": {
      "image/png": "[encoded data removed]",
      "text/plain": [
       "<IPython.core.display.Image object>"
      ]
     },
     "execution_count": 24,
     "metadata": {},
     "output_type": "execute_result"
    }
   ],
   "source": [
    "import pydot\n",
    "from keras.utils import plot_model\n",
    "plot_model(model1)"
   ]
  },
  {
   "cell_type": "code",
   "execution_count": 25,
   "metadata": {},
   "outputs": [
    {
     "data": {
      "image/png": "[encoded data removed]",
      "text/plain": [
       "<IPython.core.display.Image object>"
      ]
     },
     "execution_count": 25,
     "metadata": {},
     "output_type": "execute_result"
    }
   ],
   "source": [
    "plot_model(model2)"
   ]
  },
  {
   "cell_type": "code",
   "execution_count": 26,
   "metadata": {},
   "outputs": [
    {
     "name": "stdout",
     "output_type": "stream",
     "text": [
      "Train on 85188 samples, validate on 21298 samples\n",
      "Epoch 1/100\n",
      "85188/85188 [==============================] - 11s 132us/step - loss: 0.3533 - accuracy: 0.8597 - val_loss: 0.3298 - val_accuracy: 0.8654\n",
      "Epoch 2/100\n",
      "85188/85188 [==============================] - 11s 128us/step - loss: 0.3190 - accuracy: 0.8709 - val_loss: 0.3156 - val_accuracy: 0.8733\n",
      "Epoch 3/100\n",
      "85188/85188 [==============================] - 11s 129us/step - loss: 0.3112 - accuracy: 0.8736 - val_loss: 0.3107 - val_accuracy: 0.8731\n",
      "Epoch 4/100\n",
      "85188/85188 [==============================] - 11s 129us/step - loss: 0.3071 - accuracy: 0.8749 - val_loss: 0.3073 - val_accuracy: 0.8747\n",
      "Epoch 5/100\n",
      "85188/85188 [==============================] - 11s 125us/step - loss: 0.3037 - accuracy: 0.8748 - val_loss: 0.3049 - val_accuracy: 0.8732\n",
      "Epoch 6/100\n",
      "85188/85188 [==============================] - 11s 130us/step - loss: 0.3013 - accuracy: 0.8757 - val_loss: 0.3038 - val_accuracy: 0.8752\n",
      "Epoch 7/100\n",
      "85188/85188 [==============================] - 11s 128us/step - loss: 0.3001 - accuracy: 0.8757 - val_loss: 0.3010 - val_accuracy: 0.8755\n",
      "Epoch 8/100\n",
      "85188/85188 [==============================] - 11s 128us/step - loss: 0.2984 - accuracy: 0.8764 - val_loss: 0.2985 - val_accuracy: 0.8763\n",
      "Epoch 9/100\n",
      "85188/85188 [==============================] - 11s 126us/step - loss: 0.2969 - accuracy: 0.8762 - val_loss: 0.2967 - val_accuracy: 0.8774\n",
      "Epoch 10/100\n",
      "85188/85188 [==============================] - 11s 125us/step - loss: 0.2952 - accuracy: 0.8771 - val_loss: 0.2956 - val_accuracy: 0.8771\n",
      "Epoch 11/100\n",
      "85188/85188 [==============================] - 11s 128us/step - loss: 0.2938 - accuracy: 0.8770 - val_loss: 0.2944 - val_accuracy: 0.8770\n",
      "Epoch 12/100\n",
      "85188/85188 [==============================] - 11s 127us/step - loss: 0.2929 - accuracy: 0.8770 - val_loss: 0.2943 - val_accuracy: 0.8779\n",
      "Epoch 13/100\n",
      "85188/85188 [==============================] - 11s 127us/step - loss: 0.2920 - accuracy: 0.8776 - val_loss: 0.2938 - val_accuracy: 0.8777\n",
      "Epoch 14/100\n",
      "85188/85188 [==============================] - 11s 129us/step - loss: 0.2914 - accuracy: 0.8780 - val_loss: 0.2929 - val_accuracy: 0.8775\n",
      "Epoch 15/100\n",
      "85188/85188 [==============================] - 11s 126us/step - loss: 0.2907 - accuracy: 0.8780 - val_loss: 0.2928 - val_accuracy: 0.8769\n",
      "Epoch 16/100\n",
      "85188/85188 [==============================] - 11s 126us/step - loss: 0.2903 - accuracy: 0.8778 - val_loss: 0.2925 - val_accuracy: 0.8775\n",
      "Epoch 17/100\n",
      "85188/85188 [==============================] - 11s 123us/step - loss: 0.2902 - accuracy: 0.8782 - val_loss: 0.2930 - val_accuracy: 0.8779\n",
      "Epoch 18/100\n",
      "85188/85188 [==============================] - 11s 125us/step - loss: 0.2894 - accuracy: 0.8786 - val_loss: 0.2924 - val_accuracy: 0.8764\n",
      "Epoch 19/100\n",
      "85188/85188 [==============================] - 11s 129us/step - loss: 0.2892 - accuracy: 0.8788 - val_loss: 0.2895 - val_accuracy: 0.8782\n",
      "Epoch 20/100\n",
      "85188/85188 [==============================] - 11s 128us/step - loss: 0.2883 - accuracy: 0.8787 - val_loss: 0.2902 - val_accuracy: 0.8778\n",
      "Epoch 21/100\n",
      "85188/85188 [==============================] - 11s 124us/step - loss: 0.2876 - accuracy: 0.8790 - val_loss: 0.2863 - val_accuracy: 0.8801\n",
      "Epoch 22/100\n",
      "85188/85188 [==============================] - 11s 126us/step - loss: 0.2875 - accuracy: 0.8787 - val_loss: 0.2878 - val_accuracy: 0.8787\n",
      "Epoch 23/100\n",
      "85188/85188 [==============================] - 11s 131us/step - loss: 0.2863 - accuracy: 0.8790 - val_loss: 0.2889 - val_accuracy: 0.8789\n",
      "Epoch 24/100\n",
      "85188/85188 [==============================] - 11s 132us/step - loss: 0.2864 - accuracy: 0.8792 - val_loss: 0.2865 - val_accuracy: 0.8797\n",
      "Epoch 25/100\n",
      "85188/85188 [==============================] - 13s 148us/step - loss: 0.2852 - accuracy: 0.8797 - val_loss: 0.2861 - val_accuracy: 0.8801\n",
      "Epoch 26/100\n",
      "85188/85188 [==============================] - 11s 123us/step - loss: 0.2850 - accuracy: 0.8798 - val_loss: 0.2832 - val_accuracy: 0.8802\n",
      "Epoch 27/100\n",
      "85188/85188 [==============================] - 10s 121us/step - loss: 0.2839 - accuracy: 0.8798 - val_loss: 0.2832 - val_accuracy: 0.8806\n",
      "Epoch 28/100\n",
      "85188/85188 [==============================] - 10s 123us/step - loss: 0.2832 - accuracy: 0.8803 - val_loss: 0.2813 - val_accuracy: 0.8808\n",
      "Epoch 29/100\n",
      "85188/85188 [==============================] - 11s 126us/step - loss: 0.2820 - accuracy: 0.8805 - val_loss: 0.2823 - val_accuracy: 0.8803\n",
      "Epoch 30/100\n",
      "85188/85188 [==============================] - 11s 127us/step - loss: 0.2809 - accuracy: 0.8808 - val_loss: 0.2817 - val_accuracy: 0.8818\n",
      "Epoch 31/100\n",
      "85188/85188 [==============================] - 11s 125us/step - loss: 0.2802 - accuracy: 0.8813 - val_loss: 0.2803 - val_accuracy: 0.8828\n",
      "Epoch 32/100\n",
      "85188/85188 [==============================] - 11s 124us/step - loss: 0.2793 - accuracy: 0.8821 - val_loss: 0.2801 - val_accuracy: 0.8833\n",
      "Epoch 33/100\n",
      "85188/85188 [==============================] - 11s 132us/step - loss: 0.2785 - accuracy: 0.8820 - val_loss: 0.2765 - val_accuracy: 0.8837\n",
      "Epoch 34/100\n",
      "85188/85188 [==============================] - 11s 126us/step - loss: 0.2775 - accuracy: 0.8835 - val_loss: 0.2755 - val_accuracy: 0.8830\n",
      "Epoch 35/100\n",
      "85188/85188 [==============================] - 11s 129us/step - loss: 0.2764 - accuracy: 0.8829 - val_loss: 0.2763 - val_accuracy: 0.8815\n",
      "Epoch 36/100\n",
      "85188/85188 [==============================] - 10s 123us/step - loss: 0.2759 - accuracy: 0.8826 - val_loss: 0.2772 - val_accuracy: 0.8834\n",
      "Epoch 37/100\n",
      "85188/85188 [==============================] - 11s 134us/step - loss: 0.2757 - accuracy: 0.8823 - val_loss: 0.2760 - val_accuracy: 0.8814\n",
      "Epoch 38/100\n",
      "85188/85188 [==============================] - 11s 135us/step - loss: 0.2751 - accuracy: 0.8819 - val_loss: 0.2756 - val_accuracy: 0.8805\n",
      "Epoch 39/100\n",
      "85188/85188 [==============================] - 11s 125us/step - loss: 0.2745 - accuracy: 0.8816 - val_loss: 0.2732 - val_accuracy: 0.8809\n",
      "Epoch 40/100\n",
      "85188/85188 [==============================] - 11s 126us/step - loss: 0.2737 - accuracy: 0.8813 - val_loss: 0.2726 - val_accuracy: 0.8820\n",
      "Epoch 41/100\n",
      "85188/85188 [==============================] - 11s 127us/step - loss: 0.2731 - accuracy: 0.8811 - val_loss: 0.2721 - val_accuracy: 0.8810\n",
      "Epoch 42/100\n",
      "85188/85188 [==============================] - 11s 128us/step - loss: 0.2726 - accuracy: 0.8809 - val_loss: 0.2719 - val_accuracy: 0.8805\n",
      "Epoch 43/100\n",
      "85188/85188 [==============================] - 11s 126us/step - loss: 0.2721 - accuracy: 0.8802 - val_loss: 0.2727 - val_accuracy: 0.8805\n",
      "Epoch 44/100\n",
      "85188/85188 [==============================] - 11s 126us/step - loss: 0.2717 - accuracy: 0.8796 - val_loss: 0.2719 - val_accuracy: 0.8791\n",
      "Epoch 45/100\n",
      "85188/85188 [==============================] - 11s 128us/step - loss: 0.2718 - accuracy: 0.8809 - val_loss: 0.2737 - val_accuracy: 0.8807\n",
      "Epoch 46/100\n",
      "85188/85188 [==============================] - 11s 127us/step - loss: 0.2713 - accuracy: 0.8808 - val_loss: 0.2708 - val_accuracy: 0.8814\n",
      "Epoch 47/100\n",
      "85188/85188 [==============================] - 11s 127us/step - loss: 0.2706 - accuracy: 0.8812 - val_loss: 0.2712 - val_accuracy: 0.8810\n",
      "Epoch 48/100\n",
      "85188/85188 [==============================] - 11s 131us/step - loss: 0.2701 - accuracy: 0.8811 - val_loss: 0.2675 - val_accuracy: 0.8815\n",
      "Epoch 49/100\n",
      "85188/85188 [==============================] - 11s 132us/step - loss: 0.2694 - accuracy: 0.8811 - val_loss: 0.2696 - val_accuracy: 0.8802\n",
      "Epoch 50/100\n",
      "85188/85188 [==============================] - 11s 131us/step - loss: 0.2695 - accuracy: 0.8811 - val_loss: 0.2681 - val_accuracy: 0.8804\n",
      "Epoch 51/100\n",
      "85188/85188 [==============================] - 11s 129us/step - loss: 0.2690 - accuracy: 0.8816 - val_loss: 0.2684 - val_accuracy: 0.8800\n",
      "Epoch 52/100\n",
      "85188/85188 [==============================] - 11s 130us/step - loss: 0.2685 - accuracy: 0.8819 - val_loss: 0.2682 - val_accuracy: 0.8805\n",
      "Epoch 53/100\n",
      "85188/85188 [==============================] - 11s 133us/step - loss: 0.2679 - accuracy: 0.8820 - val_loss: 0.2695 - val_accuracy: 0.8810\n",
      "Epoch 54/100\n",
      "85188/85188 [==============================] - 11s 126us/step - loss: 0.2682 - accuracy: 0.8816 - val_loss: 0.2664 - val_accuracy: 0.8813\n",
      "Epoch 55/100\n",
      "85188/85188 [==============================] - 11s 129us/step - loss: 0.2677 - accuracy: 0.8814 - val_loss: 0.2687 - val_accuracy: 0.8811\n",
      "Epoch 56/100\n",
      "85188/85188 [==============================] - 11s 125us/step - loss: 0.2671 - accuracy: 0.8820 - val_loss: 0.2691 - val_accuracy: 0.8804\n",
      "Epoch 57/100\n",
      "85188/85188 [==============================] - 11s 134us/step - loss: 0.2673 - accuracy: 0.8814 - val_loss: 0.2648 - val_accuracy: 0.8821\n",
      "Epoch 58/100\n",
      "85188/85188 [==============================] - 12s 138us/step - loss: 0.2665 - accuracy: 0.8823 - val_loss: 0.2652 - val_accuracy: 0.8818\n",
      "Epoch 59/100\n",
      "85188/85188 [==============================] - 12s 137us/step - loss: 0.2661 - accuracy: 0.8823 - val_loss: 0.2683 - val_accuracy: 0.8804\n",
      "Epoch 60/100\n",
      "85188/85188 [==============================] - 11s 133us/step - loss: 0.2661 - accuracy: 0.8820 - val_loss: 0.2670 - val_accuracy: 0.8817\n",
      "Epoch 61/100\n",
      "85188/85188 [==============================] - 12s 136us/step - loss: 0.2661 - accuracy: 0.8824 - val_loss: 0.2687 - val_accuracy: 0.8816\n",
      "Epoch 62/100\n",
      "85188/85188 [==============================] - 12s 142us/step - loss: 0.2658 - accuracy: 0.8824 - val_loss: 0.2696 - val_accuracy: 0.8808\n",
      "Epoch 63/100\n",
      "85188/85188 [==============================] - 12s 136us/step - loss: 0.2658 - accuracy: 0.8825 - val_loss: 0.2675 - val_accuracy: 0.8812\n",
      "Epoch 64/100\n",
      "85188/85188 [==============================] - 11s 131us/step - loss: 0.2655 - accuracy: 0.8825 - val_loss: 0.2651 - val_accuracy: 0.8821\n",
      "Epoch 65/100\n",
      "85188/85188 [==============================] - 11s 133us/step - loss: 0.2654 - accuracy: 0.8826 - val_loss: 0.2670 - val_accuracy: 0.8811\n",
      "Epoch 66/100\n",
      "85188/85188 [==============================] - 11s 132us/step - loss: 0.2650 - accuracy: 0.8826 - val_loss: 0.2666 - val_accuracy: 0.8817\n",
      "Epoch 67/100\n",
      "85188/85188 [==============================] - 11s 131us/step - loss: 0.2646 - accuracy: 0.8828 - val_loss: 0.2690 - val_accuracy: 0.8806\n",
      "Epoch 68/100\n",
      "85188/85188 [==============================] - 12s 137us/step - loss: 0.2649 - accuracy: 0.8825 - val_loss: 0.2671 - val_accuracy: 0.8811\n",
      "Epoch 69/100\n",
      "85188/85188 [==============================] - 11s 132us/step - loss: 0.2648 - accuracy: 0.8823 - val_loss: 0.2697 - val_accuracy: 0.8803\n",
      "Epoch 70/100\n",
      "85188/85188 [==============================] - 12s 135us/step - loss: 0.2640 - accuracy: 0.8830 - val_loss: 0.2659 - val_accuracy: 0.8822\n",
      "Epoch 71/100\n",
      "85188/85188 [==============================] - 11s 132us/step - loss: 0.2643 - accuracy: 0.8828 - val_loss: 0.2665 - val_accuracy: 0.8820\n",
      "Epoch 72/100\n",
      "85188/85188 [==============================] - 11s 133us/step - loss: 0.2641 - accuracy: 0.8824 - val_loss: 0.2657 - val_accuracy: 0.8814\n",
      "Epoch 73/100\n",
      "85188/85188 [==============================] - 11s 134us/step - loss: 0.2639 - accuracy: 0.8827 - val_loss: 0.2648 - val_accuracy: 0.8830\n",
      "Epoch 74/100\n",
      "85188/85188 [==============================] - 12s 136us/step - loss: 0.2638 - accuracy: 0.8826 - val_loss: 0.2623 - val_accuracy: 0.8846\n",
      "Epoch 75/100\n",
      "85188/85188 [==============================] - 11s 134us/step - loss: 0.2631 - accuracy: 0.8834 - val_loss: 0.2634 - val_accuracy: 0.8846\n",
      "Epoch 76/100\n",
      "85188/85188 [==============================] - 11s 134us/step - loss: 0.2624 - accuracy: 0.8837 - val_loss: 0.2634 - val_accuracy: 0.8841\n",
      "Epoch 77/100\n",
      "85188/85188 [==============================] - 12s 135us/step - loss: 0.2625 - accuracy: 0.8830 - val_loss: 0.2640 - val_accuracy: 0.8831\n",
      "Epoch 78/100\n",
      "85188/85188 [==============================] - 11s 126us/step - loss: 0.2629 - accuracy: 0.8830 - val_loss: 0.2635 - val_accuracy: 0.8837\n",
      "Epoch 79/100\n",
      "85188/85188 [==============================] - 10s 120us/step - loss: 0.2624 - accuracy: 0.8833 - val_loss: 0.2659 - val_accuracy: 0.8821\n",
      "Epoch 80/100\n",
      "85188/85188 [==============================] - 10s 120us/step - loss: 0.2623 - accuracy: 0.8838 - val_loss: 0.2631 - val_accuracy: 0.8820\n",
      "Epoch 81/100\n",
      "85188/85188 [==============================] - 10s 122us/step - loss: 0.2620 - accuracy: 0.8828 - val_loss: 0.2651 - val_accuracy: 0.8827\n",
      "Epoch 82/100\n",
      "85188/85188 [==============================] - 10s 123us/step - loss: 0.2613 - accuracy: 0.8834 - val_loss: 0.2658 - val_accuracy: 0.8837\n",
      "Epoch 83/100\n",
      "85188/85188 [==============================] - 10s 120us/step - loss: 0.2613 - accuracy: 0.8839 - val_loss: 0.2647 - val_accuracy: 0.8836\n",
      "Epoch 84/100\n",
      "85188/85188 [==============================] - 10s 121us/step - loss: 0.2609 - accuracy: 0.8835 - val_loss: 0.2691 - val_accuracy: 0.8844\n",
      "Epoch 85/100\n",
      "85188/85188 [==============================] - 10s 122us/step - loss: 0.2604 - accuracy: 0.8843 - val_loss: 0.2647 - val_accuracy: 0.8817\n",
      "Epoch 86/100\n",
      "85188/85188 [==============================] - 10s 121us/step - loss: 0.2621 - accuracy: 0.8839 - val_loss: 0.2642 - val_accuracy: 0.8848\n",
      "Epoch 87/100\n",
      "85188/85188 [==============================] - 10s 121us/step - loss: 0.2614 - accuracy: 0.8844 - val_loss: 0.2637 - val_accuracy: 0.8829\n",
      "Epoch 88/100\n",
      "85188/85188 [==============================] - 10s 120us/step - loss: 0.2608 - accuracy: 0.8844 - val_loss: 0.2624 - val_accuracy: 0.8847\n",
      "Epoch 89/100\n",
      "85188/85188 [==============================] - 10s 121us/step - loss: 0.2607 - accuracy: 0.8841 - val_loss: 0.2645 - val_accuracy: 0.8841\n",
      "Epoch 90/100\n",
      "85188/85188 [==============================] - 11s 127us/step - loss: 0.2605 - accuracy: 0.8847 - val_loss: 0.2636 - val_accuracy: 0.8840\n",
      "Epoch 91/100\n",
      "85188/85188 [==============================] - 11s 130us/step - loss: 0.2605 - accuracy: 0.8841 - val_loss: 0.2630 - val_accuracy: 0.8855\n",
      "Epoch 92/100\n",
      "85188/85188 [==============================] - 10s 122us/step - loss: 0.2603 - accuracy: 0.8847 - val_loss: 0.2625 - val_accuracy: 0.8847\n",
      "Epoch 93/100\n",
      "85188/85188 [==============================] - 10s 120us/step - loss: 0.2603 - accuracy: 0.8854 - val_loss: 0.2656 - val_accuracy: 0.8841\n",
      "Epoch 94/100\n",
      "85188/85188 [==============================] - 10s 122us/step - loss: 0.2599 - accuracy: 0.8848 - val_loss: 0.2630 - val_accuracy: 0.8841\n",
      "Epoch 95/100\n",
      "85188/85188 [==============================] - 10s 121us/step - loss: 0.2611 - accuracy: 0.8845 - val_loss: 0.2686 - val_accuracy: 0.8828\n",
      "Epoch 96/100\n",
      "85188/85188 [==============================] - 10s 121us/step - loss: 0.2600 - accuracy: 0.8845 - val_loss: 0.2626 - val_accuracy: 0.8835\n",
      "Epoch 97/100\n",
      "85188/85188 [==============================] - 11s 124us/step - loss: 0.2592 - accuracy: 0.8846 - val_loss: 0.2645 - val_accuracy: 0.8846\n",
      "Epoch 98/100\n",
      "85188/85188 [==============================] - 10s 122us/step - loss: 0.2596 - accuracy: 0.8847 - val_loss: 0.2610 - val_accuracy: 0.8847\n",
      "Epoch 99/100\n",
      "85188/85188 [==============================] - 11s 128us/step - loss: 0.2594 - accuracy: 0.8841 - val_loss: 0.2628 - val_accuracy: 0.8830\n",
      "Epoch 100/100\n",
      "85188/85188 [==============================] - 11s 133us/step - loss: 0.2595 - accuracy: 0.8843 - val_loss: 0.2618 - val_accuracy: 0.8841\n"
     ]
    }
   ],
   "source": [
    "model3 = build_model()\n",
    "\n",
    "history3 = model3.fit(X_train, y_train, validation_data=(X_val, y_val), epochs=100, batch_size=10).history"
   ]
  },
  {
   "cell_type": "code",
   "execution_count": 27,
   "metadata": {},
   "outputs": [
    {
     "name": "stdout",
     "output_type": "stream",
     "text": [
      "Train: Loss 0.270099, Accuracy 0.895185\n",
      "Val: Loss 0.270726, Accuracy 0.895248\n"
     ]
    }
   ],
   "source": [
    "print('Train: Loss %f, Accuracy %f' % (history1['loss'][49], history1['accuracy'][49]))\n",
    "print('Val: Loss %f, Accuracy %f' % (history1['val_loss'][49], history1['val_accuracy'][49]))"
   ]
  },
  {
   "cell_type": "code",
   "execution_count": 28,
   "metadata": {},
   "outputs": [
    {
     "name": "stdout",
     "output_type": "stream",
     "text": [
      "Train: Loss 0.270298, Accuracy 0.885899\n",
      "Val: Loss 0.272789, Accuracy 0.885388\n"
     ]
    }
   ],
   "source": [
    "print('Train: Loss %f, Accuracy %f' % (history2['loss'][49], history2['accuracy'][49]))\n",
    "print('Val: Loss %f, Accuracy %f' % (history2['val_loss'][49], history2['val_accuracy'][49]))"
   ]
  },
  {
   "cell_type": "code",
   "execution_count": 29,
   "metadata": {},
   "outputs": [
    {
     "name": "stdout",
     "output_type": "stream",
     "text": [
      "Train: Loss 0.259463, Accuracy 0.884326\n",
      "Val: Loss 0.261829, Accuracy 0.884121\n"
     ]
    }
   ],
   "source": [
    "print('Train: Loss %f, Accuracy %f' % (history3['loss'][99], history3['accuracy'][99]))\n",
    "print('Val: Loss %f, Accuracy %f' % (history3['val_loss'][99], history3['val_accuracy'][99]))"
   ]
  },
  {
   "cell_type": "code",
   "execution_count": 30,
   "metadata": {},
   "outputs": [
    {
     "name": "stdout",
     "output_type": "stream",
     "text": [
      "31946/31946 [==============================] - 0s 16us/step\n",
      "Loss 741.128262, Accuracy 0.143304\n",
      "Loss 1.228835, Accuracy 0.143304\n",
      "Loss 805.976948, Accuracy 0.143304\n"
     ]
    },
    {
     "data": {
      "image/png": "[encoded data removed]",
      "text/plain": [
       "<IPython.core.display.Image object>"
      ]
     },
     "execution_count": 30,
     "metadata": {},
     "output_type": "execute_result"
    }
   ],
   "source": [
    "test_loss_3, test_acc_3 = model3.evaluate(X_test, y_test)\n",
    "\n",
    "print('Loss %f, Accuracy %f' % (test_loss_1, test_acc_1))\n",
    "print('Loss %f, Accuracy %f' % (test_loss_2, test_acc_2))\n",
    "print('Loss %f, Accuracy %f' % (test_loss_3, test_acc_3))\n",
    "plot_model(model3)"
   ]
  },
  {
   "cell_type": "code",
   "execution_count": 31,
   "metadata": {},
   "outputs": [
    {
     "name": "stdout",
     "output_type": "stream",
     "text": [
      "31946/31946 [==============================] - 1s 16us/step\n"
     ]
    }
   ],
   "source": [
    "test_loss_3, test_acc_3 = model3.evaluate(X_test, y_test)"
   ]
  },
  {
   "cell_type": "code",
   "execution_count": 32,
   "metadata": {},
   "outputs": [
    {
     "data": {
      "image/png": "[encoded data removed]",
      "text/plain": [
       "<Figure size 432x288 with 1 Axes>"
      ]
     },
     "metadata": {
      "needs_background": "light"
     },
     "output_type": "display_data"
    }
   ],
   "source": [
    "plt.plot(history3['loss'], label='Train')\n",
    "plt.plot(history3['val_loss'], label='Val')\n",
    "plt.xlabel('Epochs')\n",
    "plt.ylabel('Cross-Entropy')\n",
    "plt.legend()\n",
    "plt.show()"
   ]
  },
  {
   "cell_type": "code",
   "execution_count": 33,
   "metadata": {},
   "outputs": [
    {
     "ename": "TypeError",
     "evalue": "If no scoring is specified, the estimator passed should have a 'score' method. The estimator <keras.engine.sequential.Sequential object at 0x0000015326561288> does not.",
     "output_type": "error",
     "traceback": [
      "\u001b[1;31m---------------------------------------------------------------------------\u001b[0m",
      "\u001b[1;31mTypeError\u001b[0m                                 Traceback (most recent call last)",
      "\u001b[1;32m<ipython-input-33-5d3e63a5136e>\u001b[0m in \u001b[0;36m<module>\u001b[1;34m\u001b[0m\n\u001b[1;32m----> 1\u001b[1;33m \u001b[0mscores\u001b[0m \u001b[1;33m=\u001b[0m \u001b[0mcross_val_score\u001b[0m\u001b[1;33m(\u001b[0m\u001b[0mmodel3\u001b[0m\u001b[1;33m,\u001b[0m \u001b[0mX_train\u001b[0m\u001b[1;33m,\u001b[0m \u001b[0my_train\u001b[0m\u001b[1;33m,\u001b[0m \u001b[0mcv\u001b[0m\u001b[1;33m=\u001b[0m\u001b[1;36m10\u001b[0m\u001b[1;33m)\u001b[0m\u001b[1;33m\u001b[0m\u001b[1;33m\u001b[0m\u001b[0m\n\u001b[0m\u001b[0;32m      2\u001b[0m \u001b[0mprint\u001b[0m\u001b[1;33m(\u001b[0m\u001b[1;34m'Accuracy: %0.4f (+/- %0.3f)'\u001b[0m \u001b[1;33m%\u001b[0m \u001b[1;33m(\u001b[0m\u001b[0mscores\u001b[0m\u001b[1;33m.\u001b[0m\u001b[0mmean\u001b[0m\u001b[1;33m(\u001b[0m\u001b[1;33m)\u001b[0m\u001b[1;33m,\u001b[0m \u001b[0mscores\u001b[0m\u001b[1;33m.\u001b[0m\u001b[0mstd\u001b[0m\u001b[1;33m(\u001b[0m\u001b[1;33m)\u001b[0m\u001b[1;33m)\u001b[0m\u001b[1;33m)\u001b[0m\u001b[1;33m\u001b[0m\u001b[1;33m\u001b[0m\u001b[0m\n\u001b[0;32m      3\u001b[0m \u001b[1;33m\u001b[0m\u001b[0m\n\u001b[0;32m      4\u001b[0m \u001b[0mscores\u001b[0m \u001b[1;33m=\u001b[0m \u001b[0mcross_val_score\u001b[0m\u001b[1;33m(\u001b[0m\u001b[0mmodel3\u001b[0m\u001b[1;33m,\u001b[0m \u001b[0mX_train\u001b[0m\u001b[1;33m,\u001b[0m \u001b[0my_train\u001b[0m\u001b[1;33m,\u001b[0m \u001b[0mcv\u001b[0m\u001b[1;33m=\u001b[0m\u001b[1;36m10\u001b[0m\u001b[1;33m,\u001b[0m \u001b[0mscoring\u001b[0m\u001b[1;33m=\u001b[0m\u001b[1;34m'f1_macro'\u001b[0m\u001b[1;33m)\u001b[0m\u001b[1;33m\u001b[0m\u001b[1;33m\u001b[0m\u001b[0m\n\u001b[0;32m      5\u001b[0m \u001b[0mprint\u001b[0m\u001b[1;33m(\u001b[0m\u001b[1;34m'F1-score: %0.4f (+/- %0.3f)'\u001b[0m \u001b[1;33m%\u001b[0m \u001b[1;33m(\u001b[0m\u001b[0mscores\u001b[0m\u001b[1;33m.\u001b[0m\u001b[0mmean\u001b[0m\u001b[1;33m(\u001b[0m\u001b[1;33m)\u001b[0m\u001b[1;33m,\u001b[0m \u001b[0mscores\u001b[0m\u001b[1;33m.\u001b[0m\u001b[0mstd\u001b[0m\u001b[1;33m(\u001b[0m\u001b[1;33m)\u001b[0m\u001b[1;33m)\u001b[0m\u001b[1;33m)\u001b[0m\u001b[1;33m\u001b[0m\u001b[1;33m\u001b[0m\u001b[0m\n",
      "\u001b[1;32m~\\anaconda3\\lib\\site-packages\\sklearn\\utils\\validation.py\u001b[0m in \u001b[0;36minner_f\u001b[1;34m(*args, **kwargs)\u001b[0m\n\u001b[0;32m     61\u001b[0m             \u001b[0mextra_args\u001b[0m \u001b[1;33m=\u001b[0m \u001b[0mlen\u001b[0m\u001b[1;33m(\u001b[0m\u001b[0margs\u001b[0m\u001b[1;33m)\u001b[0m \u001b[1;33m-\u001b[0m \u001b[0mlen\u001b[0m\u001b[1;33m(\u001b[0m\u001b[0mall_args\u001b[0m\u001b[1;33m)\u001b[0m\u001b[1;33m\u001b[0m\u001b[1;33m\u001b[0m\u001b[0m\n\u001b[0;32m     62\u001b[0m             \u001b[1;32mif\u001b[0m \u001b[0mextra_args\u001b[0m \u001b[1;33m<=\u001b[0m \u001b[1;36m0\u001b[0m\u001b[1;33m:\u001b[0m\u001b[1;33m\u001b[0m\u001b[1;33m\u001b[0m\u001b[0m\n\u001b[1;32m---> 63\u001b[1;33m                 \u001b[1;32mreturn\u001b[0m \u001b[0mf\u001b[0m\u001b[1;33m(\u001b[0m\u001b[1;33m*\u001b[0m\u001b[0margs\u001b[0m\u001b[1;33m,\u001b[0m \u001b[1;33m**\u001b[0m\u001b[0mkwargs\u001b[0m\u001b[1;33m)\u001b[0m\u001b[1;33m\u001b[0m\u001b[1;33m\u001b[0m\u001b[0m\n\u001b[0m\u001b[0;32m     64\u001b[0m \u001b[1;33m\u001b[0m\u001b[0m\n\u001b[0;32m     65\u001b[0m             \u001b[1;31m# extra_args > 0\u001b[0m\u001b[1;33m\u001b[0m\u001b[1;33m\u001b[0m\u001b[1;33m\u001b[0m\u001b[0m\n",
      "\u001b[1;32m~\\anaconda3\\lib\\site-packages\\sklearn\\model_selection\\_validation.py\u001b[0m in \u001b[0;36mcross_val_score\u001b[1;34m(estimator, X, y, groups, scoring, cv, n_jobs, verbose, fit_params, pre_dispatch, error_score)\u001b[0m\n\u001b[0;32m    436\u001b[0m     \"\"\"\n\u001b[0;32m    437\u001b[0m     \u001b[1;31m# To ensure multimetric format is not supported\u001b[0m\u001b[1;33m\u001b[0m\u001b[1;33m\u001b[0m\u001b[1;33m\u001b[0m\u001b[0m\n\u001b[1;32m--> 438\u001b[1;33m     \u001b[0mscorer\u001b[0m \u001b[1;33m=\u001b[0m \u001b[0mcheck_scoring\u001b[0m\u001b[1;33m(\u001b[0m\u001b[0mestimator\u001b[0m\u001b[1;33m,\u001b[0m \u001b[0mscoring\u001b[0m\u001b[1;33m=\u001b[0m\u001b[0mscoring\u001b[0m\u001b[1;33m)\u001b[0m\u001b[1;33m\u001b[0m\u001b[1;33m\u001b[0m\u001b[0m\n\u001b[0m\u001b[0;32m    439\u001b[0m \u001b[1;33m\u001b[0m\u001b[0m\n\u001b[0;32m    440\u001b[0m     cv_results = cross_validate(estimator=estimator, X=X, y=y, groups=groups,\n",
      "\u001b[1;32m~\\anaconda3\\lib\\site-packages\\sklearn\\utils\\validation.py\u001b[0m in \u001b[0;36minner_f\u001b[1;34m(*args, **kwargs)\u001b[0m\n\u001b[0;32m     61\u001b[0m             \u001b[0mextra_args\u001b[0m \u001b[1;33m=\u001b[0m \u001b[0mlen\u001b[0m\u001b[1;33m(\u001b[0m\u001b[0margs\u001b[0m\u001b[1;33m)\u001b[0m \u001b[1;33m-\u001b[0m \u001b[0mlen\u001b[0m\u001b[1;33m(\u001b[0m\u001b[0mall_args\u001b[0m\u001b[1;33m)\u001b[0m\u001b[1;33m\u001b[0m\u001b[1;33m\u001b[0m\u001b[0m\n\u001b[0;32m     62\u001b[0m             \u001b[1;32mif\u001b[0m \u001b[0mextra_args\u001b[0m \u001b[1;33m<=\u001b[0m \u001b[1;36m0\u001b[0m\u001b[1;33m:\u001b[0m\u001b[1;33m\u001b[0m\u001b[1;33m\u001b[0m\u001b[0m\n\u001b[1;32m---> 63\u001b[1;33m                 \u001b[1;32mreturn\u001b[0m \u001b[0mf\u001b[0m\u001b[1;33m(\u001b[0m\u001b[1;33m*\u001b[0m\u001b[0margs\u001b[0m\u001b[1;33m,\u001b[0m \u001b[1;33m**\u001b[0m\u001b[0mkwargs\u001b[0m\u001b[1;33m)\u001b[0m\u001b[1;33m\u001b[0m\u001b[1;33m\u001b[0m\u001b[0m\n\u001b[0m\u001b[0;32m     64\u001b[0m \u001b[1;33m\u001b[0m\u001b[0m\n\u001b[0;32m     65\u001b[0m             \u001b[1;31m# extra_args > 0\u001b[0m\u001b[1;33m\u001b[0m\u001b[1;33m\u001b[0m\u001b[1;33m\u001b[0m\u001b[0m\n",
      "\u001b[1;32m~\\anaconda3\\lib\\site-packages\\sklearn\\metrics\\_scorer.py\u001b[0m in \u001b[0;36mcheck_scoring\u001b[1;34m(estimator, scoring, allow_none)\u001b[0m\n\u001b[0;32m    451\u001b[0m                 \u001b[1;34m\"If no scoring is specified, the estimator passed should \"\u001b[0m\u001b[1;33m\u001b[0m\u001b[1;33m\u001b[0m\u001b[0m\n\u001b[0;32m    452\u001b[0m                 \u001b[1;34m\"have a 'score' method. The estimator %r does not.\"\u001b[0m\u001b[1;33m\u001b[0m\u001b[1;33m\u001b[0m\u001b[0m\n\u001b[1;32m--> 453\u001b[1;33m                 % estimator)\n\u001b[0m\u001b[0;32m    454\u001b[0m     \u001b[1;32melif\u001b[0m \u001b[0misinstance\u001b[0m\u001b[1;33m(\u001b[0m\u001b[0mscoring\u001b[0m\u001b[1;33m,\u001b[0m \u001b[0mIterable\u001b[0m\u001b[1;33m)\u001b[0m\u001b[1;33m:\u001b[0m\u001b[1;33m\u001b[0m\u001b[1;33m\u001b[0m\u001b[0m\n\u001b[0;32m    455\u001b[0m         raise ValueError(\"For evaluating multiple scores, use \"\n",
      "\u001b[1;31mTypeError\u001b[0m: If no scoring is specified, the estimator passed should have a 'score' method. The estimator <keras.engine.sequential.Sequential object at 0x0000015326561288> does not."
     ]
    }
   ],
   "source": [
    "scores = cross_val_score(model3, X_train, y_train, cv=10)\n",
    "print('Accuracy: %0.4f (+/- %0.3f)' % (scores.mean(), scores.std()))\n",
    "\n",
    "scores = cross_val_score(model3, X_train, y_train, cv=10, scoring='f1_macro')\n",
    "print('F1-score: %0.4f (+/- %0.3f)' % (scores.mean(), scores.std()))"
   ]
  },
  {
   "cell_type": "code",
   "execution_count": null,
   "metadata": {},
   "outputs": [],
   "source": [
    "from ann_visualizer.visualize import ann_viz;\n",
    "#Build your model here\n",
    "ann_viz(model3,view=True, filename=\"net.gv\")"
   ]
  },
  {
   "cell_type": "code",
   "execution_count": null,
   "metadata": {},
   "outputs": [],
   "source": [
    "from keras.callbacks import EarlyStopping, ModelCheckpoint"
   ]
  },
  {
   "cell_type": "code",
   "execution_count": null,
   "metadata": {},
   "outputs": [],
   "source": [
    "es = EarlyStopping(monitor='val_loss', patience=10)\n",
    "mc = ModelCheckpoint('best_model_NOREG.h5', monitor='val_loss', save_best_only=True)\n",
    "\n",
    "model4 = build_model()\n",
    "history4 = model4.fit(X_train, y_train, validation_data=(X_val, y_val), epochs=100, \n",
    "                      batch_size=10, callbacks=[es,mc]).history"
   ]
  },
  {
   "cell_type": "code",
   "execution_count": null,
   "metadata": {},
   "outputs": [],
   "source": [
    "test_loss_4, test_acc_4 = model4.evaluate(X_test, y_test)\n",
    "\n",
    "print('Loss %f, Accuracy %f' % (test_loss_1, test_acc_1))\n",
    "print('Loss %f, Accuracy %f' % (test_loss_2, test_acc_2))\n",
    "print('Loss %f, Accuracy %f' % (test_loss_3, test_acc_3))\n",
    "print('Loss %f, Accuracy %f' % (test_loss_4, test_acc_4))"
   ]
  },
  {
   "cell_type": "code",
   "execution_count": null,
   "metadata": {},
   "outputs": [],
   "source": [
    "from keras.regularizers import l2\n",
    "\n",
    "def build_L2_model():\n",
    "    # define the model\n",
    "    model = Sequential()\n",
    "\n",
    "    n_feature = X_train.shape[1]\n",
    "    model.add(Dense(7, activation='relu', input_shape=(n_feature,), kernel_regularizer=l2(0.01)))\n",
    "    model.add(Dense(5, activation='relu', kernel_regularizer=l2(0.01)))\n",
    "    model.add(Dense(3, activation='relu', kernel_regularizer=l2(0.01)))\n",
    "    model.add(Dense(1, activation='sigmoid', kernel_regularizer=l2(0.01)))\n",
    "\n",
    "    #compile the model\n",
    "    model.compile(loss='binary_crossentropy', optimizer='adam', metrics=['accuracy'])\n",
    "    \n",
    "    return model"
   ]
  },
  {
   "cell_type": "code",
   "execution_count": null,
   "metadata": {},
   "outputs": [],
   "source": [
    "mc = ModelCheckpoint('best_model_L2.h5', monitor='val_loss', save_best_only=True)\n",
    "\n",
    "L2_model = build_L2_model()\n",
    "h_L2 = L2_model.fit(X_train, y_train, validation_data=(X_val, y_val), epochs=1000, \n",
    "                    batch_size=10, callbacks=[es,mc]).history"
   ]
  },
  {
   "cell_type": "code",
   "execution_count": null,
   "metadata": {},
   "outputs": [],
   "source": [
    "from keras.layers import Dropout\n",
    "\n",
    "def build_DROPOUT_model():\n",
    "    # define the model\n",
    "    model = Sequential()\n",
    "\n",
    "    n_feature = X_train.shape[1]\n",
    "    h_dim=100\n",
    "    model.add(Dense(7, activation='relu', input_shape=(n_feature,)))\n",
    "    model.add(Dropout(0.2))\n",
    "    model.add(Dense(5, activation='relu'))\n",
    "    model.add(Dropout(0.2))\n",
    "    model.add(Dense(3, activation='relu'))\n",
    "    model.add(Dropout(0.2))\n",
    "    model.add(Dense(1, activation='sigmoid'))\n",
    "    \n",
    "    #compile the model\n",
    "    model.compile(loss='binary_crossentropy', optimizer='adam', metrics=['accuracy'])\n",
    "    \n",
    "    return model"
   ]
  },
  {
   "cell_type": "code",
   "execution_count": null,
   "metadata": {},
   "outputs": [],
   "source": [
    "mc = ModelCheckpoint('best_model_DROPOUT.h5', monitor='val_loss', save_best_only=True)\n",
    "\n",
    "DROPOUT_model = build_DROPOUT_model()\n",
    "h_DROPOUT = DROPOUT_model.fit(X_train, y_train, validation_data=(X_val, y_val), \n",
    "                              epochs=1000, batch_size=10, callbacks=[es,mc]).history"
   ]
  },
  {
   "cell_type": "code",
   "execution_count": null,
   "metadata": {},
   "outputs": [],
   "source": [
    "# laod best models and test them\n",
    "from keras.models import load_model\n",
    "\n",
    "best_NOREG_model = load_model('best_model_NOREG.h5')\n",
    "best_L2_model = load_model('best_model_L2.h5')\n",
    "best_DROPOUT_model = load_model('best_model_DROPOUT.h5')\n",
    "\n",
    "loss_NOREG, acc_NOREG = best_NOREG_model.evaluate(X_test, y_test)\n",
    "loss_L2, acc_L2 = best_L2_model.evaluate(X_test, y_test)\n",
    "loss_DROPOUT, acc_DROPOUT = best_DROPOUT_model.evaluate(X_test, y_test)"
   ]
  },
  {
   "cell_type": "code",
   "execution_count": null,
   "metadata": {},
   "outputs": [],
   "source": [
    "print('Loss %f, Accuracy %f' % (loss_NOREG, acc_NOREG))\n",
    "print('Loss %f, Accuracy %f' % (loss_L2, acc_L2))\n",
    "print('Loss %f, Accuracy %f' % (loss_DROPOUT, acc_DROPOUT))"
   ]
  },
  {
   "cell_type": "code",
   "execution_count": null,
   "metadata": {},
   "outputs": [],
   "source": []
  }
 ],
 "metadata": {
  "kernelspec": {
   "display_name": "Python 3",
   "language": "python",
   "name": "python3"
  },
  "language_info": {
   "codemirror_mode": {
    "name": "ipython",
    "version": 3
   },
   "file_extension": ".py",
   "mimetype": "text/x-python",
   "name": "python",
   "nbconvert_exporter": "python",
   "pygments_lexer": "ipython3",
   "version": "3.7.6"
  }
 },
 "nbformat": 4,
 "nbformat_minor": 4
}
