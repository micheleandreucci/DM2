{
 "cells": [
  {
   "cell_type": "code",
   "execution_count": 1,
   "metadata": {},
   "outputs": [],
   "source": [
    "%matplotlib inline\n",
    "\n",
    "import numpy as np\n",
    "import pandas as pd\n",
    "import seaborn as sns\n",
    "import matplotlib.pyplot as plt\n",
    "\n",
    "from collections import Counter\n",
    "from collections import defaultdict\n",
    "from sklearn.preprocessing import LabelEncoder, StandardScaler\n",
    "from sklearn.model_selection import train_test_split, cross_val_score \n",
    "\n",
    "from sklearn.metrics import accuracy_score, f1_score, classification_report\n",
    "from sklearn.metrics import roc_curve, auc, roc_auc_score\n",
    "from sklearn.model_selection import train_test_split, cross_val_score \n",
    "from sklearn.preprocessing import StandardScaler, MinMaxScaler"
   ]
  },
  {
   "cell_type": "code",
   "execution_count": 2,
   "metadata": {},
   "outputs": [
    {
     "data": {
      "text/plain": [
       "(99404, 16)"
      ]
     },
     "execution_count": 2,
     "metadata": {},
     "output_type": "execute_result"
    }
   ],
   "source": [
    "class_name = 'Attribution-Noncommercial-Share Alike 3.0 United States'\n",
    "# Load dataset.\n",
    "tracks = pd.read_csv('data/fma_metadata/tracks_reduced_dataset.csv')\n",
    "features_to_drop = ['Unnamed: 0']\n",
    "tracks.drop(features_to_drop, inplace=True, axis=1)\n",
    "\n",
    "tracks.shape"
   ]
  },
  {
   "cell_type": "code",
   "execution_count": 3,
   "metadata": {},
   "outputs": [],
   "source": [
    "attributes = [col for col in tracks.columns if col != class_name]\n",
    "\n",
    "X = tracks[attributes].values\n",
    "y = tracks[class_name]\n",
    "\n",
    "X_train, X_test, y_train, y_test = train_test_split(X, y, test_size=0.3, random_state=100, stratify=y)"
   ]
  },
  {
   "cell_type": "code",
   "execution_count": 4,
   "metadata": {},
   "outputs": [],
   "source": [
    "from sklearn.preprocessing import StandardScaler\n",
    "from sklearn.preprocessing import MinMaxScaler"
   ]
  },
  {
   "cell_type": "code",
   "execution_count": 5,
   "metadata": {},
   "outputs": [],
   "source": [
    "scaler = StandardScaler()\n",
    "scaler.fit(X_train)\n",
    "X_train = scaler.transform(X_train)\n",
    "#X_test = scaler.transform(X_test)\n",
    "X_test = scaler.transform(X_test)"
   ]
  },
  {
   "cell_type": "code",
   "execution_count": 6,
   "metadata": {},
   "outputs": [],
   "source": [
    "#different learning rate schedules and momentum parameters\n",
    "params = [{'solver': 'sgd', 'learning_rate': 'constant', 'momentum': 0,\n",
    "           'learning_rate_init': 0.2},\n",
    "          {'solver': 'sgd', 'learning_rate': 'constant', 'momentum': .9,\n",
    "           'nesterovs_momentum': False, 'learning_rate_init': 0.2},\n",
    "          {'solver': 'sgd', 'learning_rate': 'invscaling', 'momentum': .9,\n",
    "           'nesterovs_momentum': True, 'learning_rate_init': 0.2},\n",
    "          {'solver': 'adam', 'learning_rate_init': 0.01}]\n",
    "\n",
    "labels = [\"constant learning-rate\", \"constant with momentum\",\n",
    "          \"inv-scaling learning-rate\", \"inv-scaling with momentum\", \"adam\"]\n",
    "\n",
    "plot_args = [{'c': 'red', 'linestyle': '-'},\n",
    "             {'c': 'green', 'linestyle': '-'},\n",
    "             {'c': 'blue', 'linestyle': '--'},\n",
    "             {'c': 'black', 'linestyle': '.'}]"
   ]
  },
  {
   "cell_type": "code",
   "execution_count": 7,
   "metadata": {},
   "outputs": [
    {
     "name": "stdout",
     "output_type": "stream",
     "text": [
      "training: constant learning-rate\n",
      "Training set score: 0.822150\n",
      "Training set loss: 36124725948.235443\n",
      "training: constant with momentum\n",
      "Training set score: 0.822150\n",
      "Training set loss: 3572107758080.424316\n",
      "training: inv-scaling learning-rate\n",
      "Training set score: 0.822150\n",
      "Training set loss: 13043972747704.214844\n",
      "training: inv-scaling with momentum\n",
      "Training set score: 0.822271\n",
      "Training set loss: 0.467875\n"
     ]
    },
    {
     "data": {
      "image/png": "[encoded data removed]",
      "text/plain": [
       "<Figure size 1080x720 with 1 Axes>"
      ]
     },
     "metadata": {
      "needs_background": "light"
     },
     "output_type": "display_data"
    }
   ],
   "source": [
    "import warnings\n",
    "import matplotlib.pyplot as plt\n",
    "from sklearn.exceptions import ConvergenceWarning\n",
    "from sklearn.neural_network import MLPClassifier\n",
    "        \n",
    "\n",
    "fig, axes = plt.subplots(1, 1, figsize=(15, 10))      \n",
    "mlps=[]   \n",
    "for label, param in zip(labels, params):\n",
    "    print(\"training: %s\" % label)\n",
    "    mlp = MLPClassifier(random_state=0,\n",
    "                           max_iter=200, **param)\n",
    "\n",
    "        # some parameter combinations will not converge as can be seen on the\n",
    "        # plots so they are ignored here\n",
    "    with warnings.catch_warnings():\n",
    "        warnings.filterwarnings(\"ignore\", category=ConvergenceWarning,\n",
    "                                    module=\"sklearn\")\n",
    "        mlp.fit(X, y)\n",
    "\n",
    "    mlps.append(mlp)\n",
    "    print(\"Training set score: %f\" % mlp.score(X, y))\n",
    "    print(\"Training set loss: %f\" % mlp.loss_)\n",
    "    \n",
    "for mlp, label, args in zip(mlps, labels, plot_args):\n",
    "    axes.plot(mlp.loss_curve_, label=label)\n",
    "        \n",
    "        \n",
    "        \n",
    "axes.set_ylabel(\"Loss\")\n",
    "axes.set_xlabel(\"Iterations\")\n",
    "fig.legend(axes.get_lines(), labels, ncol=3, loc=1)\n",
    "plt.show()"
   ]
  },
  {
   "cell_type": "code",
   "execution_count": 8,
   "metadata": {},
   "outputs": [
    {
     "name": "stdout",
     "output_type": "stream",
     "text": [
      "Accuracy 0.8221447253705318\n",
      "F1-score [0.90239234 0.        ]\n",
      "              precision    recall  f1-score   support\n",
      "\n",
      "           0       0.82      1.00      0.90     24518\n",
      "           1       0.00      0.00      0.00      5304\n",
      "\n",
      "    accuracy                           0.82     29822\n",
      "   macro avg       0.41      0.50      0.45     29822\n",
      "weighted avg       0.68      0.82      0.74     29822\n",
      "\n",
      "Training loss 0.42006231769250524\n"
     ]
    },
    {
     "name": "stderr",
     "output_type": "stream",
     "text": [
      "C:\\Users\\user\\anaconda3\\lib\\site-packages\\sklearn\\metrics\\_classification.py:1245: UndefinedMetricWarning: Precision and F-score are ill-defined and being set to 0.0 in labels with no predicted samples. Use `zero_division` parameter to control this behavior.\n",
      "  _warn_prf(average, modifier, msg_start, len(result))\n",
      "C:\\Users\\user\\anaconda3\\lib\\site-packages\\sklearn\\metrics\\_classification.py:1245: UndefinedMetricWarning: Precision and F-score are ill-defined and being set to 0.0 in labels with no predicted samples. Use `zero_division` parameter to control this behavior.\n",
      "  _warn_prf(average, modifier, msg_start, len(result))\n",
      "C:\\Users\\user\\anaconda3\\lib\\site-packages\\sklearn\\metrics\\_classification.py:1245: UndefinedMetricWarning: Precision and F-score are ill-defined and being set to 0.0 in labels with no predicted samples. Use `zero_division` parameter to control this behavior.\n",
      "  _warn_prf(average, modifier, msg_start, len(result))\n"
     ]
    },
    {
     "name": "stdout",
     "output_type": "stream",
     "text": [
      "Validation loss 0.42198121865865246\n"
     ]
    },
    {
     "data": {
      "image/png": "[encoded data removed]",
      "text/plain": [
       "<Figure size 432x288 with 1 Axes>"
      ]
     },
     "metadata": {
      "needs_background": "light"
     },
     "output_type": "display_data"
    }
   ],
   "source": [
    "clf = MLPClassifier(random_state=0,solver= 'adam', learning_rate= 'constant',activation='logistic', momentum= .9, hidden_layer_sizes=(3),\n",
    "           nesterovs_momentum= True, learning_rate_init= 0.2)\n",
    "\n",
    "clf.fit(X_train, y_train)\n",
    "y_pred = clf.predict(X_test)\n",
    "y_score = clf.predict_log_proba(X_test)\n",
    "\n",
    "print('Accuracy %s' % accuracy_score(y_test, y_pred))\n",
    "print('F1-score %s' % f1_score(y_test, y_pred, average=None))\n",
    "print(classification_report(y_test, y_pred))\n",
    "plt.plot(clf.loss_curve_)\n",
    "print('Training loss '+str(clf.loss_))\n",
    "clf.fit(X_test, y_test)\n",
    "print('Validation loss '+str(clf.loss_))\n",
    "plt.plot(clf.loss_curve_)\n",
    "plt.show()"
   ]
  },
  {
   "cell_type": "code",
   "execution_count": 9,
   "metadata": {},
   "outputs": [
    {
     "name": "stdout",
     "output_type": "stream",
     "text": [
      "Accuracy 0.8221447253705318\n",
      "F1-score [0.90239234 0.        ]\n",
      "              precision    recall  f1-score   support\n",
      "\n",
      "           0       0.82      1.00      0.90     24518\n",
      "           1       0.00      0.00      0.00      5304\n",
      "\n",
      "    accuracy                           0.82     29822\n",
      "   macro avg       0.41      0.50      0.45     29822\n",
      "weighted avg       0.68      0.82      0.74     29822\n",
      "\n",
      "Training loss 0.42006231769250524\n"
     ]
    },
    {
     "name": "stderr",
     "output_type": "stream",
     "text": [
      "C:\\Users\\user\\anaconda3\\lib\\site-packages\\sklearn\\metrics\\_classification.py:1245: UndefinedMetricWarning: Precision and F-score are ill-defined and being set to 0.0 in labels with no predicted samples. Use `zero_division` parameter to control this behavior.\n",
      "  _warn_prf(average, modifier, msg_start, len(result))\n",
      "C:\\Users\\user\\anaconda3\\lib\\site-packages\\sklearn\\metrics\\_classification.py:1245: UndefinedMetricWarning: Precision and F-score are ill-defined and being set to 0.0 in labels with no predicted samples. Use `zero_division` parameter to control this behavior.\n",
      "  _warn_prf(average, modifier, msg_start, len(result))\n",
      "C:\\Users\\user\\anaconda3\\lib\\site-packages\\sklearn\\metrics\\_classification.py:1245: UndefinedMetricWarning: Precision and F-score are ill-defined and being set to 0.0 in labels with no predicted samples. Use `zero_division` parameter to control this behavior.\n",
      "  _warn_prf(average, modifier, msg_start, len(result))\n"
     ]
    },
    {
     "name": "stdout",
     "output_type": "stream",
     "text": [
      "Validation loss 0.42006231769250524\n"
     ]
    }
   ],
   "source": [
    "clf = MLPClassifier(random_state=0,solver= 'adam', learning_rate= 'invscaling',activation='logistic', momentum= .9, hidden_layer_sizes=(3),\n",
    "           nesterovs_momentum= True, learning_rate_init= 0.2)\n",
    "\n",
    "clf.fit(X_train, y_train)\n",
    "y_pred = clf.predict(X_test)\n",
    "y_score = clf.predict_log_proba(X_test)\n",
    "\n",
    "print('Accuracy %s' % accuracy_score(y_test, y_pred))\n",
    "print('F1-score %s' % f1_score(y_test, y_pred, average=None))\n",
    "print(classification_report(y_test, y_pred))\n",
    "print('Training loss '+str(clf.loss_))\n",
    "clf.fit(X_train, y_train)\n",
    "print('Validation loss '+str(clf.loss_))"
   ]
  },
  {
   "cell_type": "code",
   "execution_count": 10,
   "metadata": {},
   "outputs": [
    {
     "data": {
      "image/png": "[encoded data removed]",
      "text/plain": [
       "<Figure size 432x288 with 1 Axes>"
      ]
     },
     "metadata": {
      "needs_background": "light"
     },
     "output_type": "display_data"
    }
   ],
   "source": [
    "from scikitplot.metrics import plot_lift_curve\n",
    "plot_lift_curve(y_test, y_score)\n",
    "plt.show()"
   ]
  },
  {
   "cell_type": "code",
   "execution_count": 11,
   "metadata": {},
   "outputs": [
    {
     "name": "stdout",
     "output_type": "stream",
     "text": [
      "Accuracy 0.8220441284957414\n",
      "F1-score [0.90029122 0.17323571]\n",
      "              precision    recall  f1-score   support\n",
      "\n",
      "           0       0.83      0.98      0.90     24518\n",
      "           1       0.50      0.10      0.17      5304\n",
      "\n",
      "    accuracy                           0.82     29822\n",
      "   macro avg       0.67      0.54      0.54     29822\n",
      "weighted avg       0.77      0.82      0.77     29822\n",
      "\n",
      "Training loss 0.41034347379605585\n",
      "Validation loss 0.41491474713785037\n"
     ]
    }
   ],
   "source": [
    "clf = MLPClassifier(random_state=0,solver= 'sgd', learning_rate= 'adaptive', activation='logistic', momentum= .9, hidden_layer_sizes=(3),\n",
    "           nesterovs_momentum= True, learning_rate_init= 0.2)\n",
    "\n",
    "clf.fit(X_train, y_train)\n",
    "y_pred = clf.predict(X_test)\n",
    "y_score = clf.predict_log_proba(X_test)\n",
    "\n",
    "print('Accuracy %s' % accuracy_score(y_test, y_pred))\n",
    "print('F1-score %s' % f1_score(y_test, y_pred, average=None))\n",
    "print(classification_report(y_test, y_pred))\n",
    "print('Training loss '+str(clf.loss_))\n",
    "clf.fit(X_test, y_test)\n",
    "print('Validation loss '+str(clf.loss_))"
   ]
  },
  {
   "cell_type": "code",
   "execution_count": 12,
   "metadata": {},
   "outputs": [
    {
     "name": "stdout",
     "output_type": "stream",
     "text": [
      "Accuracy 0.8344510763865602\n",
      "F1-score [0.90563658 0.32600683]\n",
      "              precision    recall  f1-score   support\n",
      "\n",
      "           0       0.85      0.97      0.91     24518\n",
      "           1       0.59      0.23      0.33      5304\n",
      "\n",
      "    accuracy                           0.83     29822\n",
      "   macro avg       0.72      0.60      0.62     29822\n",
      "weighted avg       0.81      0.83      0.80     29822\n",
      "\n",
      "Training loss 0.39722891371469715\n",
      "Validation loss 0.39722891371469715\n"
     ]
    }
   ],
   "source": [
    "clf = MLPClassifier(hidden_layer_sizes=(7, 5, 3), alpha=0.1, learning_rate='invscaling', \n",
    "                    activation='tanh', early_stopping=False, momentum=0.9, random_state=0)\n",
    "\n",
    "clf.fit(X_train, y_train)\n",
    "\n",
    "y_pred = clf.predict(X_test)\n",
    "y_pred1 = y_pred\n",
    "y_score1 = clf.predict_log_proba(X_test)\n",
    "print('Accuracy %s' % accuracy_score(y_test, y_pred))\n",
    "print('F1-score %s' % f1_score(y_test, y_pred, average=None))\n",
    "print(classification_report(y_test, y_pred))\n",
    "print('Training loss '+str(clf.loss_))\n",
    "clf.fit(X_train, y_train)\n",
    "print('Validation loss '+str(clf.loss_))"
   ]
  },
  {
   "cell_type": "markdown",
   "metadata": {},
   "source": [
    "**KERAS DEEP NEURAL NETWORKS**"
   ]
  },
  {
   "cell_type": "code",
   "execution_count": 13,
   "metadata": {},
   "outputs": [
    {
     "name": "stderr",
     "output_type": "stream",
     "text": [
      "Using TensorFlow backend.\n",
      "C:\\Users\\user\\anaconda3\\lib\\site-packages\\tensorflow\\python\\framework\\dtypes.py:516: FutureWarning: Passing (type, 1) or '1type' as a synonym of type is deprecated; in a future version of numpy, it will be understood as (type, (1,)) / '(1,)type'.\n",
      "  _np_qint8 = np.dtype([(\"qint8\", np.int8, 1)])\n",
      "C:\\Users\\user\\anaconda3\\lib\\site-packages\\tensorflow\\python\\framework\\dtypes.py:517: FutureWarning: Passing (type, 1) or '1type' as a synonym of type is deprecated; in a future version of numpy, it will be understood as (type, (1,)) / '(1,)type'.\n",
      "  _np_quint8 = np.dtype([(\"quint8\", np.uint8, 1)])\n",
      "C:\\Users\\user\\anaconda3\\lib\\site-packages\\tensorflow\\python\\framework\\dtypes.py:518: FutureWarning: Passing (type, 1) or '1type' as a synonym of type is deprecated; in a future version of numpy, it will be understood as (type, (1,)) / '(1,)type'.\n",
      "  _np_qint16 = np.dtype([(\"qint16\", np.int16, 1)])\n",
      "C:\\Users\\user\\anaconda3\\lib\\site-packages\\tensorflow\\python\\framework\\dtypes.py:519: FutureWarning: Passing (type, 1) or '1type' as a synonym of type is deprecated; in a future version of numpy, it will be understood as (type, (1,)) / '(1,)type'.\n",
      "  _np_quint16 = np.dtype([(\"quint16\", np.uint16, 1)])\n",
      "C:\\Users\\user\\anaconda3\\lib\\site-packages\\tensorflow\\python\\framework\\dtypes.py:520: FutureWarning: Passing (type, 1) or '1type' as a synonym of type is deprecated; in a future version of numpy, it will be understood as (type, (1,)) / '(1,)type'.\n",
      "  _np_qint32 = np.dtype([(\"qint32\", np.int32, 1)])\n",
      "C:\\Users\\user\\anaconda3\\lib\\site-packages\\tensorflow\\python\\framework\\dtypes.py:525: FutureWarning: Passing (type, 1) or '1type' as a synonym of type is deprecated; in a future version of numpy, it will be understood as (type, (1,)) / '(1,)type'.\n",
      "  np_resource = np.dtype([(\"resource\", np.ubyte, 1)])\n",
      "C:\\Users\\user\\anaconda3\\lib\\site-packages\\tensorboard\\compat\\tensorflow_stub\\dtypes.py:541: FutureWarning: Passing (type, 1) or '1type' as a synonym of type is deprecated; in a future version of numpy, it will be understood as (type, (1,)) / '(1,)type'.\n",
      "  _np_qint8 = np.dtype([(\"qint8\", np.int8, 1)])\n",
      "C:\\Users\\user\\anaconda3\\lib\\site-packages\\tensorboard\\compat\\tensorflow_stub\\dtypes.py:542: FutureWarning: Passing (type, 1) or '1type' as a synonym of type is deprecated; in a future version of numpy, it will be understood as (type, (1,)) / '(1,)type'.\n",
      "  _np_quint8 = np.dtype([(\"quint8\", np.uint8, 1)])\n",
      "C:\\Users\\user\\anaconda3\\lib\\site-packages\\tensorboard\\compat\\tensorflow_stub\\dtypes.py:543: FutureWarning: Passing (type, 1) or '1type' as a synonym of type is deprecated; in a future version of numpy, it will be understood as (type, (1,)) / '(1,)type'.\n",
      "  _np_qint16 = np.dtype([(\"qint16\", np.int16, 1)])\n",
      "C:\\Users\\user\\anaconda3\\lib\\site-packages\\tensorboard\\compat\\tensorflow_stub\\dtypes.py:544: FutureWarning: Passing (type, 1) or '1type' as a synonym of type is deprecated; in a future version of numpy, it will be understood as (type, (1,)) / '(1,)type'.\n",
      "  _np_quint16 = np.dtype([(\"quint16\", np.uint16, 1)])\n",
      "C:\\Users\\user\\anaconda3\\lib\\site-packages\\tensorboard\\compat\\tensorflow_stub\\dtypes.py:545: FutureWarning: Passing (type, 1) or '1type' as a synonym of type is deprecated; in a future version of numpy, it will be understood as (type, (1,)) / '(1,)type'.\n",
      "  _np_qint32 = np.dtype([(\"qint32\", np.int32, 1)])\n",
      "C:\\Users\\user\\anaconda3\\lib\\site-packages\\tensorboard\\compat\\tensorflow_stub\\dtypes.py:550: FutureWarning: Passing (type, 1) or '1type' as a synonym of type is deprecated; in a future version of numpy, it will be understood as (type, (1,)) / '(1,)type'.\n",
      "  np_resource = np.dtype([(\"resource\", np.ubyte, 1)])\n"
     ]
    }
   ],
   "source": [
    "from keras.models import Sequential\n",
    "from keras.layers import Dense"
   ]
  },
  {
   "cell_type": "code",
   "execution_count": 14,
   "metadata": {},
   "outputs": [],
   "source": [
    "def build_model():\n",
    "    \n",
    "    n_feature = X_train.shape[1]\n",
    "    model = Sequential()\n",
    "    model.add(Dense(7, input_dim=n_feature, activation='relu'))\n",
    "    model.add(Dense(5, activation='relu'))\n",
    "    model.add(Dense(3, activation='relu'))\n",
    "    model.add(Dense(1,activation='sigmoid'))\n",
    "\n",
    "    model.compile(loss='binary_crossentropy', optimizer='adam', metrics=['accuracy'])\n",
    "    return model"
   ]
  },
  {
   "cell_type": "code",
   "execution_count": 15,
   "metadata": {},
   "outputs": [
    {
     "name": "stdout",
     "output_type": "stream",
     "text": [
      "WARNING:tensorflow:From C:\\Users\\user\\anaconda3\\lib\\site-packages\\tensorflow\\python\\ops\\nn_impl.py:180: add_dispatch_support.<locals>.wrapper (from tensorflow.python.ops.array_ops) is deprecated and will be removed in a future version.\n",
      "Instructions for updating:\n",
      "Use tf.where in 2.0, which has the same broadcast rule as np.where\n",
      "WARNING:tensorflow:From C:\\Users\\user\\anaconda3\\lib\\site-packages\\keras\\backend\\tensorflow_backend.py:422: The name tf.global_variables is deprecated. Please use tf.compat.v1.global_variables instead.\n",
      "\n",
      "Train on 69582 samples, validate on 29822 samples\n",
      "Epoch 1/50\n",
      "69582/69582 [==============================] - 9s 129us/step - loss: 0.4313 - accuracy: 0.8229 - val_loss: 0.4167 - val_accuracy: 0.8240\n",
      "Epoch 2/50\n",
      "69582/69582 [==============================] - 9s 125us/step - loss: 0.4136 - accuracy: 0.8260 - val_loss: 0.4098 - val_accuracy: 0.8270\n",
      "Epoch 3/50\n",
      "69582/69582 [==============================] - 9s 127us/step - loss: 0.4083 - accuracy: 0.8281 - val_loss: 0.4079 - val_accuracy: 0.8274\n",
      "Epoch 4/50\n",
      "69582/69582 [==============================] - 9s 125us/step - loss: 0.4041 - accuracy: 0.8286 - val_loss: 0.4014 - val_accuracy: 0.8292\n",
      "Epoch 5/50\n",
      "69582/69582 [==============================] - 9s 125us/step - loss: 0.4007 - accuracy: 0.8297 - val_loss: 0.4001 - val_accuracy: 0.8288\n",
      "Epoch 6/50\n",
      "69582/69582 [==============================] - 9s 126us/step - loss: 0.3992 - accuracy: 0.8294 - val_loss: 0.4023 - val_accuracy: 0.8278\n",
      "Epoch 7/50\n",
      "69582/69582 [==============================] - 9s 126us/step - loss: 0.3982 - accuracy: 0.8295 - val_loss: 0.3985 - val_accuracy: 0.8297\n",
      "Epoch 8/50\n",
      "69582/69582 [==============================] - 9s 127us/step - loss: 0.3971 - accuracy: 0.8301 - val_loss: 0.3969 - val_accuracy: 0.8301\n",
      "Epoch 9/50\n",
      "69582/69582 [==============================] - 9s 127us/step - loss: 0.3963 - accuracy: 0.8303 - val_loss: 0.3963 - val_accuracy: 0.8299\n",
      "Epoch 10/50\n",
      "69582/69582 [==============================] - 9s 125us/step - loss: 0.3955 - accuracy: 0.8303 - val_loss: 0.3972 - val_accuracy: 0.8289\n",
      "Epoch 11/50\n",
      "69582/69582 [==============================] - 9s 125us/step - loss: 0.3950 - accuracy: 0.8302 - val_loss: 0.3990 - val_accuracy: 0.8297\n",
      "Epoch 12/50\n",
      "69582/69582 [==============================] - 9s 127us/step - loss: 0.3942 - accuracy: 0.8300 - val_loss: 0.3973 - val_accuracy: 0.8295\n",
      "Epoch 13/50\n",
      "69582/69582 [==============================] - 9s 124us/step - loss: 0.3943 - accuracy: 0.8302 - val_loss: 0.3954 - val_accuracy: 0.8299\n",
      "Epoch 14/50\n",
      "69582/69582 [==============================] - 9s 127us/step - loss: 0.3937 - accuracy: 0.8305 - val_loss: 0.3961 - val_accuracy: 0.8296\n",
      "Epoch 15/50\n",
      "69582/69582 [==============================] - 9s 124us/step - loss: 0.3924 - accuracy: 0.8304 - val_loss: 0.3951 - val_accuracy: 0.8295\n",
      "Epoch 16/50\n",
      "69582/69582 [==============================] - 9s 125us/step - loss: 0.3907 - accuracy: 0.8308 - val_loss: 0.3940 - val_accuracy: 0.8301\n",
      "Epoch 17/50\n",
      "69582/69582 [==============================] - 9s 125us/step - loss: 0.3894 - accuracy: 0.8308 - val_loss: 0.3935 - val_accuracy: 0.8297\n",
      "Epoch 18/50\n",
      "69582/69582 [==============================] - 9s 128us/step - loss: 0.3887 - accuracy: 0.8308 - val_loss: 0.3902 - val_accuracy: 0.8327\n",
      "Epoch 19/50\n",
      "69582/69582 [==============================] - 9s 127us/step - loss: 0.3879 - accuracy: 0.8321 - val_loss: 0.3901 - val_accuracy: 0.8312\n",
      "Epoch 20/50\n",
      "69582/69582 [==============================] - 9s 133us/step - loss: 0.3875 - accuracy: 0.8317 - val_loss: 0.3943 - val_accuracy: 0.8300\n",
      "Epoch 21/50\n",
      "69582/69582 [==============================] - 10s 144us/step - loss: 0.3874 - accuracy: 0.8321 - val_loss: 0.3886 - val_accuracy: 0.8303\n",
      "Epoch 22/50\n",
      "69582/69582 [==============================] - 9s 129us/step - loss: 0.3868 - accuracy: 0.8317 - val_loss: 0.3913 - val_accuracy: 0.8311\n",
      "Epoch 23/50\n",
      "69582/69582 [==============================] - 9s 130us/step - loss: 0.3871 - accuracy: 0.8318 - val_loss: 0.3888 - val_accuracy: 0.8309\n",
      "Epoch 24/50\n",
      "69582/69582 [==============================] - 9s 128us/step - loss: 0.3869 - accuracy: 0.8323 - val_loss: 0.3892 - val_accuracy: 0.8303\n",
      "Epoch 25/50\n",
      "69582/69582 [==============================] - 9s 130us/step - loss: 0.3867 - accuracy: 0.8327 - val_loss: 0.3950 - val_accuracy: 0.8273\n",
      "Epoch 26/50\n",
      "69582/69582 [==============================] - 9s 129us/step - loss: 0.3863 - accuracy: 0.8323 - val_loss: 0.3890 - val_accuracy: 0.8326\n",
      "Epoch 27/50\n",
      "69582/69582 [==============================] - 9s 128us/step - loss: 0.3864 - accuracy: 0.8326 - val_loss: 0.3903 - val_accuracy: 0.8333\n",
      "Epoch 28/50\n",
      "69582/69582 [==============================] - 9s 133us/step - loss: 0.3861 - accuracy: 0.8326 - val_loss: 0.3880 - val_accuracy: 0.8322\n",
      "Epoch 29/50\n",
      "69582/69582 [==============================] - 9s 130us/step - loss: 0.3861 - accuracy: 0.8333 - val_loss: 0.3887 - val_accuracy: 0.8342\n",
      "Epoch 30/50\n",
      "69582/69582 [==============================] - 9s 130us/step - loss: 0.3858 - accuracy: 0.8323 - val_loss: 0.3912 - val_accuracy: 0.8289\n",
      "Epoch 31/50\n",
      "69582/69582 [==============================] - 9s 129us/step - loss: 0.3859 - accuracy: 0.8334 - val_loss: 0.3882 - val_accuracy: 0.8322\n",
      "Epoch 32/50\n",
      "69582/69582 [==============================] - 9s 130us/step - loss: 0.3856 - accuracy: 0.8341 - val_loss: 0.3889 - val_accuracy: 0.8330\n",
      "Epoch 33/50\n",
      "69582/69582 [==============================] - 9s 132us/step - loss: 0.3856 - accuracy: 0.8334 - val_loss: 0.3884 - val_accuracy: 0.8338\n",
      "Epoch 34/50\n",
      "69582/69582 [==============================] - 9s 135us/step - loss: 0.3851 - accuracy: 0.8349 - val_loss: 0.3918 - val_accuracy: 0.8295\n",
      "Epoch 35/50\n",
      "69582/69582 [==============================] - 9s 132us/step - loss: 0.3851 - accuracy: 0.8341 - val_loss: 0.3902 - val_accuracy: 0.8321\n",
      "Epoch 36/50\n",
      "69582/69582 [==============================] - 9s 131us/step - loss: 0.3852 - accuracy: 0.8346 - val_loss: 0.3901 - val_accuracy: 0.8309\n",
      "Epoch 37/50\n",
      "69582/69582 [==============================] - 9s 136us/step - loss: 0.3849 - accuracy: 0.8351 - val_loss: 0.3909 - val_accuracy: 0.8328\n",
      "Epoch 38/50\n",
      "69582/69582 [==============================] - 9s 135us/step - loss: 0.3851 - accuracy: 0.8350 - val_loss: 0.3877 - val_accuracy: 0.8341\n",
      "Epoch 39/50\n",
      "69582/69582 [==============================] - 9s 134us/step - loss: 0.3850 - accuracy: 0.8352 - val_loss: 0.3881 - val_accuracy: 0.8348\n",
      "Epoch 40/50\n",
      "69582/69582 [==============================] - 9s 132us/step - loss: 0.3848 - accuracy: 0.8355 - val_loss: 0.3898 - val_accuracy: 0.8305\n",
      "Epoch 41/50\n",
      "69582/69582 [==============================] - 9s 133us/step - loss: 0.3848 - accuracy: 0.8347 - val_loss: 0.3883 - val_accuracy: 0.8332\n",
      "Epoch 42/50\n",
      "69582/69582 [==============================] - 9s 131us/step - loss: 0.3847 - accuracy: 0.8343 - val_loss: 0.3926 - val_accuracy: 0.8307\n",
      "Epoch 43/50\n",
      "69582/69582 [==============================] - 9s 133us/step - loss: 0.3848 - accuracy: 0.8355 - val_loss: 0.3884 - val_accuracy: 0.8339\n",
      "Epoch 44/50\n",
      "69582/69582 [==============================] - 9s 135us/step - loss: 0.3846 - accuracy: 0.8344 - val_loss: 0.3886 - val_accuracy: 0.8338\n",
      "Epoch 45/50\n",
      "69582/69582 [==============================] - 9s 133us/step - loss: 0.3848 - accuracy: 0.8353 - val_loss: 0.3883 - val_accuracy: 0.8344\n",
      "Epoch 46/50\n",
      "69582/69582 [==============================] - 9s 133us/step - loss: 0.3847 - accuracy: 0.8343 - val_loss: 0.3897 - val_accuracy: 0.8325\n",
      "Epoch 47/50\n",
      "69582/69582 [==============================] - 9s 132us/step - loss: 0.3843 - accuracy: 0.8343 - val_loss: 0.3899 - val_accuracy: 0.8345\n",
      "Epoch 48/50\n",
      "69582/69582 [==============================] - 9s 132us/step - loss: 0.3845 - accuracy: 0.8346 - val_loss: 0.3914 - val_accuracy: 0.8310\n",
      "Epoch 49/50\n",
      "69582/69582 [==============================] - 9s 133us/step - loss: 0.3844 - accuracy: 0.8348 - val_loss: 0.3898 - val_accuracy: 0.8319\n",
      "Epoch 50/50\n",
      "69582/69582 [==============================] - 9s 131us/step - loss: 0.3844 - accuracy: 0.8352 - val_loss: 0.3877 - val_accuracy: 0.8350\n"
     ]
    }
   ],
   "source": [
    "model1 = build_model()\n",
    "\n",
    "history1 = model1.fit(X_train, y_train, validation_data=(X_test, y_test), epochs=50, batch_size=10).history"
   ]
  },
  {
   "cell_type": "code",
   "execution_count": 16,
   "metadata": {},
   "outputs": [
    {
     "name": "stdout",
     "output_type": "stream",
     "text": [
      "Train on 69582 samples, validate on 29822 samples\n",
      "Epoch 1/50\n",
      "69582/69582 [==============================] - 2s 33us/step - loss: 0.4415 - accuracy: 0.8221 - val_loss: 0.4239 - val_accuracy: 0.8221\n",
      "Epoch 2/50\n",
      "69582/69582 [==============================] - 2s 29us/step - loss: 0.4204 - accuracy: 0.8221 - val_loss: 0.4185 - val_accuracy: 0.8221\n",
      "Epoch 3/50\n",
      "69582/69582 [==============================] - 2s 28us/step - loss: 0.4158 - accuracy: 0.8221 - val_loss: 0.4148 - val_accuracy: 0.8221\n",
      "Epoch 4/50\n",
      "69582/69582 [==============================] - 2s 29us/step - loss: 0.4122 - accuracy: 0.8221 - val_loss: 0.4126 - val_accuracy: 0.8221\n",
      "Epoch 5/50\n",
      "69582/69582 [==============================] - 2s 28us/step - loss: 0.4095 - accuracy: 0.8260 - val_loss: 0.4093 - val_accuracy: 0.8248\n",
      "Epoch 6/50\n",
      "69582/69582 [==============================] - 2s 29us/step - loss: 0.4071 - accuracy: 0.8272 - val_loss: 0.4080 - val_accuracy: 0.8274\n",
      "Epoch 7/50\n",
      "69582/69582 [==============================] - 2s 28us/step - loss: 0.4049 - accuracy: 0.8273 - val_loss: 0.4067 - val_accuracy: 0.8276\n",
      "Epoch 8/50\n",
      "69582/69582 [==============================] - 2s 27us/step - loss: 0.4037 - accuracy: 0.8271 - val_loss: 0.4043 - val_accuracy: 0.8253\n",
      "Epoch 9/50\n",
      "69582/69582 [==============================] - 2s 29us/step - loss: 0.4021 - accuracy: 0.8272 - val_loss: 0.4033 - val_accuracy: 0.8252\n",
      "Epoch 10/50\n",
      "69582/69582 [==============================] - 2s 28us/step - loss: 0.4010 - accuracy: 0.8276 - val_loss: 0.4027 - val_accuracy: 0.8248\n",
      "Epoch 11/50\n",
      "69582/69582 [==============================] - 2s 28us/step - loss: 0.4003 - accuracy: 0.8288 - val_loss: 0.4023 - val_accuracy: 0.8275\n",
      "Epoch 12/50\n",
      "69582/69582 [==============================] - 2s 28us/step - loss: 0.3997 - accuracy: 0.8289 - val_loss: 0.4013 - val_accuracy: 0.8272\n",
      "Epoch 13/50\n",
      "69582/69582 [==============================] - 2s 29us/step - loss: 0.3989 - accuracy: 0.8298 - val_loss: 0.4013 - val_accuracy: 0.8266\n",
      "Epoch 14/50\n",
      "69582/69582 [==============================] - 2s 28us/step - loss: 0.3985 - accuracy: 0.8299 - val_loss: 0.4011 - val_accuracy: 0.8289\n",
      "Epoch 15/50\n",
      "69582/69582 [==============================] - 2s 28us/step - loss: 0.3980 - accuracy: 0.8304 - val_loss: 0.4006 - val_accuracy: 0.8286\n",
      "Epoch 16/50\n",
      "69582/69582 [==============================] - 2s 29us/step - loss: 0.3976 - accuracy: 0.8307 - val_loss: 0.4009 - val_accuracy: 0.8272\n",
      "Epoch 17/50\n",
      "69582/69582 [==============================] - 2s 28us/step - loss: 0.3972 - accuracy: 0.8310 - val_loss: 0.4003 - val_accuracy: 0.8293\n",
      "Epoch 18/50\n",
      "69582/69582 [==============================] - 2s 28us/step - loss: 0.3971 - accuracy: 0.8310 - val_loss: 0.3999 - val_accuracy: 0.8295\n",
      "Epoch 19/50\n",
      "69582/69582 [==============================] - 2s 28us/step - loss: 0.3968 - accuracy: 0.8308 - val_loss: 0.4005 - val_accuracy: 0.8294\n",
      "Epoch 20/50\n",
      "69582/69582 [==============================] - 2s 29us/step - loss: 0.3967 - accuracy: 0.8309 - val_loss: 0.4000 - val_accuracy: 0.8281\n",
      "Epoch 21/50\n",
      "69582/69582 [==============================] - 2s 29us/step - loss: 0.3966 - accuracy: 0.8308 - val_loss: 0.4006 - val_accuracy: 0.8304\n",
      "Epoch 22/50\n",
      "69582/69582 [==============================] - 2s 30us/step - loss: 0.3966 - accuracy: 0.8308 - val_loss: 0.3998 - val_accuracy: 0.8288\n",
      "Epoch 23/50\n",
      "69582/69582 [==============================] - 2s 29us/step - loss: 0.3964 - accuracy: 0.8305 - val_loss: 0.3999 - val_accuracy: 0.8285\n",
      "Epoch 24/50\n",
      "69582/69582 [==============================] - 2s 29us/step - loss: 0.3963 - accuracy: 0.8307 - val_loss: 0.3997 - val_accuracy: 0.8298\n",
      "Epoch 25/50\n",
      "69582/69582 [==============================] - 2s 28us/step - loss: 0.3961 - accuracy: 0.8309 - val_loss: 0.3999 - val_accuracy: 0.8283\n",
      "Epoch 26/50\n",
      "69582/69582 [==============================] - 2s 28us/step - loss: 0.3960 - accuracy: 0.8310 - val_loss: 0.3997 - val_accuracy: 0.8292\n",
      "Epoch 27/50\n",
      "69582/69582 [==============================] - 2s 29us/step - loss: 0.3961 - accuracy: 0.8309 - val_loss: 0.3997 - val_accuracy: 0.8289\n",
      "Epoch 28/50\n",
      "69582/69582 [==============================] - 2s 28us/step - loss: 0.3959 - accuracy: 0.8311 - val_loss: 0.4003 - val_accuracy: 0.8292\n",
      "Epoch 29/50\n",
      "69582/69582 [==============================] - 2s 29us/step - loss: 0.3956 - accuracy: 0.8306 - val_loss: 0.3996 - val_accuracy: 0.8279\n",
      "Epoch 30/50\n",
      "69582/69582 [==============================] - 2s 28us/step - loss: 0.3955 - accuracy: 0.8306 - val_loss: 0.3999 - val_accuracy: 0.8297\n",
      "Epoch 31/50\n",
      "69582/69582 [==============================] - 2s 28us/step - loss: 0.3954 - accuracy: 0.8312 - val_loss: 0.3991 - val_accuracy: 0.8299\n",
      "Epoch 32/50\n",
      "69582/69582 [==============================] - 2s 29us/step - loss: 0.3951 - accuracy: 0.8308 - val_loss: 0.3993 - val_accuracy: 0.8301\n",
      "Epoch 33/50\n",
      "69582/69582 [==============================] - 2s 28us/step - loss: 0.3951 - accuracy: 0.8308 - val_loss: 0.3999 - val_accuracy: 0.8300\n",
      "Epoch 34/50\n",
      "69582/69582 [==============================] - 2s 27us/step - loss: 0.3950 - accuracy: 0.8307 - val_loss: 0.3987 - val_accuracy: 0.8296\n",
      "Epoch 35/50\n",
      "69582/69582 [==============================] - 2s 28us/step - loss: 0.3950 - accuracy: 0.8313 - val_loss: 0.3999 - val_accuracy: 0.8291\n",
      "Epoch 36/50\n",
      "69582/69582 [==============================] - 2s 28us/step - loss: 0.3950 - accuracy: 0.8316 - val_loss: 0.3983 - val_accuracy: 0.8308\n",
      "Epoch 37/50\n",
      "69582/69582 [==============================] - 2s 28us/step - loss: 0.3949 - accuracy: 0.8317 - val_loss: 0.3990 - val_accuracy: 0.8302\n",
      "Epoch 38/50\n",
      "69582/69582 [==============================] - 2s 29us/step - loss: 0.3947 - accuracy: 0.8316 - val_loss: 0.3990 - val_accuracy: 0.8306\n",
      "Epoch 39/50\n",
      "69582/69582 [==============================] - 2s 28us/step - loss: 0.3948 - accuracy: 0.8315 - val_loss: 0.3981 - val_accuracy: 0.8292\n",
      "Epoch 40/50\n",
      "69582/69582 [==============================] - 2s 28us/step - loss: 0.3946 - accuracy: 0.8313 - val_loss: 0.3985 - val_accuracy: 0.8286\n",
      "Epoch 41/50\n",
      "69582/69582 [==============================] - 2s 29us/step - loss: 0.3945 - accuracy: 0.8314 - val_loss: 0.3985 - val_accuracy: 0.8299\n",
      "Epoch 42/50\n",
      "69582/69582 [==============================] - 2s 30us/step - loss: 0.3945 - accuracy: 0.8320 - val_loss: 0.3973 - val_accuracy: 0.8309\n",
      "Epoch 43/50\n",
      "69582/69582 [==============================] - 2s 30us/step - loss: 0.3942 - accuracy: 0.8312 - val_loss: 0.3973 - val_accuracy: 0.8301\n",
      "Epoch 44/50\n",
      "69582/69582 [==============================] - 2s 29us/step - loss: 0.3939 - accuracy: 0.8318 - val_loss: 0.3980 - val_accuracy: 0.8307\n",
      "Epoch 45/50\n",
      "69582/69582 [==============================] - 2s 29us/step - loss: 0.3938 - accuracy: 0.8317 - val_loss: 0.3979 - val_accuracy: 0.8304\n",
      "Epoch 46/50\n",
      "69582/69582 [==============================] - 2s 28us/step - loss: 0.3937 - accuracy: 0.8322 - val_loss: 0.3980 - val_accuracy: 0.8305\n",
      "Epoch 47/50\n",
      "69582/69582 [==============================] - 2s 31us/step - loss: 0.3937 - accuracy: 0.8319 - val_loss: 0.3970 - val_accuracy: 0.8292\n",
      "Epoch 48/50\n",
      "69582/69582 [==============================] - 2s 28us/step - loss: 0.3934 - accuracy: 0.8316 - val_loss: 0.3967 - val_accuracy: 0.8306\n",
      "Epoch 49/50\n",
      "69582/69582 [==============================] - 2s 28us/step - loss: 0.3932 - accuracy: 0.8322 - val_loss: 0.3971 - val_accuracy: 0.8300\n",
      "Epoch 50/50\n",
      "69582/69582 [==============================] - 2s 28us/step - loss: 0.3930 - accuracy: 0.8314 - val_loss: 0.3962 - val_accuracy: 0.8308\n"
     ]
    }
   ],
   "source": [
    "model2 = build_model()\n",
    "\n",
    "history2 = model2.fit(X_train, y_train, validation_data=(X_test, y_test),epochs=50, batch_size=50).history"
   ]
  },
  {
   "cell_type": "code",
   "execution_count": 17,
   "metadata": {},
   "outputs": [
    {
     "data": {
      "image/png": "[encoded data removed]",
      "text/plain": [
       "<Figure size 432x288 with 1 Axes>"
      ]
     },
     "metadata": {
      "needs_background": "light"
     },
     "output_type": "display_data"
    }
   ],
   "source": [
    "plt.plot(history1['loss'], label='Loss 10')\n",
    "plt.plot(history2['loss'], label='Loss 50')\n",
    "plt.xlabel('Epochs')\n",
    "plt.ylabel('Cross-Entropy')\n",
    "plt.legend()\n",
    "plt.show()"
   ]
  },
  {
   "cell_type": "code",
   "execution_count": 18,
   "metadata": {},
   "outputs": [
    {
     "name": "stdout",
     "output_type": "stream",
     "text": [
      "29822/29822 [==============================] - 0s 16us/step\n",
      "29822/29822 [==============================] - 0s 16us/step\n",
      "Loss 0.387666, Accuracy 0.834954\n",
      "Loss 0.396191, Accuracy 0.830830\n"
     ]
    }
   ],
   "source": [
    "test_loss_1, test_acc_1 = model1.evaluate(X_test, y_test)\n",
    "test_loss_2, test_acc_2 = model2.evaluate(X_test, y_test)\n",
    "\n",
    "print('Loss %f, Accuracy %f' % (test_loss_1, test_acc_1))\n",
    "print('Loss %f, Accuracy %f' % (test_loss_2, test_acc_2))"
   ]
  },
  {
   "cell_type": "code",
   "execution_count": 19,
   "metadata": {},
   "outputs": [
    {
     "name": "stdout",
     "output_type": "stream",
     "text": [
      "Accuracy 0.8221447253705318\n",
      "F1-score [0.90239234 0.        ]\n",
      "              precision    recall  f1-score   support\n",
      "\n",
      "           0       0.82      1.00      0.90     24518\n",
      "           1       0.00      0.00      0.00      5304\n",
      "\n",
      "    accuracy                           0.82     29822\n",
      "   macro avg       0.41      0.50      0.45     29822\n",
      "weighted avg       0.68      0.82      0.74     29822\n",
      "\n"
     ]
    },
    {
     "name": "stderr",
     "output_type": "stream",
     "text": [
      "C:\\Users\\user\\anaconda3\\lib\\site-packages\\sklearn\\metrics\\_classification.py:1245: UndefinedMetricWarning: Precision and F-score are ill-defined and being set to 0.0 in labels with no predicted samples. Use `zero_division` parameter to control this behavior.\n",
      "  _warn_prf(average, modifier, msg_start, len(result))\n",
      "C:\\Users\\user\\anaconda3\\lib\\site-packages\\sklearn\\metrics\\_classification.py:1245: UndefinedMetricWarning: Precision and F-score are ill-defined and being set to 0.0 in labels with no predicted samples. Use `zero_division` parameter to control this behavior.\n",
      "  _warn_prf(average, modifier, msg_start, len(result))\n",
      "C:\\Users\\user\\anaconda3\\lib\\site-packages\\sklearn\\metrics\\_classification.py:1245: UndefinedMetricWarning: Precision and F-score are ill-defined and being set to 0.0 in labels with no predicted samples. Use `zero_division` parameter to control this behavior.\n",
      "  _warn_prf(average, modifier, msg_start, len(result))\n"
     ]
    }
   ],
   "source": [
    "y_pred = model2.predict(X_test).astype(int)\n",
    "\n",
    "print('Accuracy %s' % accuracy_score(y_test, y_pred))\n",
    "print('F1-score %s' % f1_score(y_test, y_pred, average=None))\n",
    "print(classification_report(y_test, y_pred))"
   ]
  },
  {
   "cell_type": "code",
   "execution_count": 20,
   "metadata": {},
   "outputs": [
    {
     "data": {
      "image/png": "[encoded data removed]",
      "text/plain": [
       "<IPython.core.display.Image object>"
      ]
     },
     "execution_count": 20,
     "metadata": {},
     "output_type": "execute_result"
    }
   ],
   "source": [
    "import pydot\n",
    "from keras.utils import plot_model\n",
    "plot_model(model1)"
   ]
  },
  {
   "cell_type": "code",
   "execution_count": 21,
   "metadata": {},
   "outputs": [
    {
     "data": {
      "image/png": "[encoded data removed]",
      "text/plain": [
       "<IPython.core.display.Image object>"
      ]
     },
     "execution_count": 21,
     "metadata": {},
     "output_type": "execute_result"
    }
   ],
   "source": [
    "plot_model(model2)"
   ]
  },
  {
   "cell_type": "code",
   "execution_count": 22,
   "metadata": {},
   "outputs": [
    {
     "name": "stdout",
     "output_type": "stream",
     "text": [
      "Train on 69582 samples, validate on 29822 samples\n",
      "Epoch 1/100\n",
      "69582/69582 [==============================] - 10s 149us/step - loss: 0.4358 - accuracy: 0.8196 - val_loss: 0.4170 - val_accuracy: 0.8221\n",
      "Epoch 2/100\n",
      "69582/69582 [==============================] - 10s 142us/step - loss: 0.4135 - accuracy: 0.8226 - val_loss: 0.4104 - val_accuracy: 0.8239\n",
      "Epoch 3/100\n",
      "69582/69582 [==============================] - 10s 144us/step - loss: 0.4069 - accuracy: 0.8275 - val_loss: 0.4064 - val_accuracy: 0.8295\n",
      "Epoch 4/100\n",
      "69582/69582 [==============================] - 10s 140us/step - loss: 0.4027 - accuracy: 0.8295 - val_loss: 0.4028 - val_accuracy: 0.8285\n",
      "Epoch 5/100\n",
      "69582/69582 [==============================] - 10s 143us/step - loss: 0.3998 - accuracy: 0.8300 - val_loss: 0.4012 - val_accuracy: 0.8305\n",
      "Epoch 6/100\n",
      "69582/69582 [==============================] - 10s 144us/step - loss: 0.3978 - accuracy: 0.8305 - val_loss: 0.3995 - val_accuracy: 0.8307\n",
      "Epoch 7/100\n",
      "69582/69582 [==============================] - 10s 145us/step - loss: 0.3967 - accuracy: 0.8311 - val_loss: 0.3983 - val_accuracy: 0.8313\n",
      "Epoch 8/100\n",
      "69582/69582 [==============================] - 10s 144us/step - loss: 0.3956 - accuracy: 0.8307 - val_loss: 0.3991 - val_accuracy: 0.8306\n",
      "Epoch 9/100\n",
      "69582/69582 [==============================] - 10s 143us/step - loss: 0.3944 - accuracy: 0.8316 - val_loss: 0.3980 - val_accuracy: 0.8310\n",
      "Epoch 10/100\n",
      "69582/69582 [==============================] - 10s 143us/step - loss: 0.3936 - accuracy: 0.8319 - val_loss: 0.3993 - val_accuracy: 0.8286\n",
      "Epoch 11/100\n",
      "69582/69582 [==============================] - 10s 142us/step - loss: 0.3932 - accuracy: 0.8323 - val_loss: 0.3961 - val_accuracy: 0.8333\n",
      "Epoch 12/100\n",
      "69582/69582 [==============================] - 10s 142us/step - loss: 0.3925 - accuracy: 0.8329 - val_loss: 0.3950 - val_accuracy: 0.8329\n",
      "Epoch 13/100\n",
      "69582/69582 [==============================] - 10s 142us/step - loss: 0.3923 - accuracy: 0.8327 - val_loss: 0.3954 - val_accuracy: 0.8331\n",
      "Epoch 14/100\n",
      "69582/69582 [==============================] - 10s 145us/step - loss: 0.3920 - accuracy: 0.8330 - val_loss: 0.3943 - val_accuracy: 0.8342\n",
      "Epoch 15/100\n",
      "69582/69582 [==============================] - 10s 145us/step - loss: 0.3917 - accuracy: 0.8328 - val_loss: 0.3957 - val_accuracy: 0.8333\n",
      "Epoch 16/100\n",
      "69582/69582 [==============================] - 10s 146us/step - loss: 0.3912 - accuracy: 0.8327 - val_loss: 0.3944 - val_accuracy: 0.8329\n",
      "Epoch 17/100\n",
      "69582/69582 [==============================] - 10s 147us/step - loss: 0.3912 - accuracy: 0.8333 - val_loss: 0.3944 - val_accuracy: 0.8310\n",
      "Epoch 18/100\n",
      "69582/69582 [==============================] - 10s 142us/step - loss: 0.3911 - accuracy: 0.8338 - val_loss: 0.3941 - val_accuracy: 0.8345\n",
      "Epoch 19/100\n",
      "69582/69582 [==============================] - 10s 143us/step - loss: 0.3908 - accuracy: 0.8331 - val_loss: 0.3941 - val_accuracy: 0.8338\n",
      "Epoch 20/100\n",
      "69582/69582 [==============================] - 10s 146us/step - loss: 0.3904 - accuracy: 0.8332 - val_loss: 0.3945 - val_accuracy: 0.8340\n",
      "Epoch 21/100\n",
      "69582/69582 [==============================] - 10s 147us/step - loss: 0.3902 - accuracy: 0.8330 - val_loss: 0.3935 - val_accuracy: 0.8320\n",
      "Epoch 22/100\n",
      "69582/69582 [==============================] - 10s 144us/step - loss: 0.3895 - accuracy: 0.8329 - val_loss: 0.3938 - val_accuracy: 0.8335\n",
      "Epoch 23/100\n",
      "69582/69582 [==============================] - 10s 145us/step - loss: 0.3894 - accuracy: 0.8331 - val_loss: 0.3945 - val_accuracy: 0.8320\n",
      "Epoch 24/100\n",
      "69582/69582 [==============================] - 11s 151us/step - loss: 0.3897 - accuracy: 0.8330 - val_loss: 0.3942 - val_accuracy: 0.8336\n",
      "Epoch 25/100\n",
      "69582/69582 [==============================] - 10s 144us/step - loss: 0.3891 - accuracy: 0.8338 - val_loss: 0.3933 - val_accuracy: 0.8325\n",
      "Epoch 26/100\n",
      "69582/69582 [==============================] - 10s 147us/step - loss: 0.3888 - accuracy: 0.8338 - val_loss: 0.3943 - val_accuracy: 0.8326\n",
      "Epoch 27/100\n",
      "69582/69582 [==============================] - 10s 148us/step - loss: 0.3890 - accuracy: 0.8332 - val_loss: 0.3934 - val_accuracy: 0.8329\n",
      "Epoch 28/100\n",
      "69582/69582 [==============================] - 10s 147us/step - loss: 0.3892 - accuracy: 0.8334 - val_loss: 0.3933 - val_accuracy: 0.8318\n",
      "Epoch 29/100\n",
      "69582/69582 [==============================] - 10s 145us/step - loss: 0.3890 - accuracy: 0.8344 - val_loss: 0.3932 - val_accuracy: 0.8316\n",
      "Epoch 30/100\n",
      "69582/69582 [==============================] - 10s 144us/step - loss: 0.3890 - accuracy: 0.8341 - val_loss: 0.3925 - val_accuracy: 0.8330\n",
      "Epoch 31/100\n",
      "69582/69582 [==============================] - 10s 143us/step - loss: 0.3885 - accuracy: 0.8338 - val_loss: 0.3935 - val_accuracy: 0.8327\n",
      "Epoch 32/100\n",
      "69582/69582 [==============================] - 10s 147us/step - loss: 0.3886 - accuracy: 0.8351 - val_loss: 0.3924 - val_accuracy: 0.8321\n",
      "Epoch 33/100\n",
      "69582/69582 [==============================] - 10s 144us/step - loss: 0.3885 - accuracy: 0.8338 - val_loss: 0.3927 - val_accuracy: 0.8320\n",
      "Epoch 34/100\n",
      "69582/69582 [==============================] - 10s 147us/step - loss: 0.3888 - accuracy: 0.8337 - val_loss: 0.3938 - val_accuracy: 0.8327\n",
      "Epoch 35/100\n",
      "69582/69582 [==============================] - 10s 145us/step - loss: 0.3883 - accuracy: 0.8339 - val_loss: 0.3927 - val_accuracy: 0.8323\n",
      "Epoch 36/100\n",
      "69582/69582 [==============================] - 10s 145us/step - loss: 0.3887 - accuracy: 0.8338 - val_loss: 0.3919 - val_accuracy: 0.8332\n",
      "Epoch 37/100\n",
      "69582/69582 [==============================] - 10s 148us/step - loss: 0.3881 - accuracy: 0.8342 - val_loss: 0.3937 - val_accuracy: 0.8338\n",
      "Epoch 38/100\n",
      "69582/69582 [==============================] - 10s 147us/step - loss: 0.3884 - accuracy: 0.8342 - val_loss: 0.3915 - val_accuracy: 0.8330\n",
      "Epoch 39/100\n",
      "69582/69582 [==============================] - 10s 146us/step - loss: 0.3888 - accuracy: 0.8342 - val_loss: 0.3917 - val_accuracy: 0.8337\n",
      "Epoch 40/100\n",
      "69582/69582 [==============================] - 10s 147us/step - loss: 0.3885 - accuracy: 0.8336 - val_loss: 0.3920 - val_accuracy: 0.8334\n",
      "Epoch 41/100\n",
      "69582/69582 [==============================] - 10s 148us/step - loss: 0.3880 - accuracy: 0.8345 - val_loss: 0.3915 - val_accuracy: 0.8324\n",
      "Epoch 42/100\n",
      "69582/69582 [==============================] - 10s 147us/step - loss: 0.3885 - accuracy: 0.8346 - val_loss: 0.3921 - val_accuracy: 0.8335\n",
      "Epoch 43/100\n",
      "69582/69582 [==============================] - 10s 148us/step - loss: 0.3889 - accuracy: 0.8344 - val_loss: 0.3908 - val_accuracy: 0.8349\n",
      "Epoch 44/100\n",
      "69582/69582 [==============================] - 10s 148us/step - loss: 0.3879 - accuracy: 0.8340 - val_loss: 0.3930 - val_accuracy: 0.8332\n",
      "Epoch 45/100\n",
      "69582/69582 [==============================] - 10s 147us/step - loss: 0.3883 - accuracy: 0.8346 - val_loss: 0.3929 - val_accuracy: 0.8315\n",
      "Epoch 46/100\n",
      "69582/69582 [==============================] - 10s 146us/step - loss: 0.3884 - accuracy: 0.8340 - val_loss: 0.3909 - val_accuracy: 0.8333\n",
      "Epoch 47/100\n",
      "69582/69582 [==============================] - 10s 145us/step - loss: 0.3883 - accuracy: 0.8343 - val_loss: 0.3916 - val_accuracy: 0.8343\n",
      "Epoch 48/100\n",
      "69582/69582 [==============================] - 10s 146us/step - loss: 0.3879 - accuracy: 0.8345 - val_loss: 0.3930 - val_accuracy: 0.8349\n",
      "Epoch 49/100\n",
      "69582/69582 [==============================] - 10s 145us/step - loss: 0.3881 - accuracy: 0.8347 - val_loss: 0.3900 - val_accuracy: 0.8332\n",
      "Epoch 50/100\n",
      "69582/69582 [==============================] - 10s 146us/step - loss: 0.3879 - accuracy: 0.8349 - val_loss: 0.3915 - val_accuracy: 0.8344\n",
      "Epoch 51/100\n",
      "69582/69582 [==============================] - 10s 144us/step - loss: 0.3879 - accuracy: 0.8347 - val_loss: 0.3912 - val_accuracy: 0.8344\n",
      "Epoch 52/100\n",
      "69582/69582 [==============================] - 10s 146us/step - loss: 0.3880 - accuracy: 0.8344 - val_loss: 0.3911 - val_accuracy: 0.8330\n",
      "Epoch 53/100\n",
      "69582/69582 [==============================] - 10s 145us/step - loss: 0.3878 - accuracy: 0.8349 - val_loss: 0.3926 - val_accuracy: 0.8343\n",
      "Epoch 54/100\n",
      "69582/69582 [==============================] - 10s 144us/step - loss: 0.3877 - accuracy: 0.8345 - val_loss: 0.3918 - val_accuracy: 0.8318\n",
      "Epoch 55/100\n",
      "69582/69582 [==============================] - 10s 146us/step - loss: 0.3880 - accuracy: 0.8351 - val_loss: 0.3917 - val_accuracy: 0.8314\n",
      "Epoch 56/100\n",
      "69582/69582 [==============================] - 10s 145us/step - loss: 0.3876 - accuracy: 0.8347 - val_loss: 0.3907 - val_accuracy: 0.8353\n",
      "Epoch 57/100\n",
      "69582/69582 [==============================] - 10s 144us/step - loss: 0.3875 - accuracy: 0.8351 - val_loss: 0.3915 - val_accuracy: 0.8336\n",
      "Epoch 58/100\n",
      "69582/69582 [==============================] - 10s 143us/step - loss: 0.3874 - accuracy: 0.8357 - val_loss: 0.3902 - val_accuracy: 0.8360\n",
      "Epoch 59/100\n",
      "69582/69582 [==============================] - 10s 145us/step - loss: 0.3870 - accuracy: 0.8348 - val_loss: 0.3926 - val_accuracy: 0.8338\n",
      "Epoch 60/100\n",
      "69582/69582 [==============================] - 10s 145us/step - loss: 0.3881 - accuracy: 0.8349 - val_loss: 0.3919 - val_accuracy: 0.8322\n",
      "Epoch 61/100\n",
      "69582/69582 [==============================] - 10s 149us/step - loss: 0.3873 - accuracy: 0.8348 - val_loss: 0.3917 - val_accuracy: 0.8322\n",
      "Epoch 62/100\n",
      "69582/69582 [==============================] - 10s 147us/step - loss: 0.3876 - accuracy: 0.8348 - val_loss: 0.3912 - val_accuracy: 0.8336\n",
      "Epoch 63/100\n",
      "69582/69582 [==============================] - 10s 146us/step - loss: 0.3872 - accuracy: 0.8352 - val_loss: 0.3909 - val_accuracy: 0.8331\n",
      "Epoch 64/100\n",
      "69582/69582 [==============================] - 10s 142us/step - loss: 0.3872 - accuracy: 0.8343 - val_loss: 0.3913 - val_accuracy: 0.8344\n",
      "Epoch 65/100\n",
      "69582/69582 [==============================] - 10s 141us/step - loss: 0.3870 - accuracy: 0.8347 - val_loss: 0.3922 - val_accuracy: 0.8341\n",
      "Epoch 66/100\n",
      "69582/69582 [==============================] - 10s 144us/step - loss: 0.3876 - accuracy: 0.8345 - val_loss: 0.3900 - val_accuracy: 0.8345\n",
      "Epoch 67/100\n",
      "69582/69582 [==============================] - 10s 140us/step - loss: 0.3871 - accuracy: 0.8352 - val_loss: 0.3908 - val_accuracy: 0.8348\n",
      "Epoch 68/100\n",
      "69582/69582 [==============================] - 10s 141us/step - loss: 0.3871 - accuracy: 0.8344 - val_loss: 0.3912 - val_accuracy: 0.8328\n",
      "Epoch 69/100\n",
      "69582/69582 [==============================] - 10s 141us/step - loss: 0.3873 - accuracy: 0.8349 - val_loss: 0.3914 - val_accuracy: 0.8338\n",
      "Epoch 70/100\n",
      "69582/69582 [==============================] - 10s 141us/step - loss: 0.3866 - accuracy: 0.8343 - val_loss: 0.3952 - val_accuracy: 0.8319\n",
      "Epoch 71/100\n",
      "69582/69582 [==============================] - 10s 140us/step - loss: 0.3872 - accuracy: 0.8346 - val_loss: 0.3908 - val_accuracy: 0.8359\n",
      "Epoch 72/100\n",
      "69582/69582 [==============================] - 10s 140us/step - loss: 0.3873 - accuracy: 0.8346 - val_loss: 0.3898 - val_accuracy: 0.8337\n",
      "Epoch 73/100\n",
      "69582/69582 [==============================] - 10s 143us/step - loss: 0.3871 - accuracy: 0.8344 - val_loss: 0.3930 - val_accuracy: 0.8337\n",
      "Epoch 74/100\n",
      "69582/69582 [==============================] - 10s 140us/step - loss: 0.3866 - accuracy: 0.8352 - val_loss: 0.3898 - val_accuracy: 0.8353\n",
      "Epoch 75/100\n",
      "69582/69582 [==============================] - 10s 139us/step - loss: 0.3864 - accuracy: 0.8353 - val_loss: 0.3890 - val_accuracy: 0.8361\n",
      "Epoch 76/100\n",
      "69582/69582 [==============================] - 10s 149us/step - loss: 0.3867 - accuracy: 0.8349 - val_loss: 0.3919 - val_accuracy: 0.8324\n",
      "Epoch 77/100\n",
      "69582/69582 [==============================] - 10s 142us/step - loss: 0.3866 - accuracy: 0.8353 - val_loss: 0.3905 - val_accuracy: 0.8338\n",
      "Epoch 78/100\n",
      "69582/69582 [==============================] - 10s 142us/step - loss: 0.3864 - accuracy: 0.8347 - val_loss: 0.3917 - val_accuracy: 0.8328\n",
      "Epoch 79/100\n",
      "69582/69582 [==============================] - 10s 142us/step - loss: 0.3862 - accuracy: 0.8342 - val_loss: 0.3894 - val_accuracy: 0.8337\n",
      "Epoch 80/100\n",
      "69582/69582 [==============================] - 10s 142us/step - loss: 0.3862 - accuracy: 0.8352 - val_loss: 0.3894 - val_accuracy: 0.8348\n",
      "Epoch 81/100\n",
      "69582/69582 [==============================] - 10s 143us/step - loss: 0.3860 - accuracy: 0.8346 - val_loss: 0.3894 - val_accuracy: 0.8318\n",
      "Epoch 82/100\n",
      "69582/69582 [==============================] - 10s 143us/step - loss: 0.3860 - accuracy: 0.8344 - val_loss: 0.3899 - val_accuracy: 0.8348\n",
      "Epoch 83/100\n",
      "69582/69582 [==============================] - 10s 139us/step - loss: 0.3859 - accuracy: 0.8351 - val_loss: 0.3899 - val_accuracy: 0.8333\n",
      "Epoch 84/100\n",
      "69582/69582 [==============================] - 10s 141us/step - loss: 0.3858 - accuracy: 0.8346 - val_loss: 0.3900 - val_accuracy: 0.8344\n",
      "Epoch 85/100\n",
      "69582/69582 [==============================] - 10s 140us/step - loss: 0.3865 - accuracy: 0.8345 - val_loss: 0.3903 - val_accuracy: 0.8328\n",
      "Epoch 86/100\n",
      "69582/69582 [==============================] - 10s 139us/step - loss: 0.3868 - accuracy: 0.8343 - val_loss: 0.3895 - val_accuracy: 0.8343\n",
      "Epoch 87/100\n",
      "69582/69582 [==============================] - 10s 140us/step - loss: 0.3867 - accuracy: 0.8344 - val_loss: 0.3891 - val_accuracy: 0.8355\n",
      "Epoch 88/100\n",
      "69582/69582 [==============================] - 10s 147us/step - loss: 0.3864 - accuracy: 0.8344 - val_loss: 0.3906 - val_accuracy: 0.8348\n",
      "Epoch 89/100\n",
      "69582/69582 [==============================] - 10s 144us/step - loss: 0.3862 - accuracy: 0.8349 - val_loss: 0.3912 - val_accuracy: 0.8361\n",
      "Epoch 90/100\n",
      "69582/69582 [==============================] - 10s 147us/step - loss: 0.3865 - accuracy: 0.8347 - val_loss: 0.3895 - val_accuracy: 0.8354\n",
      "Epoch 91/100\n",
      "69582/69582 [==============================] - 10s 145us/step - loss: 0.3859 - accuracy: 0.8352 - val_loss: 0.3917 - val_accuracy: 0.8341\n",
      "Epoch 92/100\n",
      "69582/69582 [==============================] - 10s 147us/step - loss: 0.3863 - accuracy: 0.8340 - val_loss: 0.3898 - val_accuracy: 0.8334\n",
      "Epoch 93/100\n",
      "69582/69582 [==============================] - 10s 145us/step - loss: 0.3863 - accuracy: 0.8348 - val_loss: 0.3897 - val_accuracy: 0.8356\n",
      "Epoch 94/100\n",
      "69582/69582 [==============================] - 10s 147us/step - loss: 0.3862 - accuracy: 0.8348 - val_loss: 0.3928 - val_accuracy: 0.8355\n",
      "Epoch 95/100\n",
      "69582/69582 [==============================] - 10s 146us/step - loss: 0.3861 - accuracy: 0.8349 - val_loss: 0.3886 - val_accuracy: 0.8359\n",
      "Epoch 96/100\n",
      "69582/69582 [==============================] - 10s 145us/step - loss: 0.3859 - accuracy: 0.8351 - val_loss: 0.3885 - val_accuracy: 0.8355\n",
      "Epoch 97/100\n",
      "69582/69582 [==============================] - 10s 144us/step - loss: 0.3856 - accuracy: 0.8346 - val_loss: 0.3882 - val_accuracy: 0.8346\n",
      "Epoch 98/100\n",
      "69582/69582 [==============================] - 10s 147us/step - loss: 0.3857 - accuracy: 0.8350 - val_loss: 0.3894 - val_accuracy: 0.8337\n",
      "Epoch 99/100\n",
      "69582/69582 [==============================] - 10s 145us/step - loss: 0.3859 - accuracy: 0.8346 - val_loss: 0.3883 - val_accuracy: 0.8344\n",
      "Epoch 100/100\n",
      "69582/69582 [==============================] - 10s 146us/step - loss: 0.3857 - accuracy: 0.8347 - val_loss: 0.3896 - val_accuracy: 0.8334\n"
     ]
    }
   ],
   "source": [
    "model3 = build_model()\n",
    "\n",
    "history3 = model3.fit(X_train, y_train, validation_data=(X_test, y_test), epochs=100, batch_size=10).history"
   ]
  },
  {
   "cell_type": "code",
   "execution_count": 23,
   "metadata": {},
   "outputs": [
    {
     "name": "stdout",
     "output_type": "stream",
     "text": [
      "Train: Loss 0.384425, Accuracy 0.835202\n",
      "Val: Loss 0.387666, Accuracy 0.834954\n"
     ]
    }
   ],
   "source": [
    "print('Train: Loss %f, Accuracy %f' % (history1['loss'][49], history1['accuracy'][49]))\n",
    "print('Val: Loss %f, Accuracy %f' % (history1['val_loss'][49], history1['val_accuracy'][49]))"
   ]
  },
  {
   "cell_type": "code",
   "execution_count": 24,
   "metadata": {},
   "outputs": [
    {
     "name": "stdout",
     "output_type": "stream",
     "text": [
      "Train: Loss 0.393031, Accuracy 0.831436\n",
      "Val: Loss 0.396191, Accuracy 0.830830\n"
     ]
    }
   ],
   "source": [
    "print('Train: Loss %f, Accuracy %f' % (history2['loss'][49], history2['accuracy'][49]))\n",
    "print('Val: Loss %f, Accuracy %f' % (history2['val_loss'][49], history2['val_accuracy'][49]))"
   ]
  },
  {
   "cell_type": "code",
   "execution_count": 25,
   "metadata": {},
   "outputs": [
    {
     "name": "stdout",
     "output_type": "stream",
     "text": [
      "Train: Loss 0.385708, Accuracy 0.834684\n",
      "Val: Loss 0.389621, Accuracy 0.833445\n"
     ]
    }
   ],
   "source": [
    "print('Train: Loss %f, Accuracy %f' % (history3['loss'][99], history3['accuracy'][99]))\n",
    "print('Val: Loss %f, Accuracy %f' % (history3['val_loss'][99], history3['val_accuracy'][99]))"
   ]
  },
  {
   "cell_type": "code",
   "execution_count": 26,
   "metadata": {},
   "outputs": [
    {
     "name": "stdout",
     "output_type": "stream",
     "text": [
      "29822/29822 [==============================] - 0s 14us/step\n",
      "Loss 0.387666, Accuracy 0.834954\n",
      "Loss 0.396191, Accuracy 0.830830\n",
      "Loss 0.389621, Accuracy 0.833445\n"
     ]
    },
    {
     "data": {
      "image/png": "[encoded data removed]",
      "text/plain": [
       "<IPython.core.display.Image object>"
      ]
     },
     "execution_count": 26,
     "metadata": {},
     "output_type": "execute_result"
    }
   ],
   "source": [
    "test_loss_3, test_acc_3 = model3.evaluate(X_test, y_test)\n",
    "\n",
    "print('Loss %f, Accuracy %f' % (test_loss_1, test_acc_1))\n",
    "print('Loss %f, Accuracy %f' % (test_loss_2, test_acc_2))\n",
    "print('Loss %f, Accuracy %f' % (test_loss_3, test_acc_3))\n",
    "plot_model(model3)"
   ]
  },
  {
   "cell_type": "code",
   "execution_count": 27,
   "metadata": {},
   "outputs": [
    {
     "name": "stdout",
     "output_type": "stream",
     "text": [
      "29822/29822 [==============================] - 1s 19us/step\n"
     ]
    }
   ],
   "source": [
    "test_loss_3, test_acc_3 = model3.evaluate(X_test, y_test)"
   ]
  },
  {
   "cell_type": "code",
   "execution_count": 28,
   "metadata": {},
   "outputs": [
    {
     "data": {
      "image/png": "[encoded data removed]",
      "text/plain": [
       "<Figure size 432x288 with 1 Axes>"
      ]
     },
     "metadata": {
      "needs_background": "light"
     },
     "output_type": "display_data"
    }
   ],
   "source": [
    "plt.plot(history3['loss'], label='Train')\n",
    "plt.plot(history3['val_loss'], label='Val')\n",
    "plt.xlabel('Epochs')\n",
    "plt.ylabel('Cross-Entropy')\n",
    "plt.legend()\n",
    "plt.show()"
   ]
  },
  {
   "cell_type": "code",
   "execution_count": 30,
   "metadata": {},
   "outputs": [],
   "source": [
    "#scores = cross_val_score(model3, X_train, y_train, cv=10)\n",
    "#print('Accuracy: %0.4f (+/- %0.3f)' % (scores.mean(), scores.std()))\n",
    "\n",
    "#scores = cross_val_score(model3, X_train, y_train, cv=10, scoring='f1_macro')\n",
    "#print('F1-score: %0.4f (+/- %0.3f)' % (scores.mean(), scores.std()))"
   ]
  },
  {
   "cell_type": "code",
   "execution_count": 32,
   "metadata": {},
   "outputs": [],
   "source": [
    "from ann_visualizer.visualize import ann_viz;\n",
    "#Build your model here\n",
    "#ann_viz(model3,view=True, filename=\"net.gv\")"
   ]
  },
  {
   "cell_type": "markdown",
   "metadata": {},
   "source": [
    "**EARLY STOPPING**"
   ]
  },
  {
   "cell_type": "code",
   "execution_count": 33,
   "metadata": {},
   "outputs": [],
   "source": [
    "from keras.callbacks import EarlyStopping, ModelCheckpoint"
   ]
  },
  {
   "cell_type": "code",
   "execution_count": 34,
   "metadata": {},
   "outputs": [
    {
     "name": "stdout",
     "output_type": "stream",
     "text": [
      "Train on 69582 samples, validate on 29822 samples\n",
      "Epoch 1/100\n",
      "69582/69582 [==============================] - 11s 165us/step - loss: 0.4295 - accuracy: 0.8221 - val_loss: 0.4186 - val_accuracy: 0.8221\n",
      "Epoch 2/100\n",
      "69582/69582 [==============================] - 12s 166us/step - loss: 0.4153 - accuracy: 0.8221 - val_loss: 0.4130 - val_accuracy: 0.8236\n",
      "Epoch 3/100\n",
      "69582/69582 [==============================] - 11s 163us/step - loss: 0.4106 - accuracy: 0.8253 - val_loss: 0.4091 - val_accuracy: 0.8256\n",
      "Epoch 4/100\n",
      "69582/69582 [==============================] - 12s 176us/step - loss: 0.4075 - accuracy: 0.8264 - val_loss: 0.4068 - val_accuracy: 0.8249\n",
      "Epoch 5/100\n",
      "69582/69582 [==============================] - 11s 163us/step - loss: 0.4046 - accuracy: 0.8257 - val_loss: 0.4037 - val_accuracy: 0.8244\n",
      "Epoch 6/100\n",
      "69582/69582 [==============================] - 12s 169us/step - loss: 0.4023 - accuracy: 0.8266 - val_loss: 0.4014 - val_accuracy: 0.8259\n",
      "Epoch 7/100\n",
      "69582/69582 [==============================] - 11s 162us/step - loss: 0.4002 - accuracy: 0.8260 - val_loss: 0.4010 - val_accuracy: 0.8268\n",
      "Epoch 8/100\n",
      "69582/69582 [==============================] - 11s 159us/step - loss: 0.3985 - accuracy: 0.8260 - val_loss: 0.3987 - val_accuracy: 0.8258\n",
      "Epoch 9/100\n",
      "69582/69582 [==============================] - 11s 160us/step - loss: 0.3969 - accuracy: 0.8261 - val_loss: 0.3987 - val_accuracy: 0.8252\n",
      "Epoch 10/100\n",
      "69582/69582 [==============================] - 11s 161us/step - loss: 0.3957 - accuracy: 0.8256 - val_loss: 0.3978 - val_accuracy: 0.8237\n",
      "Epoch 11/100\n",
      "69582/69582 [==============================] - 11s 160us/step - loss: 0.3949 - accuracy: 0.8266 - val_loss: 0.3962 - val_accuracy: 0.8240\n",
      "Epoch 12/100\n",
      "69582/69582 [==============================] - 11s 161us/step - loss: 0.3933 - accuracy: 0.8257 - val_loss: 0.3955 - val_accuracy: 0.8241\n",
      "Epoch 13/100\n",
      "69582/69582 [==============================] - 11s 158us/step - loss: 0.3926 - accuracy: 0.8273 - val_loss: 0.3948 - val_accuracy: 0.8226\n",
      "Epoch 14/100\n",
      "69582/69582 [==============================] - 11s 157us/step - loss: 0.3920 - accuracy: 0.8279 - val_loss: 0.3954 - val_accuracy: 0.8244\n",
      "Epoch 15/100\n",
      "69582/69582 [==============================] - 11s 156us/step - loss: 0.3912 - accuracy: 0.8286 - val_loss: 0.3948 - val_accuracy: 0.8261\n",
      "Epoch 16/100\n",
      "69582/69582 [==============================] - 11s 158us/step - loss: 0.3910 - accuracy: 0.8281 - val_loss: 0.3957 - val_accuracy: 0.8258\n",
      "Epoch 17/100\n",
      "69582/69582 [==============================] - 11s 157us/step - loss: 0.3905 - accuracy: 0.8299 - val_loss: 0.3923 - val_accuracy: 0.8261\n",
      "Epoch 18/100\n",
      "69582/69582 [==============================] - 11s 158us/step - loss: 0.3897 - accuracy: 0.8302 - val_loss: 0.3952 - val_accuracy: 0.8254\n",
      "Epoch 19/100\n",
      "69582/69582 [==============================] - 11s 157us/step - loss: 0.3895 - accuracy: 0.8297 - val_loss: 0.3923 - val_accuracy: 0.8279\n",
      "Epoch 20/100\n",
      "69582/69582 [==============================] - 11s 155us/step - loss: 0.3894 - accuracy: 0.8309 - val_loss: 0.3948 - val_accuracy: 0.8268\n",
      "Epoch 21/100\n",
      "69582/69582 [==============================] - 11s 155us/step - loss: 0.3894 - accuracy: 0.8304 - val_loss: 0.3920 - val_accuracy: 0.8295\n",
      "Epoch 22/100\n",
      "69582/69582 [==============================] - 11s 156us/step - loss: 0.3887 - accuracy: 0.8306 - val_loss: 0.3936 - val_accuracy: 0.8297\n",
      "Epoch 23/100\n",
      "69582/69582 [==============================] - 11s 154us/step - loss: 0.3883 - accuracy: 0.8311 - val_loss: 0.3904 - val_accuracy: 0.8307\n",
      "Epoch 24/100\n",
      "69582/69582 [==============================] - 11s 157us/step - loss: 0.3884 - accuracy: 0.8311 - val_loss: 0.3916 - val_accuracy: 0.8282\n",
      "Epoch 25/100\n",
      "69582/69582 [==============================] - 11s 158us/step - loss: 0.3883 - accuracy: 0.8311 - val_loss: 0.3919 - val_accuracy: 0.8301\n",
      "Epoch 26/100\n",
      "69582/69582 [==============================] - 11s 157us/step - loss: 0.3879 - accuracy: 0.8315 - val_loss: 0.3906 - val_accuracy: 0.8277\n",
      "Epoch 27/100\n",
      "69582/69582 [==============================] - 11s 159us/step - loss: 0.3873 - accuracy: 0.8319 - val_loss: 0.3908 - val_accuracy: 0.8283\n",
      "Epoch 28/100\n",
      "69582/69582 [==============================] - 11s 157us/step - loss: 0.3879 - accuracy: 0.8311 - val_loss: 0.3909 - val_accuracy: 0.8293\n",
      "Epoch 29/100\n",
      "69582/69582 [==============================] - 11s 160us/step - loss: 0.3876 - accuracy: 0.8313 - val_loss: 0.3915 - val_accuracy: 0.8296\n",
      "Epoch 30/100\n",
      "69582/69582 [==============================] - 11s 156us/step - loss: 0.3875 - accuracy: 0.8311 - val_loss: 0.3899 - val_accuracy: 0.8293\n",
      "Epoch 31/100\n",
      "69582/69582 [==============================] - 11s 161us/step - loss: 0.3869 - accuracy: 0.8328 - val_loss: 0.3923 - val_accuracy: 0.8301\n",
      "Epoch 32/100\n",
      "69582/69582 [==============================] - 11s 153us/step - loss: 0.3871 - accuracy: 0.8317 - val_loss: 0.3919 - val_accuracy: 0.8288\n",
      "Epoch 33/100\n",
      "69582/69582 [==============================] - 11s 151us/step - loss: 0.3871 - accuracy: 0.8321 - val_loss: 0.3903 - val_accuracy: 0.8315\n",
      "Epoch 34/100\n",
      "69582/69582 [==============================] - 10s 148us/step - loss: 0.3871 - accuracy: 0.8322 - val_loss: 0.3902 - val_accuracy: 0.8323\n",
      "Epoch 35/100\n",
      "69582/69582 [==============================] - 11s 151us/step - loss: 0.3868 - accuracy: 0.8330 - val_loss: 0.3910 - val_accuracy: 0.8306\n",
      "Epoch 36/100\n",
      "69582/69582 [==============================] - 10s 147us/step - loss: 0.3869 - accuracy: 0.8328 - val_loss: 0.3903 - val_accuracy: 0.8296\n",
      "Epoch 37/100\n",
      "69582/69582 [==============================] - 10s 141us/step - loss: 0.3866 - accuracy: 0.8329 - val_loss: 0.3921 - val_accuracy: 0.8267\n",
      "Epoch 38/100\n",
      "69582/69582 [==============================] - 10s 143us/step - loss: 0.3870 - accuracy: 0.8323 - val_loss: 0.3910 - val_accuracy: 0.8301\n",
      "Epoch 39/100\n",
      "69582/69582 [==============================] - 10s 143us/step - loss: 0.3868 - accuracy: 0.8326 - val_loss: 0.3914 - val_accuracy: 0.8280\n",
      "Epoch 40/100\n",
      "69582/69582 [==============================] - 10s 147us/step - loss: 0.3864 - accuracy: 0.8336 - val_loss: 0.3934 - val_accuracy: 0.8300\n"
     ]
    }
   ],
   "source": [
    "es = EarlyStopping(monitor='val_loss', patience=10)\n",
    "mc = ModelCheckpoint('best_model_NOREG.h5', monitor='val_loss', save_best_only=True)\n",
    "\n",
    "model4 = build_model()\n",
    "history4 = model4.fit(X_train, y_train, validation_data=(X_test, y_test), epochs=100, \n",
    "                      batch_size=10, callbacks=[es,mc]).history"
   ]
  },
  {
   "cell_type": "code",
   "execution_count": 35,
   "metadata": {},
   "outputs": [
    {
     "name": "stdout",
     "output_type": "stream",
     "text": [
      "29822/29822 [==============================] - 0s 17us/step\n",
      "Loss 0.387666, Accuracy 0.834954\n",
      "Loss 0.396191, Accuracy 0.830830\n",
      "Loss 0.389621, Accuracy 0.833445\n",
      "Loss 0.393423, Accuracy 0.829991\n"
     ]
    }
   ],
   "source": [
    "test_loss_4, test_acc_4 = model4.evaluate(X_test, y_test)\n",
    "\n",
    "print('Loss %f, Accuracy %f' % (test_loss_1, test_acc_1))\n",
    "print('Loss %f, Accuracy %f' % (test_loss_2, test_acc_2))\n",
    "print('Loss %f, Accuracy %f' % (test_loss_3, test_acc_3))\n",
    "print('Loss %f, Accuracy %f' % (test_loss_4, test_acc_4))"
   ]
  },
  {
   "cell_type": "markdown",
   "metadata": {},
   "source": [
    "**L2 REGULARIZATION**"
   ]
  },
  {
   "cell_type": "code",
   "execution_count": 36,
   "metadata": {},
   "outputs": [],
   "source": [
    "from keras.regularizers import l2\n",
    "\n",
    "def build_L2_model():\n",
    "    # define the model\n",
    "    model = Sequential()\n",
    "\n",
    "    n_feature = X_train.shape[1]\n",
    "    model.add(Dense(7, activation='relu', input_shape=(n_feature,), kernel_regularizer=l2(0.01)))\n",
    "    model.add(Dense(5, activation='relu', kernel_regularizer=l2(0.01)))\n",
    "    model.add(Dense(3, activation='relu', kernel_regularizer=l2(0.01)))\n",
    "    model.add(Dense(1, activation='sigmoid', kernel_regularizer=l2(0.01)))\n",
    "\n",
    "    #compile the model\n",
    "    model.compile(loss='binary_crossentropy', optimizer='adam', metrics=['accuracy'])\n",
    "    \n",
    "    return model"
   ]
  },
  {
   "cell_type": "code",
   "execution_count": 37,
   "metadata": {},
   "outputs": [
    {
     "name": "stdout",
     "output_type": "stream",
     "text": [
      "Train on 69582 samples, validate on 29822 samples\n",
      "Epoch 1/1000\n",
      "69582/69582 [==============================] - 10s 150us/step - loss: 0.4836 - accuracy: 0.8192 - val_loss: 0.4570 - val_accuracy: 0.8221\n",
      "Epoch 2/1000\n",
      "69582/69582 [==============================] - 10s 149us/step - loss: 0.4571 - accuracy: 0.8221 - val_loss: 0.4567 - val_accuracy: 0.8221\n",
      "Epoch 3/1000\n",
      "69582/69582 [==============================] - 12s 169us/step - loss: 0.4567 - accuracy: 0.8221 - val_loss: 0.4561 - val_accuracy: 0.8221\n",
      "Epoch 4/1000\n",
      "69582/69582 [==============================] - 11s 160us/step - loss: 0.4566 - accuracy: 0.8221 - val_loss: 0.4580 - val_accuracy: 0.8221\n",
      "Epoch 5/1000\n",
      "69582/69582 [==============================] - 11s 161us/step - loss: 0.4565 - accuracy: 0.8221 - val_loss: 0.4564 - val_accuracy: 0.8221\n",
      "Epoch 6/1000\n",
      "69582/69582 [==============================] - 11s 161us/step - loss: 0.4566 - accuracy: 0.8221 - val_loss: 0.4562 - val_accuracy: 0.8221\n",
      "Epoch 7/1000\n",
      "69582/69582 [==============================] - 11s 159us/step - loss: 0.4564 - accuracy: 0.8221 - val_loss: 0.4579 - val_accuracy: 0.8221\n",
      "Epoch 8/1000\n",
      "69582/69582 [==============================] - 11s 159us/step - loss: 0.4565 - accuracy: 0.8221 - val_loss: 0.4576 - val_accuracy: 0.8221\n",
      "Epoch 9/1000\n",
      "69582/69582 [==============================] - 11s 161us/step - loss: 0.4566 - accuracy: 0.8221 - val_loss: 0.4566 - val_accuracy: 0.8221\n",
      "Epoch 10/1000\n",
      "69582/69582 [==============================] - 11s 159us/step - loss: 0.4567 - accuracy: 0.8221 - val_loss: 0.4569 - val_accuracy: 0.8221\n",
      "Epoch 11/1000\n",
      "69582/69582 [==============================] - 11s 161us/step - loss: 0.4563 - accuracy: 0.8221 - val_loss: 0.4570 - val_accuracy: 0.8221\n",
      "Epoch 12/1000\n",
      "69582/69582 [==============================] - 11s 162us/step - loss: 0.4565 - accuracy: 0.8221 - val_loss: 0.4566 - val_accuracy: 0.8221\n",
      "Epoch 13/1000\n",
      "69582/69582 [==============================] - 11s 161us/step - loss: 0.4565 - accuracy: 0.8221 - val_loss: 0.4562 - val_accuracy: 0.8221\n"
     ]
    }
   ],
   "source": [
    "mc = ModelCheckpoint('best_model_L2.h5', monitor='val_loss', save_best_only=True)\n",
    "\n",
    "L2_model = build_L2_model()\n",
    "h_L2 = L2_model.fit(X_train, y_train, validation_data=(X_test, y_test), epochs=1000, \n",
    "                    batch_size=10, callbacks=[es,mc]).history"
   ]
  },
  {
   "cell_type": "code",
   "execution_count": 38,
   "metadata": {},
   "outputs": [],
   "source": [
    "from keras.layers import Dropout\n",
    "\n",
    "def build_DROPOUT_model():\n",
    "    # define the model\n",
    "    model = Sequential()\n",
    "\n",
    "    n_feature = X_train.shape[1]\n",
    "    h_dim=100\n",
    "    model.add(Dense(7, activation='relu', input_shape=(n_feature,)))\n",
    "    model.add(Dropout(0.2))\n",
    "    model.add(Dense(5, activation='relu'))\n",
    "    model.add(Dropout(0.2))\n",
    "    model.add(Dense(3, activation='relu'))\n",
    "    model.add(Dropout(0.2))\n",
    "    model.add(Dense(1, activation='sigmoid'))\n",
    "    \n",
    "    #compile the model\n",
    "    model.compile(loss='binary_crossentropy', optimizer='adam', metrics=['accuracy'])\n",
    "    \n",
    "    return model"
   ]
  },
  {
   "cell_type": "code",
   "execution_count": 39,
   "metadata": {},
   "outputs": [
    {
     "name": "stdout",
     "output_type": "stream",
     "text": [
      "Train on 69582 samples, validate on 29822 samples\n",
      "Epoch 1/1000\n",
      "69582/69582 [==============================] - 14s 200us/step - loss: 0.4598 - accuracy: 0.8221 - val_loss: 0.4270 - val_accuracy: 0.8221\n",
      "Epoch 2/1000\n",
      "69582/69582 [==============================] - 13s 191us/step - loss: 0.4381 - accuracy: 0.8221 - val_loss: 0.4261 - val_accuracy: 0.8221\n",
      "Epoch 3/1000\n",
      "69582/69582 [==============================] - 13s 192us/step - loss: 0.4343 - accuracy: 0.8221 - val_loss: 0.4223 - val_accuracy: 0.8221\n",
      "Epoch 4/1000\n",
      "69582/69582 [==============================] - 13s 193us/step - loss: 0.4329 - accuracy: 0.8221 - val_loss: 0.4217 - val_accuracy: 0.8221\n",
      "Epoch 5/1000\n",
      "69582/69582 [==============================] - 13s 193us/step - loss: 0.4322 - accuracy: 0.8221 - val_loss: 0.4208 - val_accuracy: 0.8221\n",
      "Epoch 6/1000\n",
      "69582/69582 [==============================] - 13s 193us/step - loss: 0.4320 - accuracy: 0.8221 - val_loss: 0.4224 - val_accuracy: 0.8221\n",
      "Epoch 7/1000\n",
      "69582/69582 [==============================] - 14s 199us/step - loss: 0.4306 - accuracy: 0.8221 - val_loss: 0.4190 - val_accuracy: 0.8221\n",
      "Epoch 8/1000\n",
      "69582/69582 [==============================] - 14s 196us/step - loss: 0.4288 - accuracy: 0.8221 - val_loss: 0.4179 - val_accuracy: 0.8221\n",
      "Epoch 9/1000\n",
      "69582/69582 [==============================] - 14s 195us/step - loss: 0.4291 - accuracy: 0.8221 - val_loss: 0.4188 - val_accuracy: 0.8221\n",
      "Epoch 10/1000\n",
      "69582/69582 [==============================] - 14s 196us/step - loss: 0.4280 - accuracy: 0.8221 - val_loss: 0.4162 - val_accuracy: 0.8221\n",
      "Epoch 11/1000\n",
      "69582/69582 [==============================] - 13s 193us/step - loss: 0.4291 - accuracy: 0.8221 - val_loss: 0.4165 - val_accuracy: 0.8221\n",
      "Epoch 12/1000\n",
      "69582/69582 [==============================] - 13s 193us/step - loss: 0.4288 - accuracy: 0.8221 - val_loss: 0.4169 - val_accuracy: 0.8221\n",
      "Epoch 13/1000\n",
      "69582/69582 [==============================] - 14s 195us/step - loss: 0.4282 - accuracy: 0.8221 - val_loss: 0.4171 - val_accuracy: 0.8221\n",
      "Epoch 14/1000\n",
      "69582/69582 [==============================] - 14s 194us/step - loss: 0.4275 - accuracy: 0.8221 - val_loss: 0.4158 - val_accuracy: 0.8221\n",
      "Epoch 15/1000\n",
      "69582/69582 [==============================] - 14s 202us/step - loss: 0.4279 - accuracy: 0.8221 - val_loss: 0.4157 - val_accuracy: 0.8221\n",
      "Epoch 16/1000\n",
      "69582/69582 [==============================] - 14s 205us/step - loss: 0.4267 - accuracy: 0.8221 - val_loss: 0.4147 - val_accuracy: 0.8221\n",
      "Epoch 17/1000\n",
      "69582/69582 [==============================] - 14s 203us/step - loss: 0.4263 - accuracy: 0.8221 - val_loss: 0.4131 - val_accuracy: 0.8221\n",
      "Epoch 18/1000\n",
      "69582/69582 [==============================] - 16s 227us/step - loss: 0.4257 - accuracy: 0.8221 - val_loss: 0.4134 - val_accuracy: 0.8221\n",
      "Epoch 19/1000\n",
      "69582/69582 [==============================] - 14s 205us/step - loss: 0.4251 - accuracy: 0.8221 - val_loss: 0.4135 - val_accuracy: 0.8221\n",
      "Epoch 20/1000\n",
      "69582/69582 [==============================] - 15s 215us/step - loss: 0.4265 - accuracy: 0.8221 - val_loss: 0.4136 - val_accuracy: 0.8221\n",
      "Epoch 21/1000\n",
      "69582/69582 [==============================] - 14s 204us/step - loss: 0.4260 - accuracy: 0.8221 - val_loss: 0.4147 - val_accuracy: 0.8221\n",
      "Epoch 22/1000\n",
      "69582/69582 [==============================] - 14s 200us/step - loss: 0.4258 - accuracy: 0.8221 - val_loss: 0.4139 - val_accuracy: 0.8221\n",
      "Epoch 23/1000\n",
      "69582/69582 [==============================] - 14s 198us/step - loss: 0.4251 - accuracy: 0.8221 - val_loss: 0.4133 - val_accuracy: 0.8221\n",
      "Epoch 24/1000\n",
      "69582/69582 [==============================] - 13s 187us/step - loss: 0.4252 - accuracy: 0.8221 - val_loss: 0.4133 - val_accuracy: 0.8221\n",
      "Epoch 25/1000\n",
      "69582/69582 [==============================] - 13s 186us/step - loss: 0.4247 - accuracy: 0.8221 - val_loss: 0.4136 - val_accuracy: 0.8221\n",
      "Epoch 26/1000\n",
      "69582/69582 [==============================] - 13s 185us/step - loss: 0.4247 - accuracy: 0.8221 - val_loss: 0.4128 - val_accuracy: 0.8221\n",
      "Epoch 27/1000\n",
      "69582/69582 [==============================] - 13s 186us/step - loss: 0.4243 - accuracy: 0.8221 - val_loss: 0.4137 - val_accuracy: 0.8221\n",
      "Epoch 28/1000\n",
      "69582/69582 [==============================] - 13s 185us/step - loss: 0.4248 - accuracy: 0.8221 - val_loss: 0.4138 - val_accuracy: 0.8221\n",
      "Epoch 29/1000\n",
      "69582/69582 [==============================] - 13s 186us/step - loss: 0.4248 - accuracy: 0.8221 - val_loss: 0.4154 - val_accuracy: 0.8221\n",
      "Epoch 30/1000\n",
      "69582/69582 [==============================] - 13s 186us/step - loss: 0.4244 - accuracy: 0.8221 - val_loss: 0.4139 - val_accuracy: 0.8221\n",
      "Epoch 31/1000\n",
      "69582/69582 [==============================] - 13s 184us/step - loss: 0.4239 - accuracy: 0.8221 - val_loss: 0.4135 - val_accuracy: 0.8221\n",
      "Epoch 32/1000\n",
      "69582/69582 [==============================] - 13s 185us/step - loss: 0.4240 - accuracy: 0.8221 - val_loss: 0.4132 - val_accuracy: 0.8221\n",
      "Epoch 33/1000\n",
      "69582/69582 [==============================] - 13s 185us/step - loss: 0.4250 - accuracy: 0.8221 - val_loss: 0.4139 - val_accuracy: 0.8221\n",
      "Epoch 34/1000\n",
      "69582/69582 [==============================] - 13s 184us/step - loss: 0.4247 - accuracy: 0.8221 - val_loss: 0.4137 - val_accuracy: 0.8221\n",
      "Epoch 35/1000\n",
      "69582/69582 [==============================] - 13s 185us/step - loss: 0.4247 - accuracy: 0.8221 - val_loss: 0.4139 - val_accuracy: 0.8221\n",
      "Epoch 36/1000\n",
      "69582/69582 [==============================] - 13s 182us/step - loss: 0.4248 - accuracy: 0.8221 - val_loss: 0.4133 - val_accuracy: 0.8221\n"
     ]
    }
   ],
   "source": [
    "mc = ModelCheckpoint('best_model_DROPOUT.h5', monitor='val_loss', save_best_only=True)\n",
    "\n",
    "DROPOUT_model = build_DROPOUT_model()\n",
    "h_DROPOUT = DROPOUT_model.fit(X_train, y_train, validation_data=(X_test, y_test), \n",
    "                              epochs=1000, batch_size=10, callbacks=[es,mc]).history"
   ]
  },
  {
   "cell_type": "code",
   "execution_count": 40,
   "metadata": {},
   "outputs": [
    {
     "name": "stdout",
     "output_type": "stream",
     "text": [
      "29822/29822 [==============================] - 1s 25us/step\n",
      "29822/29822 [==============================] - 1s 27us/step\n",
      "29822/29822 [==============================] - 1s 26us/step\n"
     ]
    }
   ],
   "source": [
    "# laod best models and test them\n",
    "from keras.models import load_model\n",
    "\n",
    "best_NOREG_model = load_model('best_model_NOREG.h5')\n",
    "best_L2_model = load_model('best_model_L2.h5')\n",
    "best_DROPOUT_model = load_model('best_model_DROPOUT.h5')\n",
    "\n",
    "loss_NOREG, acc_NOREG = best_NOREG_model.evaluate(X_test, y_test)\n",
    "loss_L2, acc_L2 = best_L2_model.evaluate(X_test, y_test)\n",
    "loss_DROPOUT, acc_DROPOUT = best_DROPOUT_model.evaluate(X_test, y_test)"
   ]
  },
  {
   "cell_type": "code",
   "execution_count": 41,
   "metadata": {},
   "outputs": [
    {
     "name": "stdout",
     "output_type": "stream",
     "text": [
      "Loss 0.389872, Accuracy 0.829287\n",
      "Loss 0.456146, Accuracy 0.822145\n",
      "Loss 0.412811, Accuracy 0.822145\n"
     ]
    }
   ],
   "source": [
    "print('Loss %f, Accuracy %f' % (loss_NOREG, acc_NOREG))\n",
    "print('Loss %f, Accuracy %f' % (loss_L2, acc_L2))\n",
    "print('Loss %f, Accuracy %f' % (loss_DROPOUT, acc_DROPOUT))"
   ]
  },
  {
   "cell_type": "code",
   "execution_count": null,
   "metadata": {},
   "outputs": [],
   "source": []
  },
  {
   "cell_type": "code",
   "execution_count": null,
   "metadata": {},
   "outputs": [],
   "source": []
  }
 ],
 "metadata": {
  "kernelspec": {
   "display_name": "Python 3",
   "language": "python",
   "name": "python3"
  },
  "language_info": {
   "codemirror_mode": {
    "name": "ipython",
    "version": 3
   },
   "file_extension": ".py",
   "mimetype": "text/x-python",
   "name": "python",
   "nbconvert_exporter": "python",
   "pygments_lexer": "ipython3",
   "version": "3.7.6"
  }
 },
 "nbformat": 4,
 "nbformat_minor": 4
}
